{
 "cells": [
  {
   "cell_type": "markdown",
   "metadata": {},
   "source": [
    "<img src=\"../ml/图片/1248148783.jpg\">"
   ]
  },
  {
   "cell_type": "markdown",
   "metadata": {},
   "source": [
    "通常我们说的深度学习是指深度神经网络模型。至于概率图部分的深度模型，模型太过于复杂。"
   ]
  },
  {
   "cell_type": "markdown",
   "metadata": {},
   "source": [
    "MLP：多层感知机\n",
    "\n",
    "GAN: 生成对抗网络\n",
    "\n",
    "VAE：变分自编码\n",
    "\n",
    "GNN：图神经网络"
   ]
  },
  {
   "cell_type": "markdown",
   "metadata": {},
   "source": [
    "<img src=\"../ml/图片/1039322856.jpg\">"
   ]
  },
  {
   "cell_type": "markdown",
   "metadata": {},
   "source": [
    "现在所说的DL都是从2006年后的开始的。"
   ]
  },
  {
   "cell_type": "markdown",
   "metadata": {},
   "source": [
    "深度学习飞速发展的原因：\n",
    "\n",
    "1、大数据\n",
    "\n",
    "2、分布式计算\n",
    "\n",
    "3、硬件 GPU、TPU等\n",
    "\n",
    "当然DL最火的核心原因是由于他的分类或者回归或者其他任务的效果比SVM、LR等基本的ML算法效果更好。\n",
    "\n",
    "未来DL肯定还是主流，不过DL会融合SVM、PGM等知识。"
   ]
  },
  {
   "cell_type": "markdown",
   "metadata": {},
   "source": [
    "异或运算 XOR：相同为0，不同为1 。\n",
    "\n",
    "神经网络本质上是一个复杂的复合函数，包含很多与或非运算\n",
    "\n",
    "<img src= \"../ml/图片/.jpg\">"
   ]
  },
  {
   "cell_type": "markdown",
   "metadata": {},
   "source": [
    "### 前馈神经网络、BP神经网络、卷积神经网络的区别与联系"
   ]
  },
  {
   "cell_type": "code",
   "execution_count": null,
   "metadata": {
    "collapsed": true
   },
   "outputs": [],
   "source": []
  }
 ],
 "metadata": {
  "kernelspec": {
   "display_name": "Python 3",
   "language": "python",
   "name": "python3"
  },
  "language_info": {
   "codemirror_mode": {
    "name": "ipython",
    "version": 3
   },
   "file_extension": ".py",
   "mimetype": "text/x-python",
   "name": "python",
   "nbconvert_exporter": "python",
   "pygments_lexer": "ipython3",
   "version": "3.6.3"
  }
 },
 "nbformat": 4,
 "nbformat_minor": 2
}
