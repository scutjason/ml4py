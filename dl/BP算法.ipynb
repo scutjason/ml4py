{
 "cells": [
  {
   "cell_type": "markdown",
   "metadata": {},
   "source": [
    "假设，你有这样一个网络层："
   ]
  },
  {
   "cell_type": "markdown",
   "metadata": {},
   "source": [
    "<img src=\"img/bp1.png\">"
   ]
  },
  {
   "cell_type": "markdown",
   "metadata": {},
   "source": [
    "第一层是输入层，包含两个神经元i1，i2，和截距项b1；第二层是隐含层，包含两个神经元h1,h2和截距项b2，第三层是输出o1,o2，每条线上标的wi是层与层之间连接的权重，激活函数我们默认为sigmoid函数。\n",
    "\n",
    "　　现在对他们赋上初值，如下图："
   ]
  },
  {
   "cell_type": "markdown",
   "metadata": {},
   "source": [
    "<img src=\"img/bp2.png\">"
   ]
  },
  {
   "cell_type": "markdown",
   "metadata": {},
   "source": [
    "　其中，输入数据  i1=0.05，i2=0.10;\n",
    "\n",
    "　　　　　输出数据 o1=0.01,o2=0.99;\n",
    "\n",
    "　　　　　初始权重  w1=0.15,w2=0.20,w3=0.25,w4=0.30;\n",
    "\n",
    "　　　　　　　　　  w5=0.40,w6=0.45,w7=0.50,w8=0.55\n",
    "\n",
    " \n",
    "\n",
    "　　目标：给出输入数据i1,i2(0.05和0.10)，使输出尽可能与原始输出o1,o2(0.01和0.99)接近。"
   ]
  },
  {
   "cell_type": "markdown",
   "metadata": {},
   "source": [
    "<img src=\"img/bp3.png\">\n",
    "<img src=\"img/bp4.png\">\n",
    "<img src=\"img/bp5.png\">\n",
    "<img src=\"img/bp6.png\">\n",
    "<img src=\"img/bp7.png\">\n",
    "<img src=\"img/bp8.png\">\n",
    "<img src=\"img/bp9.png\">\n",
    "<img src=\"img/bp10.png\">\n",
    "<img src=\"img/bp11.png\">\n",
    "<img src=\"img/bp12.png\">"
   ]
  },
  {
   "cell_type": "markdown",
   "metadata": {},
   "source": [
    "b 的算法也是一样的。"
   ]
  },
  {
   "cell_type": "code",
   "execution_count": null,
   "metadata": {
    "collapsed": true
   },
   "outputs": [],
   "source": []
  }
 ],
 "metadata": {
  "kernelspec": {
   "display_name": "Python 3",
   "language": "python",
   "name": "python3"
  },
  "language_info": {
   "codemirror_mode": {
    "name": "ipython",
    "version": 3
   },
   "file_extension": ".py",
   "mimetype": "text/x-python",
   "name": "python",
   "nbconvert_exporter": "python",
   "pygments_lexer": "ipython3",
   "version": "3.6.3"
  }
 },
 "nbformat": 4,
 "nbformat_minor": 2
}
