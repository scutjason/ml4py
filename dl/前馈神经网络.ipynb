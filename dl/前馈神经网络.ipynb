{
 "cells": [
  {
   "cell_type": "markdown",
   "metadata": {},
   "source": [
    "<img src=\"../ml/图片/1248148783.jpg\">"
   ]
  },
  {
   "cell_type": "markdown",
   "metadata": {},
   "source": [
    "通常我们说的深度学习是指深度神经网络模型。至于概率图部分的深度模型，模型太过于复杂。"
   ]
  },
  {
   "cell_type": "markdown",
   "metadata": {},
   "source": [
    "MLP：多层感知机\n",
    "\n",
    "GAN: 生成对抗网络\n",
    "\n",
    "VAE：变分自编码\n",
    "\n",
    "GNN：图神经网络"
   ]
  },
  {
   "cell_type": "markdown",
   "metadata": {},
   "source": [
    "<img src=\"../ml/图片/1039322856.jpg\">"
   ]
  },
  {
   "cell_type": "markdown",
   "metadata": {},
   "source": [
    "现在所说的DL都是从2006年后的开始的。"
   ]
  },
  {
   "cell_type": "markdown",
   "metadata": {},
   "source": [
    "深度学习飞速发展的原因：\n",
    "\n",
    "1、大数据\n",
    "\n",
    "2、分布式计算\n",
    "\n",
    "3、硬件 GPU、TPU等\n",
    "\n",
    "当然DL最火的核心原因是由于他的分类或者回归或者其他任务的效果比SVM、LR等基本的ML算法效果更好。\n",
    "\n",
    "未来DL肯定还是主流，不过DL会融合SVM、PGM等知识。"
   ]
  },
  {
   "cell_type": "markdown",
   "metadata": {},
   "source": [
    "异或运算 XOR：相同为0，不同为1 。\n",
    "\n",
    "神经网络本质上是一个复杂的复合函数，包含很多与或非运算\n",
    "\n",
    "<img src= \"../ml/图片/.jpg\">"
   ]
  },
  {
   "cell_type": "markdown",
   "metadata": {},
   "source": [
    "### 前馈神经网络、BP神经网络、卷积神经网络的区别与联系"
   ]
  },
  {
   "cell_type": "markdown",
   "metadata": {},
   "source": [
    "#### 区别：\n",
    "\n",
    "一、计算方法不同\n",
    "\n",
    "1、前馈神经网络：一种最简单的神经网络，各神经元分层排列。每个神经元只与前一层的神经元相连。接收前一层的输出，并输出给下一层．各层间没有反馈。\n",
    "\n",
    "2、BP神经网络：是一种按照误差逆向传播算法训练的多层前馈神经网络。\n",
    "\n",
    "3、卷积神经网络：包含卷积计算且具有深度结构的前馈神经网络。\n",
    "\n",
    "二、作用不同\n",
    "\n",
    "1、前馈神经网络：结构简单，应用广泛，能够以任意精度逼近任意连续函数及平方可积函数．而且可以精确实现任意有限训练样本集。\n",
    "\n",
    "2、BP神经网络：具有很强的非线性映射能力和柔性的网络结构。网络的中间层数、各层的神经元个数可根据具体情况任意设定，并且随着结构的差异其性能也有所不同。\n",
    "\n",
    "3、卷积神经网络：具有表征学习能力，能够按其阶层结构对输入信息进行平移不变分类。\n",
    "\n",
    "三、用途不同\n",
    "\n",
    "1、前馈神经网络：主要应用包括感知器网络、BP网络和RBF网络。\n",
    "\n",
    "2、BP神经网络：1）函数逼近：用输入向量和相应的输出向量训练一个网络逼近一个函数；2）模式识别：用一个待定的输出向量将它与输入向量联系起来；3）分类：把输入向量所定义的合适方式进行分类；4）数据压缩：减少输出向量维数以便于传输或存储。\n",
    "\n",
    "3、卷积神经网络：可应用于图像识别、物体识别等计算机视觉、自然语言处理、物理学和遥感科学等领域。\n",
    "\n",
    "#### 联系：\n",
    "\n",
    "BP神经网络和卷积神经网络都属于前馈神经网络，三者都属于人工神经网络。因此，三者原理和结构相同。\n",
    "\n",
    "<img src=\"../ml/图片/神经网络.png\">"
   ]
  },
  {
   "cell_type": "code",
   "execution_count": null,
   "metadata": {
    "collapsed": true
   },
   "outputs": [],
   "source": []
  }
 ],
 "metadata": {
  "kernelspec": {
   "display_name": "Python 3",
   "language": "python",
   "name": "python3"
  },
  "language_info": {
   "codemirror_mode": {
    "name": "ipython",
    "version": 3
   },
   "file_extension": ".py",
   "mimetype": "text/x-python",
   "name": "python",
   "nbconvert_exporter": "python",
   "pygments_lexer": "ipython3",
   "version": "3.6.3"
  }
 },
 "nbformat": 4,
 "nbformat_minor": 2
}
