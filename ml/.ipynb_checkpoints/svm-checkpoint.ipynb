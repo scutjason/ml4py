{
 "cells": [
  {
   "cell_type": "code",
   "execution_count": 1,
   "metadata": {
    "collapsed": true
   },
   "outputs": [],
   "source": [
    "# 不适定问题：决策边界不唯一，可能会偏向某一样本类型，模型泛化能力较差；\n",
    "# 对于这种个问题，这种方法找到的决策边界，对应的模型的泛化能力较好"
   ]
  },
  {
   "cell_type": "markdown",
   "metadata": {},
   "source": [
    "<img src=\"./图片/svm.png\">"
   ]
  },
  {
   "cell_type": "code",
   "execution_count": 1,
   "metadata": {
    "collapsed": true
   },
   "outputs": [],
   "source": [
    "# SVM 算法本质就是要最大化 margin；"
   ]
  },
  {
   "cell_type": "code",
   "execution_count": 2,
   "metadata": {
    "collapsed": true
   },
   "outputs": [],
   "source": [
    "# 不管是讨论逻辑回归算法还是 SVM 算法，前提是：样本分布线性可分；\n",
    "# 线性可分：对于特征空间，存在一条直线或一个平面将样本完全分开"
   ]
  },
  {
   "cell_type": "code",
   "execution_count": 3,
   "metadata": {
    "collapsed": true
   },
   "outputs": [],
   "source": [
    "# 解决线性可分问题的 SVM 算法；\n",
    "\n",
    "\n",
    "# 非常严格的，确实找到了一个决策边界，没有错误的将样本点进行了划分，同时最大化了 margin 的值；"
   ]
  },
  {
   "cell_type": "code",
   "execution_count": 4,
   "metadata": {
    "collapsed": true
   },
   "outputs": [],
   "source": [
    "# Soft Margin SVM：\n",
    "# 解决线性不可分的问题；\n",
    "\n",
    "\n",
    "# 实践中，大多真实的样本数据是线性不可分的；\n",
    "# Soft Margin SVM 算法是从 Hard Margin SVM 的基础上改进的；"
   ]
  },
  {
   "cell_type": "markdown",
   "metadata": {},
   "source": [
    "<img src= \"./图片/点到直线的距离.png\">"
   ]
  },
  {
   "cell_type": "code",
   "execution_count": 7,
   "metadata": {
    "collapsed": true
   },
   "outputs": [],
   "source": [
    "# 假设对于严格线性可分的问题：\n",
    "# 这里我们简单推导一下，假设样本为x，系数是θ，最终要求的哪条决策直线方程为 θ^T * x= 0 对吧\n",
    "# 做一个变形，w^T * x + b = 0,  将截距露出来\n",
    "\n",
    "# 假设y的两个分类为1和-1,也就是   y^(i) = 1,-1\n",
    "# 那么所有的点到这条决策边界的距离都要大于d\n",
    "# |w^T * x + b| / ||w|| >d\n",
    "\n",
    "# 两边除以d, 得到下面的方程，\n",
    "# wd = w / (d*||w||)"
   ]
  },
  {
   "cell_type": "markdown",
   "metadata": {},
   "source": [
    "<img src=\"./图片/决策边界和支撑向量.png\">"
   ]
  },
  {
   "cell_type": "code",
   "execution_count": 9,
   "metadata": {
    "collapsed": true
   },
   "outputs": [],
   "source": [
    "# 最终我们就是要求argmax {d} = argmax{支撑向量到决策边界的距离} = {|wd^T * x + bd| / ||w||} 对吧，其中x表示支撑向量上的任意一点，\n",
    "# 也就是说，对于这样的x，满足|wb^T * x + bd| = 1 是吧（在支撑向量的直线上）\n",
    "\n",
    "# 不过为了方便，通常将wd 和bd直接用w和b表示，不过要记住他们之间的关系。\n",
    "# wd = w / (d*||w||)"
   ]
  },
  {
   "cell_type": "code",
   "execution_count": 10,
   "metadata": {},
   "outputs": [
    {
     "data": {
      "text/plain": [
       "'\\n所以最后 SVM就变成了一个带条件的约束问题\\n\\n目标： max {1 / ||w||} == min {||w||}\\n        s.t.   y^(i)*(w^T * x_i + b) >= 1   # 这个条件的意思是，svm要满足两条支撑向量\\n        \\n        不过我们一般转换一下min\\n        min{1/2*||w||^2}\\n        \\n注意：这里的w和b是指wd和bd哦\\n\\n'"
      ]
     },
     "execution_count": 10,
     "metadata": {},
     "output_type": "execute_result"
    }
   ],
   "source": [
    "\"\"\"\n",
    "所以最后 SVM就变成了一个带条件的约束问题\n",
    "\n",
    "目标： max {1 / ||w||} == min {||w||}\n",
    "        s.t.   y^(i)*(w^T * x_i + b) >= 1   # 这个条件的意思是，svm要有满足两条支撑向量，也就是所有的点都在这两条支撑向量的外侧。\n",
    "        \n",
    "        不过我们一般转换一下min\n",
    "        min{1/2*||w||^2}\n",
    "        \n",
    "注意：这里的w和b是指wd和bd哦\n",
    "\n",
    "\"\"\"\n",
    "# 没有前提条件的最优化，称为全局最优化；\n",
    "# 全局最优化问题：直接对目标函数求导，让导数等于 0，相应的极值点就有可能是所要求的最大值或者最小值；\n",
    "\n",
    "# 条件的最优化问题，在最优化领域，解决该问题的方法与没有条件的最优化问题差异很大；\n",
    "# 有条件的最优化问题：较复杂，需要使用拉布拉斯算子进行求解；\n",
    "\n",
    "# 拉普拉斯算子（Laplace Operator）是n维欧几里德空间中的一个二阶微分算子，定义为梯度（▽f）的散度（▽·f）"
   ]
  },
  {
   "cell_type": "markdown",
   "metadata": {},
   "source": [
    "#### soft margin"
   ]
  },
  {
   "cell_type": "code",
   "execution_count": 12,
   "metadata": {
    "collapsed": true
   },
   "outputs": [],
   "source": [
    "# 线性不可分问题 "
   ]
  },
  {
   "cell_type": "code",
   "execution_count": 1,
   "metadata": {},
   "outputs": [],
   "source": [
    "# 我们扩展一下hard-margin svm的条件。s.t.   y^(i)*(w^T * x_i + b) >= 1 。如果两个样本点有个别在对方的里面，根本没法用一条直线完全的区分\n",
    "# 开来，那么我们可以考虑添加一个容错值ζ，也就是在这条支撑向量外头也认可。\n",
    "# 模型允许模型犯一定的错误，允许一些样本分布在虚线与 =1 的直线之间；"
   ]
  },
  {
   "cell_type": "code",
   "execution_count": null,
   "metadata": {},
   "outputs": [],
   "source": [
    "# ζ不是 一个固定的值，对任意一个样本 x(i) 都有一个 ζi 与其对应；如果有 m 个样本点，则有 m 个 ζ 值，每一个样本都有其容错空间；\n",
    "# ζ要做的是，希望模型有一定的容错空间，但范围不能太大；\n",
    "# 怎么表示容错空间不能太大？"
   ]
  },
  {
   "cell_type": "code",
   "execution_count": null,
   "metadata": {},
   "outputs": [],
   "source": [
    "# 更改目标函数，两部分之间取得平衡；"
   ]
  },
  {
   "cell_type": "markdown",
   "metadata": {},
   "source": [
    "<img src=\"./图片/soft-margin正则化.png\">"
   ]
  },
  {
   "cell_type": "code",
   "execution_count": 4,
   "metadata": {},
   "outputs": [],
   "source": [
    "# C = 1：两者比重相同；\n",
    "# C > 1：主要优化后半部分；\n",
    "# C < 1：主要优化前半部分；\n",
    "# C 越大，容错空间越小；C 越小，容错空间越大； C=无穷大时，ζ就无穷小，这样就退化成hard-margin"
   ]
  },
  {
   "cell_type": "code",
   "execution_count": 6,
   "metadata": {},
   "outputs": [],
   "source": [
    "# 正则化的目的：使模型针对训练数据集有更高的容错能力，使得模型对训练数据集中的极端样本点不那么敏感，进而提升模型的泛化能力；\n",
    "\n",
    "\n",
    "# 思想：所谓的正则化，本质是一个概念，并不是对于所有的模型添加了正则项都是同样的 L1 范式、L2 范式；对于有些模型，需要改变正则化的策略；\n",
    "# 但是正则化所要实现的效果是一样的——提升模型的泛化能力。"
   ]
  },
  {
   "cell_type": "markdown",
   "metadata": {},
   "source": [
    "#### 数据归一化"
   ]
  },
  {
   "cell_type": "code",
   "execution_count": 7,
   "metadata": {},
   "outputs": [],
   "source": [
    "# Hard Margin SVM 和 Soft Margin SVM 都是解决线性分类问题，无论是线性可分的问题，还是线性不可分的问题；\n",
    "# 和 kNN 算法一样，使用 SVM 算法前，要对数据做标准化处理；\n",
    "\n",
    "# 原因：SVM 算法中设计到计算 Margin 距离，如果数据点在不同的维度上的量纲不同，会使得距离的计算有问题；\n",
    "# 例如：样本的两种特征，如果相差太大，使用 SVM 经过计算得到的决策边界几乎为一条水平的直线——\n",
    "# 因为两种特征的数据量纲相差太大，水平方向的距离可以忽略，因此，得到的最大的 Margin 就是两条虚线的垂直距离；"
   ]
  },
  {
   "cell_type": "code",
   "execution_count": 9,
   "metadata": {},
   "outputs": [
    {
     "data": {
      "text/plain": [
       "'\\n只要涉及到距离的计算，就要进行数据归一化，保证数据在同一维度。\\n'"
      ]
     },
     "execution_count": 9,
     "metadata": {},
     "output_type": "execute_result"
    }
   ],
   "source": [
    "\"\"\"\n",
    "只要涉及到距离的计算，就要进行数据归一化，保证数据在同一维度。\n",
    "\"\"\""
   ]
  },
  {
   "cell_type": "markdown",
   "metadata": {},
   "source": [
    "### sklearn中使用SVM"
   ]
  },
  {
   "cell_type": "code",
   "execution_count": 10,
   "metadata": {},
   "outputs": [],
   "source": [
    "import numpy as np\n",
    "import matplotlib.pyplot as plt"
   ]
  },
  {
   "cell_type": "code",
   "execution_count": 12,
   "metadata": {},
   "outputs": [],
   "source": [
    "from sklearn import datasets\n",
    "\n",
    "iris = datasets.load_iris()\n",
    "\n",
    "X = iris.data\n",
    "y = iris.target\n",
    "\n",
    "# 为了可视化，取前两列\n",
    "X = X[y<2,:2]\n",
    "y = y[y<2]"
   ]
  },
  {
   "cell_type": "code",
   "execution_count": 13,
   "metadata": {},
   "outputs": [
    {
     "data": {
      "image/png": "[encoded data removed]",
      "text/plain": [
       "<Figure size 432x288 with 1 Axes>"
      ]
     },
     "metadata": {
      "needs_background": "light"
     },
     "output_type": "display_data"
    }
   ],
   "source": [
    "plt.scatter(X[y==0, 0], X[y==0, 1], color='r')\n",
    "plt.scatter(X[y==1, 0], X[y==1, 1], color='b')\n",
    "plt.show()"
   ]
  },
  {
   "cell_type": "code",
   "execution_count": 16,
   "metadata": {},
   "outputs": [],
   "source": [
    "# 数据归一化\n",
    "from sklearn.preprocessing import StandardScaler\n",
    "\n",
    "standardScaler = StandardScaler()\n",
    "standardScaler.fit(X)\n",
    "\n",
    "X_standard = standardScaler.transform(X)"
   ]
  },
  {
   "cell_type": "code",
   "execution_count": 19,
   "metadata": {},
   "outputs": [
    {
     "data": {
      "text/plain": [
       "LinearSVC(C=1000000000.0, class_weight=None, dual=True, fit_intercept=True,\n",
       "     intercept_scaling=1, loss='squared_hinge', max_iter=1000,\n",
       "     multi_class='ovr', penalty='l2', random_state=None, tol=0.0001,\n",
       "     verbose=0)"
      ]
     },
     "execution_count": 19,
     "metadata": {},
     "output_type": "execute_result"
    }
   ],
   "source": [
    "from sklearn.svm import LinearSVC\n",
    "\n",
    "svc = LinearSVC(C=1e9)\n",
    "svc.fit(X_standard, y)"
   ]
  },
  {
   "cell_type": "code",
   "execution_count": 22,
   "metadata": {},
   "outputs": [],
   "source": [
    "def plot_decision_boundary(model, axis):\n",
    "    \n",
    "    x0, x1 = np.meshgrid(\n",
    "        np.linspace(axis[0], axis[1], int((axis[1]-axis[0])*100)).reshape(-1,1),\n",
    "        np.linspace(axis[2], axis[3], int((axis[3]-axis[2])*100)).reshape(-1,1)\n",
    "    )\n",
    "    X_new = np.c_[x0.ravel(), x1.ravel()]\n",
    "    \n",
    "    y_predict = model.predict(X_new)\n",
    "    zz = y_predict.reshape(x0.shape)\n",
    "    \n",
    "    from matplotlib.colors import ListedColormap\n",
    "    custom_cmap = ListedColormap(['#EF9A9A','#FFF59D','#90CAF9'])\n",
    "    \n",
    "    plt.contourf(x0, x1, zz, 5, cmap=custom_cmap)"
   ]
  },
  {
   "cell_type": "code",
   "execution_count": 23,
   "metadata": {},
   "outputs": [
    {
     "data": {
      "image/png": "[encoded data removed]",
      "text/plain": [
       "<Figure size 432x288 with 1 Axes>"
      ]
     },
     "metadata": {
      "needs_background": "light"
     },
     "output_type": "display_data"
    }
   ],
   "source": [
    "plot_decision_boundary(svc, axis=[-3, 3, -3, 3])\n",
    "plt.scatter(X_standard[y==0, 0], X_standard[y==0, 1], color='red')\n",
    "plt.scatter(X_standard[y==1, 0], X_standard[y==1, 1], color='blue')\n",
    "plt.show()"
   ]
  },
  {
   "cell_type": "code",
   "execution_count": 24,
   "metadata": {},
   "outputs": [
    {
     "data": {
      "text/plain": [
       "LinearSVC(C=0.01, class_weight=None, dual=True, fit_intercept=True,\n",
       "     intercept_scaling=1, loss='squared_hinge', max_iter=1000,\n",
       "     multi_class='ovr', penalty='l2', random_state=None, tol=0.0001,\n",
       "     verbose=0)"
      ]
     },
     "execution_count": 24,
     "metadata": {},
     "output_type": "execute_result"
    }
   ],
   "source": [
    "# C越小容错空间越大\n",
    "svc2 = LinearSVC(C=0.01)\n",
    "svc2.fit(X_standard, y)"
   ]
  },
  {
   "cell_type": "code",
   "execution_count": 25,
   "metadata": {},
   "outputs": [
    {
     "data": {
      "image/png": "[encoded data removed]",
      "text/plain": [
       "<Figure size 432x288 with 1 Axes>"
      ]
     },
     "metadata": {
      "needs_background": "light"
     },
     "output_type": "display_data"
    }
   ],
   "source": [
    "plot_decision_boundary(svc2, axis=[-3, 3, -3, 3])\n",
    "plt.scatter(X_standard[y==0, 0], X_standard[y==0, 1], color='red')\n",
    "plt.scatter(X_standard[y==1, 0], X_standard[y==1, 1], color='blue')\n",
    "plt.show()"
   ]
  },
  {
   "cell_type": "code",
   "execution_count": null,
   "metadata": {},
   "outputs": [],
   "source": []
  }
 ],
 "metadata": {
  "kernelspec": {
   "display_name": "Python 3",
   "language": "python",
   "name": "python3"
  },
  "language_info": {
   "codemirror_mode": {
    "name": "ipython",
    "version": 3
   },
   "file_extension": ".py",
   "mimetype": "text/x-python",
   "name": "python",
   "nbconvert_exporter": "python",
   "pygments_lexer": "ipython3",
   "version": "3.7.1"
  }
 },
 "nbformat": 4,
 "nbformat_minor": 2
}
