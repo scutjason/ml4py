{
 "cells": [
  {
   "cell_type": "code",
   "execution_count": 1,
   "metadata": {
    "collapsed": true
   },
   "outputs": [],
   "source": [
    "# 不适定问题：决策边界不唯一，可能会偏向某一样本类型，模型泛化能力较差；\n",
    "# 对于这种个问题，这种方法找到的决策边界，对应的模型的泛化能力较好"
   ]
  },
  {
   "cell_type": "markdown",
   "metadata": {},
   "source": [
    "<img src=\"./图片/svm.png\">"
   ]
  },
  {
   "cell_type": "code",
   "execution_count": 1,
   "metadata": {
    "collapsed": true
   },
   "outputs": [],
   "source": [
    "# SVM 算法本质就是要最大化 margin；"
   ]
  },
  {
   "cell_type": "code",
   "execution_count": 2,
   "metadata": {
    "collapsed": true
   },
   "outputs": [],
   "source": [
    "# 不管是讨论逻辑回归算法还是 SVM 算法，前提是：样本分布线性可分；\n",
    "# 线性可分：对于特征空间，存在一条直线或一个平面将样本完全分开"
   ]
  },
  {
   "cell_type": "code",
   "execution_count": 3,
   "metadata": {
    "collapsed": true
   },
   "outputs": [],
   "source": [
    "# 解决线性可分问题的 SVM 算法；\n",
    "\n",
    "\n",
    "# 非常严格的，确实找到了一个决策边界，没有错误的将样本点进行了划分，同时最大化了 margin 的值；"
   ]
  },
  {
   "cell_type": "code",
   "execution_count": 4,
   "metadata": {
    "collapsed": true
   },
   "outputs": [],
   "source": [
    "# Soft Margin SVM：\n",
    "# 解决线性不可分的问题；\n",
    "\n",
    "\n",
    "# 实践中，大多真实的样本数据是线性不可分的；\n",
    "# Soft Margin SVM 算法是从 Hard Margin SVM 的基础上改进的；"
   ]
  },
  {
   "cell_type": "markdown",
   "metadata": {},
   "source": [
    "<img src= \"./图片/点到直线的距离.png\">"
   ]
  },
  {
   "cell_type": "code",
   "execution_count": 7,
   "metadata": {
    "collapsed": true
   },
   "outputs": [],
   "source": [
    "# 假设对于严格线性可分的问题：\n",
    "# 这里我们简单推导一下，假设样本为x，系数是θ，最终要求的哪条决策直线方程为 θ^T * x= 0 对吧\n",
    "# 做一个变形，w^T * x + b = 0,  将截距露出来\n",
    "\n",
    "# 假设y的两个分类为1和-1,也就是   y^(i) = 1,-1\n",
    "# 那么所有的点到这条决策边界的距离都要大于d\n",
    "# |w^T * x + b| / ||w|| >d\n",
    "\n",
    "# 两边除以d, 得到下面的方程，\n",
    "# wd = w / (d*||w||)"
   ]
  },
  {
   "cell_type": "markdown",
   "metadata": {},
   "source": [
    "<img src=\"./图片/决策边界和支撑向量.png\">"
   ]
  },
  {
   "cell_type": "code",
   "execution_count": 9,
   "metadata": {
    "collapsed": true
   },
   "outputs": [],
   "source": [
    "# 最终我们就是要求argmax {d} = argmax{支撑向量到决策边界的距离} = {|wd^T * x + bd| / ||w||} 对吧，其中x表示支撑向量上的任意一点，\n",
    "# 也就是说，对于这样的x，满足|wb^T * x + bd| = 1 是吧（在支撑向量的直线上）\n",
    "\n",
    "# 不过为了方便，通常将wd 和bd直接用w和b表示，不过要记住他们之间的关系。\n",
    "# wd = w / (d*||w||)"
   ]
  },
  {
   "cell_type": "code",
   "execution_count": 10,
   "metadata": {},
   "outputs": [
    {
     "data": {
      "text/plain": [
       "'\\n所以最后 SVM就变成了一个带条件的约束问题\\n\\n目标： max {1 / ||w||} == min {||w||}\\n        s.t.   y^(i)*(w^T * x_i + b) >= 1   # 这个条件的意思是，svm要满足两条支撑向量\\n        \\n        不过我们一般转换一下min\\n        min{1/2*||w||^2}\\n        \\n注意：这里的w和b是指wd和bd哦\\n\\n'"
      ]
     },
     "execution_count": 10,
     "metadata": {},
     "output_type": "execute_result"
    }
   ],
   "source": [
    "\"\"\"\n",
    "所以最后 SVM就变成了一个带条件的约束问题\n",
    "\n",
    "目标： max {1 / ||w||} == min {||w||}\n",
    "        s.t.   y^(i)*(w^T * x_i + b) >= 1   # 这个条件的意思是，svm要满足两条支撑向量\n",
    "        \n",
    "        不过我们一般转换一下min\n",
    "        min{1/2*||w||^2}\n",
    "        \n",
    "注意：这里的w和b是指wd和bd哦\n",
    "\n",
    "\"\"\"\n",
    "# 没有前提条件的最优化，称为全局最优化；\n",
    "# 全局最优化问题：直接对目标函数求导，让导数等于 0，相应的极值点就有可能是所要求的最大值或者最小值；\n",
    "\n",
    "# 条件的最优化问题，在最优化领域，解决该问题的方法与没有条件的最优化问题差异很大；\n",
    "# 有条件的最优化问题：较复杂，需要使用拉布拉斯算子进行求解；\n",
    "\n",
    "# 拉普拉斯算子（Laplace Operator）是n维欧几里德空间中的一个二阶微分算子，定义为梯度（▽f）的散度（▽·f）"
   ]
  },
  {
   "cell_type": "markdown",
   "metadata": {},
   "source": [
    "#### soft margin"
   ]
  },
  {
   "cell_type": "code",
   "execution_count": 12,
   "metadata": {
    "collapsed": true
   },
   "outputs": [],
   "source": [
    "# 线性不可分问题 "
   ]
  },
  {
   "cell_type": "code",
   "execution_count": null,
   "metadata": {
    "collapsed": true
   },
   "outputs": [],
   "source": []
  }
 ],
 "metadata": {
  "kernelspec": {
   "display_name": "Python 3",
   "language": "python",
   "name": "python3"
  },
  "language_info": {
   "codemirror_mode": {
    "name": "ipython",
    "version": 3
   },
   "file_extension": ".py",
   "mimetype": "text/x-python",
   "name": "python",
   "nbconvert_exporter": "python",
   "pygments_lexer": "ipython3",
   "version": "3.6.3"
  }
 },
 "nbformat": 4,
 "nbformat_minor": 2
}
