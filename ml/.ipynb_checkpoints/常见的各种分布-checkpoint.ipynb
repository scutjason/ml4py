{
 "cells": [
  {
   "cell_type": "markdown",
   "metadata": {},
   "source": [
    "#### 泊松分布\n",
    "\n",
    "日常生活中，大量事件是有固定频率的。\n",
    "\n",
    "比如：某医院平均每小时出生3个婴儿，某公司平均每10分钟接到1个电话等等\n",
    "\n",
    "我们可以预估这些事件的总数，但是没法知道具体的发生时间。已知平均每小时出生3个婴儿，即λ=3，请问下一个小时，会出生几个？\n",
    "\n",
    "有可能一下子出生6个，也有可能一个都不出生。这是我们没法知道的。\n",
    "\n",
    "$\\color{\\red}{泊松分布就是描述某段时间内，事件具体的发生概率。}$\n",
    "\n",
    "<img src=\"图片/boson1.png\">\n",
    "\n",
    "等号的左边，P 表示概率，N表示某种函数关系，t 表示时间，n 表示数量，1小时内出生3个婴儿的概率，就表示为 P(N(1) = 3) 。等号的右边，参数λ 表示事件的频率，即单位时间(或单位面积)内随机事件的平均发生次数。 \n",
    "\n",
    "泊松分布的期望和方差均为 λ"
   ]
  },
  {
   "cell_type": "markdown",
   "metadata": {},
   "source": [
    "<img src=\"图片/possion2.png\">\n",
    "\n",
    "可以看到，在频率附近，事件的发生概率最高，然后向两边对称下降，即变得越大和越小都不太可能。每小时出生3个婴儿，这是最可能的结果，出生得越多或越少，就越不可能。\n",
    "\n",
    "分布特性：\n",
    "1、泊松分布是一种描述和分析稀有事件的概率分布。要观察到这类事件，样本含量n必须很大。\n",
    "\n",
    "2、λ是泊松分布所依赖的唯一参数。λ值愈小，分布愈偏倚，随着λ的增大，分布趋于对称。\n",
    "\n",
    "3、当λ = 20时，分布泊松接近于正态分布；当λ = 50时，可以认为泊松分布呈正态分布。在实际工作中，当λ = 20时就可以用正态分布来近似地处理泊松分布的问题。\n",
    "\n",
    " "
   ]
  },
  {
   "cell_type": "markdown",
   "metadata": {},
   "source": [
    "#### 指数分布\n",
    "\n",
    "指数分布是事件的时间间隔的概率。下面这些都属于指数分布。是连续的\n",
    "\n",
    "比如：\n",
    "婴儿出生的时间间隔。\n",
    "来电的时间间隔。\n",
    "\n",
    "指数分布的公式可以从泊松分布推断出来。如果下一个婴儿间隔时间 t ，就等同于 t 之内没有任何婴儿出生。\n",
    "<img src=\"图片/zhishu1.png\">\n",
    "\n",
    "反过来，事件在时间 t 之内发生的概率（至少出生一个的概率），就是1减去上面的值。\n",
    "<img src=\"图片/zhishu2.png\">\n",
    "\n",
    "指数分布的概率分布函数：\n",
    "<img src=\"图片/zhishu3.png\">\n",
    "\n",
    "可以看到，随着间隔时间变长，事件的发生概率急剧下降，呈指数式衰减。想一想，如果每小时平均出生3个婴儿，上面已经算过了，下一个婴儿间隔2小时才出生的概率是0.25%，那么间隔3小时、间隔4小时的概率，是不是更接近于0？\n",
    "\n",
    "指数分布的概率密度函数：  因为是连续的分布。\n",
    "\n",
    "<img src=\"图片/zhishu4.png\">\n",
    "\n",
    "指数分布具有以下特征：\n",
    "\n",
    "（1）随机变量X的取值范围是从0到无穷；\n",
    "\n",
    "（2）极大值在x＝0处，即f(x)＝λ；\n",
    "\n",
    "（3）函数为右偏，且随着x的增大，曲线稳步递减；\n",
    "\n",
    "（4）随机变量的期望值和方差为µ＝1/λ，σ2＝1/λ2。"
   ]
  },
  {
   "cell_type": "markdown",
   "metadata": {},
   "source": [
    "##### Gamma\n",
    "\n",
    "1、首先看下gamma函数的定义：\n",
    "\n",
    "<img src=\"图片/gamma.png\">\n",
    "\n",
    "\n",
    "2、gamma函数的性质：\n",
    "\n",
    "    1.递推公式：Γ(x+1)=xΓ(x)\n",
    "\n",
    "    2.对于正整数n, 有Γ(n+1)=n!\n",
    "\n",
    "可以看成是阶乘在实数集上的延拓!\n",
    "\n",
    "<img src=\"图片/gamma-func.png\">\n",
    "\n",
    "应用：\n",
    "\n",
    "比如对函数的整数次求导推广到实数次求导。\n",
    "\n",
    "二项分布推广为Beta分布。"
   ]
  },
  {
   "cell_type": "markdown",
   "metadata": {},
   "source": [
    "#### Gamma分布\n",
    "\n",
    "$\\int_{0}^{\\infty}\\frac{x^{\\alpha-1}e^{-x}}{Γ(\\alpha)}dx = 1$\n",
    "\n",
    "\n",
    "概率密度函数\n",
    "$Gamma(x|\\alpha)=\\frac{x^{\\alpha-1}e^{-x}}{Γ(\\alpha)}$\n",
    "\n",
    "更一般的形式，如果x=βt\n",
    "\n",
    "$Gamma(t|\\alpha,\\beta)=\\frac{{\\beta^\\alpha t^{\\alpha-1}}e^{-\\beta t}}{Γ(\\alpha)}$\n",
    "\n",
    "E(X) = $\\frac{\\alpha}{\\beta}$\n",
    "\n",
    "Var(X) = $\\frac{\\alpha}{\\beta^2}$\n",
    "\n",
    "其中 α 称为形状参数（shape parameter），主要决定了分布曲线的形状，\n",
    "而 β 称为 rate parameter（或叫 inverse scale parameter，$\\frac{1}{β}$称为scale parameter），主要决定曲线有多陡。\n",
    "\n",
    "<img src=\"图片/gamma1.png\">\n",
    "\n",
    "###### Gamma分布与指数分布、泊松分布\n",
    "指数分布解决的问题是“要等到一个随机事件发生，需要经历多久时间”\n",
    "\n",
    "伽玛分布解决的问题是“要等到n个随机事件都发生，需要经历多久时间”\n",
    "\n",
    "泊松分布解决的是“在特定时间里发生n个事件的机率”。\n",
    "\n",
    "所以，伽玛分布可以看作是n个指数分布的独立随机变量的加总。\n",
    "\n",
    "这里a=n, 当a=1时。伽马分布就是指数分布，所以伽马分布就是n个指数分布的和\n",
    "\n",
    "Gamma分布可以作为指数分布和泊松分布的共轭先验。\n",
    "\n",
    "Gamma分布式泊松分布的连续版本。\n",
    "<img src=\"图片/gamma2.png\">"
   ]
  },
  {
   "cell_type": "code",
   "execution_count": 7,
   "metadata": {},
   "outputs": [
    {
     "data": {
      "image/png": "[encoded data removed]",
      "text/plain": [
       "<Figure size 432x288 with 1 Axes>"
      ]
     },
     "metadata": {
      "needs_background": "light"
     },
     "output_type": "display_data"
    }
   ],
   "source": [
    "import numpy as np\n",
    "import matplotlib.pyplot as plt\n",
    "from scipy.stats import gamma\n",
    "\n",
    "a = 2.0\n",
    "x = np.arange(0, 20, 0.01)\n",
    "y = gamma.pdf(x, a)\n",
    "plt.plot(x, y)\n",
    "plt.title('Gamma: a=%.1f' % (a))\n",
    "plt.xlabel('x')\n",
    "plt.ylabel('density')\n",
    "plt.show()"
   ]
  },
  {
   "cell_type": "markdown",
   "metadata": {},
   "source": [
    "#### beta函数\n",
    "\n",
    "beta函数的定义如下：\n",
    "\n",
    "对任意实数,P,Q>0:\n",
    "\n",
    "<img src=\"图片/beta4.png\">\n",
    "\n",
    "B函数具有如下性质：\n",
    "\n",
    "1.$B(x,y)=B(y,x)$\n",
    "\n",
    "2.$B(x,y)=\\frac{(x−1)!(y−1)!}{(x+y−1)! }$\n",
    "\n",
    "#### beta函数与gamma函数的联系\n",
    "3.$B(x,y)=\\frac{Γ(x)Γ(y)}{Γ(x+y)}$\n"
   ]
  },
  {
   "cell_type": "markdown",
   "metadata": {},
   "source": [
    "#### beta分布\n",
    "<img src=\"图片/beta1.png\">\n",
    "<img src=\"图片/beta2.png\">"
   ]
  },
  {
   "cell_type": "markdown",
   "metadata": {},
   "source": [
    "##### beta分布的概率密度函数与gamma函数的关系\n",
    "\n",
    "beta分布是从二项式分布而来的，二项式分布用到了阶乘计算，而阶乘又是gamma函数。\n",
    "\n",
    "<img src=\"图片/beta5.png\">\n",
    "\n",
    "beta分布可以看作一个$\\color{\\red}{概率的概率分布}$，当你不知道一个东西的具体概率是多少时，它可以给出了所有概率出现的可能性大小。"
   ]
  },
  {
   "cell_type": "markdown",
   "metadata": {},
   "source": [
    "##### beta函数的期望和方差\n",
    "\n",
    "<img src=\"图片/beta6.png\">"
   ]
  },
  {
   "cell_type": "markdown",
   "metadata": {},
   "source": [
    "#### Beta分布是二项分布的共轭先验\n",
    "\n",
    "二项分布：B~（n，p）  n表示试验次数，p表示成功率（系统概率）。 如果是跑硬币，成功率就是正面。n、p都是随机事件的参数。\n",
    "实际上为什么有二项分布？它就是想用多次（n）伯努利试验是估计我们系统的成功率。对吧。\n",
    "\n",
    "于是我们把这n次伯努利试验就称之为二项分布，它也是一种分布。\n",
    "\n",
    "对于硬币或者骰子这样的简单实验，我们事先能很准确地掌握系统成功的概率。然而通常情况下，系统成功的概率是未知的。通常情况下，系统成功的概率是未知的。为了测试系统的成功概率，我们做n次试验，统计成功的次数k，于是很直观地就可以计算出。然而由于系统成功的概率是未知的，这个公式计算出的只是系统成功概率的最佳估计。也就是说实际上也可能为其它的值，只是为其它的值的概率较小。\n",
    "\n",
    "例如有某种特殊的硬币，我们事先完全无法确定它出现正面的概率。然后抛10次硬币，出现5次正面，于是我们认为硬币出现正面的概率最可能是0.5。但是即使硬币出现正面的概率为0.4，也会出现抛10次出现5次正面的情况。因此我们并不能完全确定硬币出现正面的概率就是0.5，所以这个概率实际上也是一个随机变量，它符合Beta分布（由beta分布的定义可知，他是衡量概率的概率分布）。\n",
    "\n",
    "Beta分布是一个连续分布，由于它描述概率的分布，因此其取值范围为0到1。 Beta分布有和两个参数，其中为成功次数加1，为失败次数加1。\n",
    "\n",
    "\n",
    "<img src=\"图片/beta7.png\">"
   ]
  },
  {
   "cell_type": "markdown",
   "metadata": {},
   "source": [
    "<img src=\"图片/2019-06-11_103323.png\">\n",
    "<img src=\"图片/2019-06-11_103414.png\">\n",
    "\n",
    "Beta(p|1,1) 恰好是均匀分布 uniform(0,1) ，假设有一个不均匀的硬币抛出正面的概率为 p，抛出 n 次后出现正面和反面的次数分别是 n1 和 n2 ，开始我们对硬币不均匀性一无所知，所以应该假设 p~ uniform(0,1) ，当有了试验样本，我们加入样本信息对 p 的分布进行修正,  p 的分布由均匀分布变为 Beta 分布。"
   ]
  },
  {
   "cell_type": "code",
   "execution_count": 24,
   "metadata": {},
   "outputs": [
    {
     "data": {
      "image/png": "[encoded data removed]",
      "text/plain": [
       "<Figure size 432x288 with 1 Axes>"
      ]
     },
     "metadata": {},
     "output_type": "display_data"
    }
   ],
   "source": [
    "# beta分布\n",
    "from scipy.stats import beta\n",
    "import numpy as np\n",
    "import matplotlib.pyplot as plt\n",
    "\n",
    "a = 0.5\n",
    "b = 0.5\n",
    "x = np.arange(0.01, 1, 0.01)\n",
    "y = beta.pdf(x, a, b)\n",
    "plt.plot(x, y)\n",
    "plt.title('Beta: a=%.1f,b=%.1f' % (a, b))\n",
    "plt.xlabel('x')\n",
    "plt.ylabel('density')\n",
    "plt.show()"
   ]
  },
  {
   "cell_type": "markdown",
   "metadata": {},
   "source": [
    "#### 多项式分布\n",
    "\n"
   ]
  },
  {
   "cell_type": "markdown",
   "metadata": {},
   "source": [
    "<img src=\"图片/duoxiangshi1.png\">"
   ]
  },
  {
   "cell_type": "code",
   "execution_count": 37,
   "metadata": {},
   "outputs": [
    {
     "data": {
      "text/plain": [
       "array([[3, 4, 3],\n",
       "       [3, 3, 4],\n",
       "       [2, 4, 4],\n",
       "       ...,\n",
       "       [1, 2, 7],\n",
       "       [2, 5, 3],\n",
       "       [2, 3, 5]])"
      ]
     },
     "execution_count": 37,
     "metadata": {},
     "output_type": "execute_result"
    }
   ],
   "source": [
    "import numpy \n",
    "a = numpy.random.multinomial(n=10, pvals=[0.2,0.4,0.4], size = 1000) \n",
    "# n 表示试验次数\n",
    "a"
   ]
  },
  {
   "cell_type": "code",
   "execution_count": 36,
   "metadata": {},
   "outputs": [
    {
     "name": "stdout",
     "output_type": "stream",
     "text": [
      "2.014\n",
      "3.883\n",
      "4.103\n"
     ]
    }
   ],
   "source": [
    "print(np.mean(a[:,0]))\n",
    "print(np.mean(a[:,1]))\n",
    "print(np.mean(a[:,2]))"
   ]
  },
  {
   "cell_type": "markdown",
   "metadata": {},
   "source": [
    "#### 狄利克雷分布"
   ]
  },
  {
   "cell_type": "markdown",
   "metadata": {},
   "source": [
    "Dirichlet（狄利克雷）同时可以看做是将Beta分布推广到多变量的情形。概率密度函数定义如下"
   ]
  },
  {
   "cell_type": "markdown",
   "metadata": {},
   "source": [
    "<img src=\"图片/diliclei.png\">"
   ]
  },
  {
   "cell_type": "markdown",
   "metadata": {},
   "source": [
    "看徐亦达老师的ppt\n",
    "\n",
    "<img src=\"图片/diliclei2.png\">"
   ]
  },
  {
   "cell_type": "markdown",
   "metadata": {},
   "source": [
    "<img src=\"图片/2019-06-11_103719.png\">\n",
    "<img src=\"图片/2019-06-11_103745.png\">"
   ]
  },
  {
   "cell_type": "markdown",
   "metadata": {},
   "source": [
    "忽略分布前面的系数。"
   ]
  },
  {
   "cell_type": "markdown",
   "metadata": {
    "collapsed": true
   },
   "source": [
    "#### 徐亦达老师的证明\n",
    "<img src=\"图片/2019-06-12_152701.png\">"
   ]
  },
  {
   "cell_type": "code",
   "execution_count": null,
   "metadata": {
    "collapsed": true
   },
   "outputs": [],
   "source": []
  }
 ],
 "metadata": {
  "kernelspec": {
   "display_name": "Python 3",
   "language": "python",
   "name": "python3"
  },
  "language_info": {
   "codemirror_mode": {
    "name": "ipython",
    "version": 3
   },
   "file_extension": ".py",
   "mimetype": "text/x-python",
   "name": "python",
   "nbconvert_exporter": "python",
   "pygments_lexer": "ipython3",
   "version": "3.6.3"
  }
 },
 "nbformat": 4,
 "nbformat_minor": 2
}
