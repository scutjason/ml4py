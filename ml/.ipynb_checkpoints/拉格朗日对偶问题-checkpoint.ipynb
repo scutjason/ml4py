{
 "cells": [
  {
   "cell_type": "markdown",
   "metadata": {},
   "source": [
    "在优化理论中，目标函数 f(x) 会有多种形式：如果目标函数和约束条件都为变量 x\n",
    "\n",
    "的线性函数, 称该问题为$\\color{\\red}{线性规划}$； 如果目标函数为二次函数, 约束条件为线性函数, 称该最优化问题为$\\color{\\red}{二次规划}$; 如果目标函数或者约束条件均为非线性函数, 称该最优化问题为$\\color{\\red}{非线性规划}$。\n",
    "\n",
    "每个线性规划问题都有一个与之对应的对偶问题，对偶问题有非常良好的性质，以下列举几个：\n",
    "\n",
    "    对偶问题的对偶是原问题；\n",
    "    无论原始问题是否是凸的，对偶问题都是凸优化问题；\n",
    "    对偶问题可以给出原始问题一个下界；\n",
    "    当满足一定条件时，原始问题与对偶问题的解是完全等价的； "
   ]
  },
  {
   "cell_type": "markdown",
   "metadata": {},
   "source": [
    "#### 原始问题\n",
    "\n",
    "开始步入正题，首先给出不等式约束优化问题："
   ]
  },
  {
   "cell_type": "markdown",
   "metadata": {},
   "source": [
    "$\\begin{aligned}  &\\min_x \\  f(x)  \\\\  &s.t.  \\ \\ \\ h_i(x) = 0 , \\  i = 1,2,...,m \\ \\\\  & \\ \\ \\ \\ \\ \\ \\ \\ \\ \\   g_j(x) \\le 0, \\  j = 1,2,...,n \\end{aligned}$"
   ]
  },
  {
   "cell_type": "markdown",
   "metadata": {},
   "source": [
    "定义 Lagrangian 如下：\n",
    "\n",
    "$L(x,\\alpha,\\beta) =f(x) + \\sum_{i=1}^m \\alpha_i h_i(x) + \\sum_{j=1}^n\\beta_jg_j(x)$"
   ]
  },
  {
   "cell_type": "markdown",
   "metadata": {},
   "source": [
    "根据以上 Lagrangian 便可以得到一个重要结论：\n",
    "\n",
    "$f(x) =\\max_{\\alpha \\beta; \\beta_i\\ge 0} L(x,\\alpha,\\beta) > L(x,\\alpha,\\beta) \\tag{*}$"
   ]
  },
  {
   "cell_type": "markdown",
   "metadata": {},
   "source": [
    "(*) 式很容易验证，因为满足约束条件的 x 会使得 $h_i(x)=0$ ，因此第二项消掉了；而 $g_j(x)≤0$ ，并且使得 $βj≥0$，因此会有 $β_jg_j(x)≤0$ ，所以最大值只能在它们都取零的时候得到，这个时候就只剩下 f(x) 了。反之如果有任意一个约束条件不满足，则只需令其相应的乘子 →+∞ ，则会得到 L(x,α,β)→+∞，这样将导致问题无解，因此必须满足约束条件。经过这样一转变，约束都融合到了一起而得到如下的无约束的优化目标："
   ]
  },
  {
   "cell_type": "markdown",
   "metadata": {},
   "source": [
    "$\\min_x f(x)  = \\min_x \\max_{\\alpha,\\beta; \\beta_i\\ge 0} L(x,\\alpha,\\beta)$"
   ]
  },
  {
   "cell_type": "markdown",
   "metadata": {},
   "source": [
    "#### 对偶问题\n",
    "\n",
    "上式与原优化目标等价，将之称作原始问题 , 将原始问题的解记做 p∗，如此便把带约束问题转化为了无约束的原始问题，其实只是一个形式上的重写，方便找到其对应的对偶问题，首先为对偶问题定义一个对偶函数（dual function） ：\n",
    "\n",
    "$D(\\alpha,\\beta) = \\min_x  L(x,\\alpha,\\beta)$"
   ]
  },
  {
   "cell_type": "markdown",
   "metadata": {},
   "source": [
    "有了对偶函数就可给出对偶问题了，与原始问题的形式非常类似，只是把 min 和 max 交换了一下："
   ]
  },
  {
   "cell_type": "markdown",
   "metadata": {},
   "source": [
    "$\\max_{\\alpha ,\\beta; \\beta_i\\ge 0} \\min_x  L(x,\\alpha,\\beta)$"
   ]
  },
  {
   "cell_type": "markdown",
   "metadata": {},
   "source": [
    "然后定义对偶问题的最优解即关于 α β 的函数："
   ]
  },
  {
   "cell_type": "markdown",
   "metadata": {},
   "source": [
    "$d^* = \\max_{\\alpha,\\beta; \\beta_i\\ge 0} D(\\alpha,\\beta)$"
   ]
  },
  {
   "cell_type": "markdown",
   "metadata": {},
   "source": [
    "对偶问题和原始问题的最优解并不相等，而是满足的如下关系：\n",
    "\n",
    "d^* \\le p^*"
   ]
  },
  {
   "cell_type": "markdown",
   "metadata": {},
   "source": [
    "直观地，可以理解为最小的里最大的那个要比最大的中最小的那个要大。具体的证明过程如下："
   ]
  },
  {
   "cell_type": "markdown",
   "metadata": {},
   "source": [
    "首先这里的约束要全部满足，对偶问题与原始问题的关系如下："
   ]
  },
  {
   "cell_type": "markdown",
   "metadata": {},
   "source": [
    "$D(\\alpha,\\beta) =\\min_x  L(x,\\alpha,\\beta) \\le L(x,\\alpha,\\beta) \\le \\max_{\\alpha,\\beta,\\beta_i \\ge 0}L(x,\\alpha,\\beta) =f(x)$"
   ]
  },
  {
   "cell_type": "markdown",
   "metadata": {},
   "source": [
    "即 D(α,β)≤f(x)，所以自然而然可得:\n",
    "    \n",
    "$d^*= \\max_{\\alpha,\\beta;\\beta_i \\ge 0} D(\\alpha,\\beta) \\le \\min_x f(x) =p^*$"
   ]
  },
  {
   "cell_type": "markdown",
   "metadata": {},
   "source": [
    "现在通过对偶性，为原始问题引入一个下界，\n",
    "\n",
    "$d^∗≤p^∗ .$"
   ]
  },
  {
   "cell_type": "markdown",
   "metadata": {},
   "source": [
    "对偶问题总是一个凸优化的问题，这样对于那些难以求解的原始问题 （甚至是 NP 问题），均可以通过转化为偶问题，通过优化这个对偶问题来得到原始问题的一个下界， 与弱对偶性相对应的有一个强对偶性（strong duality） ，强对偶即满足：\n",
    "\n",
    "$d^∗=p^∗$"
   ]
  },
  {
   "cell_type": "markdown",
   "metadata": {},
   "source": [
    "强对偶是一个非常好的性质，因为在强对偶成立的情况下，可以通过求解对偶问题来得到原始问题的解，在 SVM 中就是这样做的。当然并不是所有的对偶问题都满足强对偶性 ，在 SVM 中是直接假定了强对偶性的成立，其实只要满足一些条件，强对偶性是成立的，比如说 Slater 条件与KKT条件。"
   ]
  },
  {
   "cell_type": "markdown",
   "metadata": {},
   "source": [
    "对偶问题是关于参数的线性问题，一定是凸的。"
   ]
  },
  {
   "cell_type": "markdown",
   "metadata": {},
   "source": [
    "KKT 条件：\n",
    "\n",
    "$\\begin{align}  \\nabla_x L(x,\\alpha,\\beta) &= 0   \\\\ \\beta_jg_j(x) &= 0  , \\ j=1,2,...,n\\\\ h_i(x)&= 0 , \\ i=1,2,...,m  \\\\ g_j(x) &\\le 0  , \\  j=1,2,...,n  \\\\ \\beta_j &\\ge  0 , \\ j=1,2,...,n  \\\\ \\end{align}$"
   ]
  },
  {
   "cell_type": "code",
   "execution_count": null,
   "metadata": {},
   "outputs": [],
   "source": []
  }
 ],
 "metadata": {
  "kernelspec": {
   "display_name": "Python 3",
   "language": "python",
   "name": "python3"
  },
  "language_info": {
   "codemirror_mode": {
    "name": "ipython",
    "version": 3
   },
   "file_extension": ".py",
   "mimetype": "text/x-python",
   "name": "python",
   "nbconvert_exporter": "python",
   "pygments_lexer": "ipython3",
   "version": "3.7.1"
  }
 },
 "nbformat": 4,
 "nbformat_minor": 2
}
