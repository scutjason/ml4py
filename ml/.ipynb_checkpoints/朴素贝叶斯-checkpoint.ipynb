{
 "cells": [
  {
   "cell_type": "code",
   "execution_count": 2,
   "metadata": {},
   "outputs": [],
   "source": [
    "# 朴素贝叶斯是最简单的概率图模型，也叫条件独立性假设。"
   ]
  },
  {
   "cell_type": "markdown",
   "metadata": {},
   "source": [
    "$P(x|y) = ∏P(x_i|y)$ \n",
    "\n",
    "xi是独立的\n"
   ]
  },
  {
   "cell_type": "code",
   "execution_count": 3,
   "metadata": {},
   "outputs": [],
   "source": [
    "# 为什么要做这个条件独立性假设呢？  其实就是为了简化运算。"
   ]
  },
  {
   "cell_type": "markdown",
   "metadata": {},
   "source": [
    "有了前面的高斯判别模型基础，在理解朴素贝叶斯就不难了\n",
    "\n",
    "它其实在说啥事呢？ 就是求一个已知x求y的概率$p(y|x)$，感觉概率图模型都是干这事，\n",
    "\n",
    "从概率的角度，看后验概率最大。\n",
    "\n",
    "我们看这个概率呢其实是一个后验概率，\n",
    "\n",
    "$p(y|x) = \\frac{p(x|y)*p(y)}{p(x)} ∝ p(x|y)*p(y)$\n",
    "\n",
    "然后就是令 MAP 最大后验概率。\n",
    "\n",
    "$p(y|x)$\n",
    "\n",
    "我们看$p(y)$，如果是二分类问题，%p(y)%就是伯努利分布，如果是多分类，$p(y)$就是catalog 分布\n",
    "\n",
    "P(y)表示了样本空间中各类样本所占的比例\n",
    "$p(y) = \\frac{D(y_i)}{D}$\n",
    "\n",
    "\n",
    "根据大数定律，当训练集中包含充足的独立同分布样本时，P(y)可根据各类样本出现的频率来估计\n",
    "\n",
    "\n",
    "而$p(x|y)$前面已经求出来了。这就是为什么要假设x独立的原因，简化计算嘛。\n",
    "\n",
    "$p(x_i|y) = \\frac{D(x_i,y_i)}{D(y_i)}$ \n",
    "\n",
    "假设$x_i$符合多项式分布，这样得到$P(x_i|y_i)$是在样本类别 $y_i$ 中，特征 $x_i$ 出现的频率\n",
    "\n",
    "\n",
    "\n",
    "至于怎么求？？？ \n",
    "MLE嘛，对吧。ok\n",
    "\n",
    "确定MAP假设的方法是用贝叶斯公式计算每个候选假设的后验概率，可能会多个属性，且属性之间可能存在复杂的依赖关系，这就使得P（D|h）的计算十分困难，为了简化条件概率的求解难度，提出了一种条件独立假设，即假设训练数据D中，各属性之间相互独立。在贝叶斯算法基础上添上条件独立假设，我们就称之为朴素贝叶斯算法。\n",
    "\n",
    "啥意思？也就是，把每个特征的后验概率都求一次，谁最大，就判定是哪一类。\n",
    "\n",
    "\n",
    "所谓生成学习算法，是指由训练数据学习联合概率分布P(X,Y)，然后求得后验概率P(X|Y)。具体来说，利用训练数据学习P(X|Y)和p(Y)的估计，得到联合概率分布："
   ]
  },
  {
   "cell_type": "code",
   "execution_count": 7,
   "metadata": {},
   "outputs": [
    {
     "data": {
      "text/plain": [
       "'\\n\\n\\n贝叶斯学派的思想可以概括为先验概率+数据=后验概率\\n\\n\\n贝叶斯学派的思想可以概括为先验概率+数据=后验概率。\\n也就是说我们在实际问题中需要得到的后验概率，可以通过先验概率和数据一起综合得到。\\n数据大家好理解，被频率学派攻击的是先验概率，一般来说先验概率就是我们对于数据所在领域的历史经验，\\n但是这个经验常常难以量化或者模型化，于是贝叶斯学派大胆的假设先验分布的模型，比如正态分布，beta分布等。\\n这个假设一般没有特定的依据，因此一直被频率学派认为很荒谬。\\n虽然难以从严密的数学逻辑里推出贝叶斯学派的逻辑，但是在很多实际应用中，贝叶斯理论很好用，比如垃圾邮件分类，文本分类\\n\\n\\n\\n'"
      ]
     },
     "execution_count": 7,
     "metadata": {},
     "output_type": "execute_result"
    }
   ],
   "source": [
    "'''\n",
    "\n",
    "\n",
    "贝叶斯学派的思想可以概括为先验概率+数据=后验概率\n",
    "\n",
    "\n",
    "贝叶斯学派的思想可以概括为先验概率+数据=后验概率。\n",
    "也就是说我们在实际问题中需要得到的后验概率，可以通过先验概率和数据一起综合得到。\n",
    "数据大家好理解，被频率学派攻击的是先验概率，一般来说先验概率就是我们对于数据所在领域的历史经验，\n",
    "但是这个经验常常难以量化或者模型化，于是贝叶斯学派大胆的假设先验分布的模型，比如正态分布，beta分布等。\n",
    "这个假设一般没有特定的依据，因此一直被频率学派认为很荒谬。\n",
    "虽然难以从严密的数学逻辑里推出贝叶斯学派的逻辑，但是在很多实际应用中，贝叶斯理论很好用，比如垃圾邮件分类，文本分类\n",
    "\n",
    "\n",
    "\n",
    "'''"
   ]
  },
  {
   "cell_type": "markdown",
   "metadata": {},
   "source": [
    "### sklearn中使用朴素贝叶斯分类"
   ]
  },
  {
   "cell_type": "code",
   "execution_count": 9,
   "metadata": {},
   "outputs": [],
   "source": [
    "import numpy as np\n",
    "import matplotlib.pyplot as plt\n",
    "from sklearn import datasets"
   ]
  },
  {
   "cell_type": "code",
   "execution_count": 10,
   "metadata": {},
   "outputs": [],
   "source": [
    "iris = datasets.load_iris()\n",
    "\n",
    "X = iris.data\n",
    "y = iris.target"
   ]
  },
  {
   "cell_type": "code",
   "execution_count": 11,
   "metadata": {},
   "outputs": [
    {
     "data": {
      "text/plain": [
       "(150, 4)"
      ]
     },
     "execution_count": 11,
     "metadata": {},
     "output_type": "execute_result"
    }
   ],
   "source": [
    "X.shape"
   ]
  },
  {
   "cell_type": "code",
   "execution_count": 12,
   "metadata": {},
   "outputs": [],
   "source": [
    "from sklearn.naive_bayes import GaussianNB\n",
    "\n",
    "\n",
    "#         GaussianNB：先验为高斯分布的朴素贝叶斯\n",
    "\n",
    "#         MultinomialNB：先验为多项式分布的朴素贝叶斯\n",
    "\n",
    "#         BernoulliNB：先验为伯努利分布的朴素贝叶斯"
   ]
  },
  {
   "cell_type": "code",
   "execution_count": 13,
   "metadata": {},
   "outputs": [],
   "source": [
    "from sklearn.model_selection import train_test_split"
   ]
  },
  {
   "cell_type": "code",
   "execution_count": 14,
   "metadata": {},
   "outputs": [],
   "source": [
    "X_train,X_test, y_train,y_test = train_test_split(X,y,random_state=666)"
   ]
  },
  {
   "cell_type": "code",
   "execution_count": 15,
   "metadata": {},
   "outputs": [],
   "source": [
    "gaussian_nb = GaussianNB()"
   ]
  },
  {
   "cell_type": "code",
   "execution_count": 16,
   "metadata": {},
   "outputs": [
    {
     "data": {
      "text/plain": [
       "GaussianNB(priors=None, var_smoothing=1e-09)"
      ]
     },
     "execution_count": 16,
     "metadata": {},
     "output_type": "execute_result"
    }
   ],
   "source": [
    "gaussian_nb.fit(X_train, y_train)\n",
    "\n",
    "# priors 用户可以自己设置这个先验概率P(y_i)"
   ]
  },
  {
   "cell_type": "code",
   "execution_count": 17,
   "metadata": {},
   "outputs": [
    {
     "data": {
      "text/plain": [
       "0.9736842105263158"
      ]
     },
     "execution_count": 17,
     "metadata": {},
     "output_type": "execute_result"
    }
   ],
   "source": [
    "gaussian_nb.score(X_test, y_test)"
   ]
  },
  {
   "cell_type": "markdown",
   "metadata": {},
   "source": [
    "### 自己实现朴素贝叶斯"
   ]
  },
  {
   "cell_type": "code",
   "execution_count": null,
   "metadata": {},
   "outputs": [],
   "source": []
  }
 ],
 "metadata": {
  "kernelspec": {
   "display_name": "Python 3",
   "language": "python",
   "name": "python3"
  },
  "language_info": {
   "codemirror_mode": {
    "name": "ipython",
    "version": 3
   },
   "file_extension": ".py",
   "mimetype": "text/x-python",
   "name": "python",
   "nbconvert_exporter": "python",
   "pygments_lexer": "ipython3",
   "version": "3.7.1"
  }
 },
 "nbformat": 4,
 "nbformat_minor": 2
}
