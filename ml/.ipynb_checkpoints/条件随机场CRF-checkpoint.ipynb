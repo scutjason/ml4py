{
 "cells": [
  {
   "cell_type": "markdown",
   "metadata": {},
   "source": [
    "### 分类问题的背景\n",
    "\n",
    "<img src=\"图片/645723383.jpg\">"
   ]
  },
  {
   "cell_type": "markdown",
   "metadata": {},
   "source": [
    "### MEMM\n",
    "\n",
    "<img src=\"图片/884422996.jpg\">"
   ]
  },
  {
   "cell_type": "markdown",
   "metadata": {},
   "source": [
    "### MEMM的优势与问题\n",
    "\n",
    "<img src=\"图片/2056185406.jpg\">"
   ]
  },
  {
   "cell_type": "markdown",
   "metadata": {},
   "source": [
    "memm模型存在局部归一化的问题，导致预测序列倾向于选择那些转移状态（transfer）比较少的节点，但是如果不归一化会存在什么问题呢？\n",
    "当我们使用最大熵、贝叶斯或者其它分类模型，预测当前字“好”可能归属于{S,B,E,M}中哪个状态时，得到的是一个总和为1的概率矩阵，比如{0.1, 0.3, 0.5, 0.1}，但是，前一个状态S只有可能转移到当前状态为B或者S，不可能转移到M和E，所以其转移矩阵P{S,B,E,M}可能等于{0.3, 0, 0, 0.7}，这样“好”字对应于B，S的发射概率只有0.3和0.5，其余的0.2是不起作用的，但是直接忽略掉这0.2会造成了模型的整体误差，所以需要把0.3和0.5进行归一化变成3/8和5/8，这也就是局部归一化。\n",
    "但是，经过局部归一化之后，因为S的转出状态比较少，导致转移概率*发射概率 相对于转出状态多的B而言是比较大的，这会使模型倾向于更多的选择状态S。\n"
   ]
  },
  {
   "cell_type": "markdown",
   "metadata": {
    "collapsed": true
   },
   "source": [
    "### CRF"
   ]
  },
  {
   "cell_type": "markdown",
   "metadata": {},
   "source": [
    "crf是指在给定随机变量X条件下，随机变量Y的马尔科夫随机场。当然我们一般用crf解决标注问题。此时，crf的目标就是求条件概率P(Y|X)，Y是输出变量，表示标记序列（也叫状态序列），X是输入变量，表示标注的观测序列。\n",
    "\n",
    "\n",
    "利用训练数据集通过极大似然估计或正则化的极似然估计得到条件概率模型$P^*(Y|X)$；预测时，对于给定的输入序列x，求出条件概率$P^*(Y|X)$最大的输出序列$Y^*$\n",
    "\n",
    "NLP中的词性标注(POS Tagging)就是非常适合CRF使用的地方。"
   ]
  },
  {
   "cell_type": "code",
   "execution_count": null,
   "metadata": {},
   "outputs": [],
   "source": []
  }
 ],
 "metadata": {
  "kernelspec": {
   "display_name": "Python 3",
   "language": "python",
   "name": "python3"
  },
  "language_info": {
   "codemirror_mode": {
    "name": "ipython",
    "version": 3
   },
   "file_extension": ".py",
   "mimetype": "text/x-python",
   "name": "python",
   "nbconvert_exporter": "python",
   "pygments_lexer": "ipython3",
   "version": "3.7.1"
  }
 },
 "nbformat": 4,
 "nbformat_minor": 2
}
