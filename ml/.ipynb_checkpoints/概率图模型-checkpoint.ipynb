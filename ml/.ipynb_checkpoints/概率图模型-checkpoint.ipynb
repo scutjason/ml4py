{
 "cells": [
  {
   "cell_type": "markdown",
   "metadata": {},
   "source": [
    "### 什么是概率图模型\n",
    "\n",
    "<img src=\"图片/976329984.jpg\">"
   ]
  },
  {
   "cell_type": "markdown",
   "metadata": {},
   "source": [
    " <img src=\"图片/1267750413.jpg\">"
   ]
  },
  {
   "cell_type": "markdown",
   "metadata": {},
   "source": [
    "### 高斯网络\n",
    "\n",
    "<img src=\"图片/907113636.jpg\">"
   ]
  },
  {
   "cell_type": "markdown",
   "metadata": {},
   "source": [
    "高斯网络中的随机变量x是高维的高斯分布。注意上面的条件独立性。\n",
    "\n",
    "按照有向图和无向图，高斯网络可以分为高斯贝叶斯网络和高斯马尔科夫随机场。"
   ]
  },
  {
   "cell_type": "markdown",
   "metadata": {},
   "source": [
    "高斯贝叶斯网络\n",
    "<img src=\"图片/1409009693.jpg\">\n",
    "\n",
    "从局部看，高斯贝叶斯网络实际上就是线性高斯模型。\n",
    "\n",
    "X_pa是指a的父亲节点（因子分解）"
   ]
  },
  {
   "cell_type": "markdown",
   "metadata": {},
   "source": [
    "<img src=\"图片/693047152.jpg\">"
   ]
  },
  {
   "cell_type": "markdown",
   "metadata": {},
   "source": [
    "卡尔曼滤波本质上也是一种线性高斯模型，只不过他的父亲节点只有一个，这种链式的。"
   ]
  },
  {
   "cell_type": "code",
   "execution_count": null,
   "metadata": {
    "collapsed": true
   },
   "outputs": [],
   "source": []
  }
 ],
 "metadata": {
  "kernelspec": {
   "display_name": "Python 3",
   "language": "python",
   "name": "python3"
  },
  "language_info": {
   "codemirror_mode": {
    "name": "ipython",
    "version": 3
   },
   "file_extension": ".py",
   "mimetype": "text/x-python",
   "name": "python",
   "nbconvert_exporter": "python",
   "pygments_lexer": "ipython3",
   "version": "3.6.3"
  }
 },
 "nbformat": 4,
 "nbformat_minor": 2
}
