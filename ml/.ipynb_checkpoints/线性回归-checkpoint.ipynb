{
 "cells": [
  {
   "cell_type": "code",
   "execution_count": null,
   "metadata": {
    "collapsed": true
   },
   "outputs": [],
   "source": [
    "# 线性回归\n",
    "'''\n",
    "1、样本本身不是回归的，但是θ参数本身是一次的，\n",
    "    也可以在线性回归的框架下。\n",
    "\n",
    "2、分段线性回归，所以lr就是分段加权线性回归。\n",
    "    这样参数θ就很多了，甚至跟样本是同级别。\n",
    "    通常的做法，权值ω看成是高斯核，离得近就取大一些，\n",
    "    离得远就取小一些。\n",
    "'''\n",
    "\n",
    "\n",
    "\n"
   ]
  }
 ],
 "metadata": {
  "kernelspec": {
   "display_name": "Python 3",
   "language": "python",
   "name": "python3"
  },
  "language_info": {
   "codemirror_mode": {
    "name": "ipython",
    "version": 3
   },
   "file_extension": ".py",
   "mimetype": "text/x-python",
   "name": "python",
   "nbconvert_exporter": "python",
   "pygments_lexer": "ipython3",
   "version": "3.6.3"
  }
 },
 "nbformat": 4,
 "nbformat_minor": 2
}
