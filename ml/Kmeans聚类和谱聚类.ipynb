{
 "cells": [
  {
   "cell_type": "markdown",
   "metadata": {},
   "source": [
    "### Kmeans聚类\n",
    "\n",
    "算法原理\n",
    "\n",
    "kmeans的计算方法如下：\n",
    "\n",
    "1 随机选取k个中心点\n",
    "\n",
    "2 遍历所有数据，将每个数据划分到最近的中心点中\n",
    "\n",
    "3 计算每个聚类的平均值，并作为新的中心点\n",
    "\n",
    "4 重复2-3，直到这k个中心点不再变化（收敛了），或执行了足够多的迭代\n",
    "\n",
    "时间复杂度：O(I*n*k*m)\n",
    "\n",
    "空间复杂度：O(n*m)\n",
    "\n",
    "其中m为每个元素字段个数，n为数据量，I为迭代次数。一般I,k,m均可认为是常量，所以时间和空间复杂度可以简化为O(n)，即线性的。\n",
    "\n",
    " "
   ]
  },
  {
   "cell_type": "code",
   "execution_count": null,
   "metadata": {},
   "outputs": [],
   "source": []
  }
 ],
 "metadata": {
  "kernelspec": {
   "display_name": "Python 3",
   "language": "python",
   "name": "python3"
  },
  "language_info": {
   "codemirror_mode": {
    "name": "ipython",
    "version": 3
   },
   "file_extension": ".py",
   "mimetype": "text/x-python",
   "name": "python",
   "nbconvert_exporter": "python",
   "pygments_lexer": "ipython3",
   "version": "3.7.1"
  }
 },
 "nbformat": 4,
 "nbformat_minor": 2
}
