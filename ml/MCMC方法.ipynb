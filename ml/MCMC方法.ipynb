{
 "cells": [
  {
   "cell_type": "markdown",
   "metadata": {},
   "source": [
    "### 首先了解一下Monte Carlo Method 蒙特卡洛方法"
   ]
  },
  {
   "cell_type": "markdown",
   "metadata": {},
   "source": [
    "#### 1、什么是蒙特卡洛方法\n",
    "\n",
    "它是一种以概率统计理论为指导的数值计算方法。\n",
    "\n",
    "###### 是一类方法的统称！\n",
    "\n",
    "再说一点，为什么要采样：采样的目的是评估一个函数在某个分布上的期望值！\n",
    "常用于计算一些非常复杂无法直接求解的函数期望。"
   ]
  },
  {
   "cell_type": "markdown",
   "metadata": {},
   "source": [
    "#### 应用\n",
    "\n",
    "1、求定积分"
   ]
  },
  {
   "cell_type": "markdown",
   "metadata": {},
   "source": [
    "<img src=\"图片/积分.png\">\n",
    "\n",
    "目标：求定积分$\\int^{b}_{a}{f(x)dx}$\n",
    "\n",
    "方法：当我们在[a,b]之间随机取一点x时，它对应的函数值就是f(x)。接下来我们就可以用f(x) * (b - a)来粗略估计曲线下方的面积，也就是我们需要求的积分值，当然这种估计（或近似）是非常粗略的。 \n",
    "\n",
    "多采样几次：\n",
    "<img src=\"图片/采样.png\">\n",
    "\n",
    "在此图中，做了四次随机采样，得到了四个随机样本$x1,x2,x3,x4x1,x2,x3,x4$，\n",
    "\n",
    "并且得到了这四个样本的$f(xi)f(xi)$的值分别为$f(x1),f(x2),f(x3),f(x4)f(x1),f(x2),f(x3),f(x4)$。\n",
    "\n",
    "对于这四个样本，每个样本能求一个近似的面积值，大小为$f(xi)∗(b−a)f(xi)∗(b−a)$。\n",
    "\n",
    "为什么能这么干么？\n",
    "\n",
    "对照图下面那部分很容易理解，每个样本都是对原函数f的近似，\n",
    "所以我们认为$f(x)$的值一直都等于$f(xi)$。\n",
    "\n",
    "$\\color{red}{虽然上面的方法可以一定程度上求解出近似的解}$\n",
    "\n",
    "$\\color{red}{但是它隐含了一个假定，即x在[a,b]之间是均匀分布的，而绝大部分情况，}$\n",
    "\n",
    "$\\color{red}{x在[a,b]之间不是均匀分布的。如果我们用上面的方法，}$\n",
    "\n",
    "$\\color{red}{则模拟求出的结果很可能和真实值相差甚远。}$\n",
    "\n",
    "$\\color{blue}{啥意思？ 也就是说，如果采样点是服从p(x)分布，那我们采样也要尽可能的安照p(x)分布去采样}$"
   ]
  },
  {
   "cell_type": "markdown",
   "metadata": {},
   "source": [
    "#### 更一般的情况，如果我们的采样是带有概率的呢？"
   ]
  },
  {
   "cell_type": "markdown",
   "metadata": {},
   "source": [
    "现在我们考虑要求的被积函数是：$I = \\int^{b}_{a}{g(x)dx}$\n",
    "\n",
    "且每次采样都是服从一定的概率$f_X(x)$去采样。\n",
    "\n",
    "实际上，上面的例子可以认为每次采样都是等概率 $\\frac{1}{b-a}$，服从均匀分布\n",
    "\n",
    "我们看下，此时$g(x)$中的这个$x$是不是就可以理解为条件概率啊！！！！！！ 对吧\n",
    "\n",
    "$p_{g(x_i)} = p_{f_X(x_i)}*p_{g^*_{x_i}}$\n",
    "\n",
    "所以：$g(x) = g^*_{x}*f_X(x)$\n",
    "\n",
    "$p_{f_X(x_i)}$ 是采样$x_i$的概率，\n",
    "\n",
    "$p_{g^*_{x_i}}$ 则可以立即为是$g^*_{x_i}$本身的概率。\n",
    "\n",
    "所以上面的定积分就可以认为是一个函数的期望问题！！！ \n",
    "\n",
    "不过这个函数并不是$g(x)$，而是$g^*(x)$, 因为$g(x)$相当于是一个条件概率了。\n",
    "\n",
    "\n",
    "$I = \\int^{b}_{a}{g^*(x)*f_X(x_i)dx}$  这就是求函数$g^*(x)$基于概率分布$f_X(x_i)$的函数期望。\n",
    "\n",
    "当然$\\int^{b}_{a}{f_X(x)}dx=1$\n",
    "\n",
    "ok！！！\n",
    "\n",
    "所以我们的目标（定积分）：\n",
    "1. 产生服从分布律FX的随机变量$X_i(i=1,2,⋯,N)$\n",
    "2. 计算均值 \n",
    "$\\overline{I} = \\frac{1}{N}\\sum_{i=1}^{N}{g^*(X_i)} = \\frac{1}{N}\\sum_{i=1}^{N}{\\frac{g_{(x)}}{f_X(x)}}$"
   ]
  },
  {
   "cell_type": "markdown",
   "metadata": {},
   "source": [
    "#### 实际上下面的几个随机分布采样都可以认为是蒙特卡洛采样方法! \n",
    "#### 2、概率分布采样"
   ]
  },
  {
   "cell_type": "markdown",
   "metadata": {},
   "source": [
    "上面一节，我们已经能知道了蒙特卡洛方法的关键是得到x的概率分布。\n",
    "\n",
    "如果求出了x的概率分布，我们可以基于概率分布去采样基于这个概率分布的N个x的样本集，\n",
    "\n",
    "带入蒙特卡洛积分式子（也就是个求和）即可求解。\n",
    "\n",
    "###### 但是还有一个关键的问题需要解决，即如何基于概率分布去采样基于这个概率分布的N个x的样本集。　"
   ]
  },
  {
   "cell_type": "markdown",
   "metadata": {},
   "source": [
    "先来个简单的，假设概率分布（也叫cdf）$P(x)$已知，概率密度函数（pdf）是$f(x)$"
   ]
  },
  {
   "cell_type": "markdown",
   "metadata": {},
   "source": [
    "##### Gamma\n",
    "\n",
    "1、首先看下gamma函数的定义：\n",
    "\n",
    "<img src=\"图片/gamma.png\">\n",
    "\n",
    "\n",
    "2、gamma函数的性质：\n",
    "\n",
    "    1.递推公式：Γ(x+1)=xΓ(x)\n",
    "\n",
    "    2.对于正整数n, 有Γ(n+1)=n!\n",
    "\n",
    "可以看成是阶乘在实数集上的延拓!\n",
    "\n",
    "$\\int_{0}^{\\infty}\\frac{x^{\\alpha-1}e^{-x}}{Γ(\\alpha)}dx = 1$\n",
    "\n",
    "概率密度函数\n",
    "$Gamma(x|\\alpha)=\\frac{x^{\\alpha-1}e^{-x}}{Γ(\\alpha)}$\n",
    "\n",
    "更一般的形式，如果x=βt\n",
    "\n",
    "$Gamma(t|\\alpha,\\beta)=\\frac{{\\beta^\\alpha t^{\\alpha-1}}e^{-\\beta t}}{Γ(\\alpha)}$\n",
    "\n",
    "其中 α 称为形状参数（shape parameter），主要决定了分布曲线的形状，\n",
    "而 β 称为 rate parameter（或叫 inverse scale parameter，$\\frac{1}{β}$称为scale parameter），主要决定曲线有多陡。"
   ]
  },
  {
   "cell_type": "code",
   "execution_count": 9,
   "metadata": {},
   "outputs": [
    {
     "data": {
      "image/png": "[encoded data removed]",
      "text/plain": [
       "<Figure size 432x288 with 1 Axes>"
      ]
     },
     "metadata": {},
     "output_type": "display_data"
    }
   ],
   "source": [
    "from scipy.stats import gamma\n",
    "\n",
    "a = 2.0\n",
    "x = np.arange(0, 20, 0.01)\n",
    "y = gamma.pdf(x, a)\n",
    "plt.plot(x, y)\n",
    "plt.title('Gamma: a=%.1f' % (a))\n",
    "plt.xlabel('x')\n",
    "plt.ylabel('density')\n",
    "plt.show()\n"
   ]
  },
  {
   "cell_type": "markdown",
   "metadata": {},
   "source": [
    "#### beta分布\n",
    "<img src=\"图片/beta.png\">"
   ]
  },
  {
   "cell_type": "code",
   "execution_count": 10,
   "metadata": {},
   "outputs": [
    {
     "data": {
      "image/png": "[encoded data removed]",
      "text/plain": [
       "<Figure size 432x288 with 1 Axes>"
      ]
     },
     "metadata": {},
     "output_type": "display_data"
    }
   ],
   "source": [
    "from scipy.stats import beta\n",
    "import numpy as np\n",
    "import matplotlib.pyplot as plt\n",
    "\n",
    "a = 0.5\n",
    "b = 0.5\n",
    "x = np.arange(0.01, 1, 0.01)\n",
    "y = beta.pdf(x, a, b)\n",
    "plt.plot(x, y)\n",
    "plt.title('Beta: a=%.1f,b=%.1f' % (a, b))\n",
    "plt.xlabel('x')\n",
    "plt.ylabel('density')\n",
    "plt.show()"
   ]
  },
  {
   "cell_type": "markdown",
   "metadata": {},
   "source": [
    "#### 3、拒绝-接受采样"
   ]
  },
  {
   "cell_type": "code",
   "execution_count": null,
   "metadata": {
    "collapsed": true
   },
   "outputs": [],
   "source": []
  }
 ],
 "metadata": {
  "kernelspec": {
   "display_name": "Python 3",
   "language": "python",
   "name": "python3"
  },
  "language_info": {
   "codemirror_mode": {
    "name": "ipython",
    "version": 3
   },
   "file_extension": ".py",
   "mimetype": "text/x-python",
   "name": "python",
   "nbconvert_exporter": "python",
   "pygments_lexer": "ipython3",
   "version": "3.6.3"
  }
 },
 "nbformat": 4,
 "nbformat_minor": 2
}
