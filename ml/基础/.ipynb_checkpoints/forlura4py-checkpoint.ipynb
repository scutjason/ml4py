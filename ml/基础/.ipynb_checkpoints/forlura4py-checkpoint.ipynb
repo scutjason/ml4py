{
 "cells": [
  {
   "cell_type": "markdown",
   "metadata": {},
   "source": [
    "### 向量的范数"
   ]
  },
  {
   "cell_type": "code",
   "execution_count": 1,
   "metadata": {},
   "outputs": [
    {
     "name": "stdout",
     "output_type": "stream",
     "text": [
      "3.0\n",
      "1.0\n",
      "6.0\n",
      "3.7416573867739413\n"
     ]
    }
   ],
   "source": [
    "from numpy import *\n",
    "import numpy.linalg as LA  # linalg : numpy中专门用于矩阵科学计算\n",
    "\n",
    "vector = [1, 2, 3]  # ()表示tuple，不可变; []表示list，可变; {} 表示字典，映射\n",
    "print(LA.norm(vector,inf)) # 所有向量元素绝对值中的最大值\n",
    "print(LA.norm(vector,-inf)) # 所有向量元素绝对值中的最小值\n",
    "print(LA.norm(vector,1)) #1范数  向量元素绝对值之和\n",
    "print(LA.norm(vector,2)) #2范数  向量元素绝对值的平方和再开方"
   ]
  },
  {
   "cell_type": "markdown",
   "metadata": {},
   "source": [
    "### 矩阵分析"
   ]
  },
  {
   "cell_type": "code",
   "execution_count": 2,
   "metadata": {},
   "outputs": [
    {
     "name": "stdout",
     "output_type": "stream",
     "text": [
      "24.0\n",
      "6.0\n",
      "18.0\n",
      "16.84810335261421\n",
      "----------------- 3.7416573867739418\n",
      "================= 3.7416573867739413\n"
     ]
    }
   ],
   "source": [
    "# 矩阵的范数\n",
    "from numpy import *\n",
    "import numpy.linalg as LA\n",
    "\n",
    "matrix = mat('1, 2, 3; 4,5,6; 7,8,9') # mat为numpy中的矩阵\n",
    "print(LA.norm(matrix,inf)) #无穷范数  矩阵行向量中绝对值之和的最大值\n",
    "print(LA.norm(matrix,-inf)) \n",
    "print(LA.norm(matrix,1)) #1范数   矩阵列向量中绝对值之和的最大值\n",
    "print(LA.norm(matrix,2)) #2范数   AAt 矩阵的最大特征值的开平方\n",
    "\n",
    "a=mat([1,2,3])\n",
    "print(\"-----------------\", LA.norm(a,2)) #2范数   AAt 矩阵的最大特征值的开平方，跟下面的一样，也是欧式集合距离，平方在开方\n",
    "print(\"=================\", LA.norm(a)) # 默认是2范数"
   ]
  },
  {
   "cell_type": "code",
   "execution_count": 3,
   "metadata": {},
   "outputs": [
    {
     "name": "stdout",
     "output_type": "stream",
     "text": [
      "det is  -9.51619735392994e-16\n"
     ]
    }
   ],
   "source": [
    "# 矩阵的基本算法\n",
    "#行列式，方阵才有行列式，表示N个N阶向量所形成的面积，D= |a11, a12; a21, a22| = a11*a22 - a12*a21\n",
    "det = LA.det(matrix);\n",
    "print(\"det is \", det)\n"
   ]
  },
  {
   "cell_type": "code",
   "execution_count": 4,
   "metadata": {},
   "outputs": [
    {
     "name": "stdout",
     "output_type": "stream",
     "text": [
      "matrit.T is  [[1 4 7]\n",
      " [2 5 8]\n",
      " [3 6 9]]\n"
     ]
    }
   ],
   "source": [
    "# 转置矩阵的性质， (AB).T = B.T*A.T \n",
    "#.T表示转置\n",
    "tmat = matrix.T  \n",
    "print(\"matrit.T is \", tmat)\n"
   ]
  },
  {
   "cell_type": "code",
   "execution_count": 5,
   "metadata": {},
   "outputs": [
    {
     "name": "stdout",
     "output_type": "stream",
     "text": [
      "matrix.I is  [[ 3.15251974e+15 -6.30503948e+15  3.15251974e+15]\n",
      " [-6.30503948e+15  1.26100790e+16 -6.30503948e+15]\n",
      " [ 3.15251974e+15 -6.30503948e+15  3.15251974e+15]]\n"
     ]
    }
   ],
   "source": [
    "# 逆矩阵 对于n阶方阵A，如果存在n阶方阵C，使得AC=CA=E（E为n阶单位矩阵），则把方阵C称为A的逆矩阵（简称逆阵）记作A-1\n",
    "#.I表示逆矩阵   (AB)-1 = B-1A-1 \n",
    "# 矩阵行列式不为0，可逆\n",
    "imat = matrix.I\n",
    "print(\"matrix.I is \", imat)"
   ]
  },
  {
   "cell_type": "code",
   "execution_count": 6,
   "metadata": {},
   "outputs": [
    {
     "name": "stdout",
     "output_type": "stream",
     "text": [
      "feature value is  [ 1.61168440e+01 -1.11684397e+00 -9.75918483e-16]\n",
      "featurn vector is  (array([ 1.61168440e+01, -1.11684397e+00, -9.75918483e-16]), matrix([[-0.23197069, -0.78583024,  0.40824829],\n",
      "        [-0.52532209, -0.08675134, -0.81649658],\n",
      "        [-0.8186735 ,  0.61232756,  0.40824829]]))\n"
     ]
    }
   ],
   "source": [
    "# 方阵的特征向量和特征值  \n",
    "# 特征向量在主成分分析（PCA）中具有广泛应用，将维和人脸特征识别\n",
    "# Ax = vx\n",
    "# 如果矩阵对某一个向量或某些向量只发生伸缩变换，不对这些向量产生旋转的效果，那么这些向量就称为这个矩阵的特征向量，伸缩的比例就是特征值。\n",
    "# 这个容易理解，可以这样想，把特征向量看成是其他维度值为0，只有某个维度上有值[0,0,3,...,0]，这样一乘只有3这个维度有拉伸，其他不变\n",
    "# 矩阵意味着变换，对于它的特征向量而言，就是当作用于这个特征向量上时，这个特征向量只会改变长度，而不改变方向\n",
    "# 特征向量的两个重要的性质1、方向不变形（包括方向的反转） 2、对于振动谱而言，特征向量只改边振幅，而不会产生之后或者超前\n",
    "a=LA.eigvals(matrix)\n",
    "print(\"feature value is \", a)\n",
    "x=LA.eig(matrix)\n",
    "print(\"featurn vector is \", x)"
   ]
  },
  {
   "cell_type": "code",
   "execution_count": 7,
   "metadata": {},
   "outputs": [
    {
     "name": "stdout",
     "output_type": "stream",
     "text": [
      "dot[x, y] is  26\n"
     ]
    }
   ],
   "source": [
    "# 向量积（叉积） a^b = c  c为向量，|c| = |a| * |b| * sinθ，c的方向满足右手定律，四指从a弯向b（小于180°）\n",
    "# 向量积的几何意义为 方向垂直a、b所在平面，长度是以|b|*sinθ为高、|a|为底的平行四边形的面积\n",
    "# 叉积在图像学中非常有用,通过叉积可以构建XYZ坐标系\n",
    "# a^b = -b^a\n",
    "# # 数量积（点积） [a,b] = a1*b1 + a2*b2 数量积是一个数，θ=arccos([a,b]/(|a|*|b|)) \n",
    "# 数量积 可以用来表征或计算两个向量之间的夹角，以及在b向量在a向量方向上的投影  a.b=|a|.|b|.conθ\n",
    "# 利用点积可判断一个多边形是否面向摄像机还是背向摄像机\n",
    "x=[1,2,3]\n",
    "y=[3,4,5]\n",
    "z=dot(x,y)\n",
    "print(\"dot[x, y] is \", z)"
   ]
  },
  {
   "cell_type": "code",
   "execution_count": 8,
   "metadata": {
    "collapsed": true
   },
   "outputs": [],
   "source": [
    "# \n",
    "# 正交向量 两个向量的数量积为0\n",
    "# \n",
    "\n",
    "# 正交矩阵 不改变向量间的夹角和长度，不过坐标系做了旋转\n",
    "\n",
    "# 对称矩阵 元素以主对角线为对称轴对应相等的矩阵 A+A.T为对称矩阵\n",
    "# 对称矩阵 A为m*n矩阵，A*A.T为对称矩阵\n",
    "# 对称矩阵用于压缩存储，只需存储上三角信息，能节约一半空间\n",
    "# 对称矩阵的特征向量是相互正交的\n",
    "\n",
    "# 相似对角化 将原矩阵化为对角矩阵，且对角矩阵对角线上的每个元素都是原矩阵的特征值\n",
    "\n",
    "# 特征子空间 有特征向量和零向量组成的空间称为特征子空间。"
   ]
  },
  {
   "cell_type": "code",
   "execution_count": 9,
   "metadata": {},
   "outputs": [
    {
     "name": "stdout",
     "output_type": "stream",
     "text": [
      "SVD is  (matrix([[-0.3863177 , -0.92236578],\n",
      "        [-0.92236578,  0.3863177 ]]), array([9.508032  , 0.77286964]), matrix([[-0.42866713, -0.56630692, -0.7039467 ],\n",
      "        [ 0.80596391,  0.11238241, -0.58119908],\n",
      "        [ 0.40824829, -0.81649658,  0.40824829]]))\n"
     ]
    }
   ],
   "source": [
    "# SVD奇异值分解 \n",
    "# 每个矩阵都有奇异值分解，但不一定有特征值分解，特征值分解只有方阵才有\n",
    "# A = U*D*V.T 其中U和V都是正交矩阵（U*U.T=E）\n",
    "# SVD 主要用于推荐系统中，数据压缩(因为分解之后，表示一副图像所用的元素变少了)\n",
    "# 通常奇异值越大对应的信息越有用，能去除冗余信息\n",
    "# 从几何层面上去理解二维的SVD：对于任意的 2 x 2 矩阵，通过SVD可以将一个相互垂直的网格(orthogonal grid)变换到另外一个相互垂直的网格。\n",
    "A =mat([[1,2,3],[4,5,6]])\n",
    "B=LA.svd(A)\n",
    "print(\"SVD is \", B)"
   ]
  },
  {
   "cell_type": "code",
   "execution_count": 10,
   "metadata": {},
   "outputs": [
    {
     "name": "stdout",
     "output_type": "stream",
     "text": [
      "A+ is  [[-0.94444444  0.44444444]\n",
      " [-0.11111111  0.11111111]\n",
      " [ 0.72222222 -0.22222222]]\n"
     ]
    }
   ],
   "source": [
    "# 伪逆矩阵 非方阵A 为m*n\n",
    "# A+ = VD+U.T  对角矩阵D 的伪逆D+ 是其非零元素取倒之后再转置得到的。\n",
    "B=LA.pinv(A)\n",
    "print(\"A+ is \", B)"
   ]
  },
  {
   "cell_type": "code",
   "execution_count": 11,
   "metadata": {},
   "outputs": [
    {
     "name": "stdout",
     "output_type": "stream",
     "text": [
      " distance is  (array([0, 0], dtype=int64), array([1, 2], dtype=int64))\n"
     ]
    }
   ],
   "source": [
    "# 汉明距离 两个字符串中不相同位数的数目。\n",
    "# 例如：字符串‘1111’与‘1001’之间的汉明距离为2。\n",
    "matV = mat('1,1,1,1; 1,0,0,1')\n",
    "smstr = nonzero(matV[0]-matV[1])\n",
    "print(\" distance is \", smstr)"
   ]
  },
  {
   "cell_type": "code",
   "execution_count": 12,
   "metadata": {},
   "outputs": [
    {
     "name": "stdout",
     "output_type": "stream",
     "text": [
      "jakade distance is  [0.5]\n"
     ]
    }
   ],
   "source": [
    "# 杰卡德系数 两个集合A和B的交集元素在A和B的并集中所占的比例称为两个集合的杰卡德相似系数，用元素个数来算\n",
    "# 杰卡德距离 1-杰卡德系数, 用来度量两个集合之间的差异性，取值[0,1] \n",
    "# 算法就是   相同元素个数/维数\n",
    "import scipy.spatial.distance as dist\n",
    "print(\"jakade distance is \", dist.pdist(matV,'jaccard'))"
   ]
  },
  {
   "cell_type": "markdown",
   "metadata": {},
   "source": [
    "### 概率分布"
   ]
  },
  {
   "cell_type": "code",
   "execution_count": 13,
   "metadata": {
    "collapsed": true
   },
   "outputs": [],
   "source": [
    "# 随机变量 它是对可能的状态的描述，可以是连续或者离散的"
   ]
  },
  {
   "cell_type": "code",
   "execution_count": 14,
   "metadata": {
    "collapsed": true
   },
   "outputs": [],
   "source": [
    "# 概率分布 符合随机变量取值范围的某个对象属于某个类别或服从某种趋势的可能性"
   ]
  },
  {
   "cell_type": "code",
   "execution_count": 15,
   "metadata": {
    "collapsed": true
   },
   "outputs": [],
   "source": [
    "# 条件概率 某个事件在给定其它事件发生时出现的概率\n",
    "# p(Y =y| X = x) = P(Y = y, X = x)/P(X = x)"
   ]
  },
  {
   "cell_type": "code",
   "execution_count": 16,
   "metadata": {
    "collapsed": true
   },
   "outputs": [],
   "source": [
    "# 贝叶斯公式 也就是后验概率，P(B|A) = P(A|B)*P(B)/P(A)\n",
    "# 比如：在判断垃圾邮件的算法中:\n",
    "# P(A) ： 所有邮件中，垃圾邮件的概率。\n",
    "# P(B) ： 出现某个单词的概率。\n",
    "# P(B|A) : 垃圾邮件中，出现某个单词的概率。\n",
    "# P(A|B) : 出现某个单词的邮件，是垃圾邮件的概率。"
   ]
  },
  {
   "cell_type": "code",
   "execution_count": 17,
   "metadata": {
    "collapsed": true
   },
   "outputs": [],
   "source": [
    "# 全概率公式 P(A)= P(A|B) + P(A|B-)   P(B)=P(Ai)P(B|Ai)"
   ]
  },
  {
   "cell_type": "code",
   "execution_count": 18,
   "metadata": {
    "collapsed": true
   },
   "outputs": [],
   "source": [
    "# 独立事件 P(AB) = P(A)*P(B)\n",
    "# 互斥事件 即事件A和事件B不可能同时发生\n",
    "# 对立事件 A U B，A和B互斥， 那么B为A的对立事件"
   ]
  },
  {
   "cell_type": "code",
   "execution_count": 19,
   "metadata": {
    "collapsed": true
   },
   "outputs": [],
   "source": [
    "# 事件差 P(A-B)=P(A)-P(AB)\n",
    "# 加法   P(A U B)=P(A)+P(B)-P(AB)\n",
    "# 可分   P(A) = P(AB-) + P(AB)"
   ]
  },
  {
   "cell_type": "code",
   "execution_count": 20,
   "metadata": {
    "collapsed": true
   },
   "outputs": [],
   "source": [
    "# 几何分布 在n次伯努利试验中，试验k次才得到第一次成功的机率。即：前k-1次皆失败，第k次成功的概率。其概率分布函数为：\n",
    "# 几何分布 P( X=k) =( 1-p)^{k-1} p"
   ]
  },
  {
   "cell_type": "code",
   "execution_count": 21,
   "metadata": {
    "collapsed": true
   },
   "outputs": [],
   "source": [
    "# 二项分布 重复n次伯努利试验，各次试验之间都相互独立，并且每次试验中只有两种可能的结果，而且这两种结果发生与否相互对立。\n",
    "# 如果每次试验时，事件发生的概率为p，不发生的概率为1-p，则n次重复独立试验中发生k次的概率为：\n",
    "# P( X=k) =Cnk p^{k}( 1-p ) ^{n-k} "
   ]
  },
  {
   "cell_type": "code",
   "execution_count": 22,
   "metadata": {
    "collapsed": true
   },
   "outputs": [],
   "source": [
    "# 自然常数e  e = (x->∞)limit(1+1/x)x  经过推导该函数单调上升，最终收敛无限接近2.71828"
   ]
  },
  {
   "cell_type": "code",
   "execution_count": 23,
   "metadata": {
    "collapsed": true
   },
   "outputs": [],
   "source": [
    "# 泊松分布 p(X=k) = e^-λ*λ^k/k! k = 1,2... , r > 0，  λ表示在一定时间（单位时间）内事件发生的平均次数.\n",
    "# 如果将时间分成很小的时间段，那么该时间片内发生这个事件的概率 p 就会成正比的减少\n",
    "# 则特定时间段被分成的时间片数量 n 与每个时间片内事件发生的概率 p 的乘积 n*p 为一个常数。这个常数表示了该事件在指定时间段发生的频度\n",
    "# 在LDA文档主题生成模型分析中应用。即λ的参数估计（单词出现的次数）\n",
    "# LDA 词通过一定的概率选择了主题，主题通过一定的概率选择了词，LDA是一种非监督学习，\n",
    "# 泊松分布可以看成是参数为λ的二项分布\n",
    "# 可以预估这些事件的总数，但是没法知道具体的发生时间。描述某段时间内，事件具体的发生概率"
   ]
  },
  {
   "cell_type": "code",
   "execution_count": 24,
   "metadata": {
    "collapsed": true
   },
   "outputs": [],
   "source": [
    "# 分布函数 f(x)\n",
    "# 单调不减性，f(-∞) = 0; f(+∞) = 1\n",
    "# 分布函数的概率是积分性质的，连续型概率分布的几何分布 F(x) = ∫x f(u)du ; f(u)为该你密度函数\n",
    "# 概率密度函数、非负、归一性"
   ]
  },
  {
   "cell_type": "code",
   "execution_count": 25,
   "metadata": {
    "collapsed": true
   },
   "outputs": [],
   "source": [
    "# 指数分布 \n",
    "# 概率密度f(x)= λe^-λx\n",
    "# 概率分布F(x)=1 - e^-λx"
   ]
  },
  {
   "cell_type": "code",
   "execution_count": 26,
   "metadata": {
    "collapsed": true
   },
   "outputs": [],
   "source": [
    "# 正太分布\n",
    "# f(x,u,σ) = 1/σ√￣2π exp(-(x-u)^2/2σ^2)  ,u为期望，σ为方差\n",
    "# 密度曲线关于执行x=u对称\n",
    "# σ越大，曲线越平坦"
   ]
  },
  {
   "cell_type": "code",
   "execution_count": 27,
   "metadata": {
    "collapsed": true
   },
   "outputs": [],
   "source": [
    "# 二维随机变量的联合分布\n",
    "# F(x,y) = P(X<=x, Y<=y)\n",
    "# 性质 F(-∞, y) = 0  F(x, -∞)=0  F(-∞, +∞)=0"
   ]
  },
  {
   "cell_type": "code",
   "execution_count": 28,
   "metadata": {
    "collapsed": true
   },
   "outputs": [],
   "source": [
    "# 边缘概率密度，f(x, y) 当y->∞时，称为F(x) = ∫∞f(x, y)dy 关于x的边缘分布函数\n",
    "# 随机变量的相互独立性，f(x, y) = f(x) * f(y)"
   ]
  },
  {
   "cell_type": "code",
   "execution_count": 29,
   "metadata": {
    "collapsed": true
   },
   "outputs": [],
   "source": [
    "# 二维随机变量的条件概率密度\n",
    "# F(x|y) = ∫x f(u,v)du/Fy(y)"
   ]
  },
  {
   "cell_type": "code",
   "execution_count": 30,
   "metadata": {
    "collapsed": true
   },
   "outputs": [],
   "source": [
    "# 期望 描述随机变量的平均特征 ∑k Xk*Pk    连续型 ∫∞ |x| * f(x)dx\n",
    "# 二项分布的期望 E = np\n",
    "# 泊松分布的期望 E = λ\n",
    "# 指数分布的期望 E = 1/λ\n",
    "# 正太分布的期望 E = u\n",
    "# 随机函数的期望 E(g(x)) = ∑∞ g(Xk)Pk\n",
    "# 二维随机的期望 E(x,y) = ∑∞ ∑∞ g(xi , yj)Pij    E(x,y) = ∫∞ ∫∞ g(x,y) * f(x,y)dxdy\n",
    "# E(X + Y) = E(X) + E(Y)\n",
    "# E(X * Y) = E(X) * E(Y)    X和Y相互独立"
   ]
  },
  {
   "cell_type": "code",
   "execution_count": 31,
   "metadata": {
    "collapsed": true
   },
   "outputs": [],
   "source": [
    "# 方差 衡量随机变量取值的波动程度，离散程度\n",
    "# 计算公式 D(x) = E[x - E(x)]^2  = ∫∞ [x - E(x)]^2 * f(x) dx\n",
    "# 性质     D(x) = E(x^2) - [E(x)]^2\n",
    "# X Y 独立 D(X + Y) = D(X) + D(Y)\n",
    "# 二项分布的方差 D = np(1-p)\n",
    "# 泊松分布的方差 D = λ\n",
    "# 指数分布的方差 D = 1/λ^2\n",
    "# 正太分布的方差 D = σ^2"
   ]
  },
  {
   "cell_type": "code",
   "execution_count": 32,
   "metadata": {
    "collapsed": true
   },
   "outputs": [],
   "source": [
    "# 切比雪夫不等式 P(| X - E(X) | ≥ ε) ≤ D(X)/ε2   有上界，根据指定的概率求ε"
   ]
  },
  {
   "cell_type": "code",
   "execution_count": 33,
   "metadata": {
    "collapsed": true
   },
   "outputs": [],
   "source": [
    "# 协方差 两个变量总体误差的期望，描述X和Y的相关程度，他们是不是有联系，大于0为正相关、小于0为负相关\n",
    "# 计算公式 Cov(X，Y)=E[(X-E(X))*(Y-E(Y))] = E(XY) -E(X)*E(Y) \n",
    "# 独立的两个随机变量，他们的协方差为0， 协方差为0，表示XY不相关，但不一定独立\n",
    "# D(X+Y)=D(X)+D(Y)+2Cov(X，Y)\n",
    "# Cov(X1+X2，Y)=Cov(X1，Y)+Cov(X2，Y)\n",
    "# 数值来看，协方差的数值越大，两个变量同向程度也就越大"
   ]
  },
  {
   "cell_type": "code",
   "execution_count": 34,
   "metadata": {
    "collapsed": true
   },
   "outputs": [],
   "source": [
    "# 相关系数 相关系数是用以反映变量之间相关关系密切程度的统计指标\n",
    "# | ρXY | = Cov(X，Y)/√￣D(X)*√￣D(Y)  相关系数ρXY取值在-1到1之间，ρXY = 0时，称X,Y不相关； \n",
    "# | ρXY | = 1时，称X,Y完全相关，此时，X,Y之间具有线性函数关系； | ρXY | < 1时，X的变动引起Y的部分变动，ρXY的绝对值越大，X的变动引起Y的变动就越大，\n",
    "# | ρXY | > 0.8时称为高度相关，当 | ρXY | < 0.3时称为低度相关，其它时候为中度相关"
   ]
  },
  {
   "cell_type": "code",
   "execution_count": 35,
   "metadata": {
    "collapsed": true
   },
   "outputs": [],
   "source": [
    "# 矩 \n",
    "# k阶原点距  Ak= E(X^k) \n",
    "# k阶中心距  Bk= E[X-E(X)]^k"
   ]
  },
  {
   "cell_type": "code",
   "execution_count": 36,
   "metadata": {
    "collapsed": true
   },
   "outputs": [],
   "source": [
    "# 协方差矩阵 每个元素是各个向量元素之间的协方差"
   ]
  },
  {
   "cell_type": "code",
   "execution_count": 37,
   "metadata": {
    "collapsed": true
   },
   "outputs": [],
   "source": [
    "# 大数定律  用数学证明了一个习以为常的道理，当样本数量巨大时，样本的均值等于真实的均值\n",
    "# 切比雪夫大数定律  limit n->∞ P{|1/n∑Xk - 1/n*∑E(Xk)| < ε} = 1  随着样本容量n的增加，样本平均数将接近于总体平均数\n",
    "# 伯努利大数定律    当实验次数很大时，可以用事件发生的频率来代替事件的概率\n",
    "# 辛钦大数定律      独立同分布的切比雪夫大数定律"
   ]
  },
  {
   "cell_type": "code",
   "execution_count": 38,
   "metadata": {
    "collapsed": true
   },
   "outputs": [],
   "source": [
    "# 中心极限定律与大数定理\n",
    "# \n",
    "# 中心极限定律--独立同分布   讨论的是随机变量的序列或分布\n",
    "# 大量相互独立的随机变量，其均值（或者和）的分布以正态分布为极限（意思就是当满足某些条件的时候，\n",
    "# 比如Sample Size比较大，采样次数区域无穷大的时候，就越接近正态分布）。\n",
    "# 而这个定理amazing的地方在于，无论是什么分布的随机变量，都满足这个定理。\n",
    "# 这个正态分布的均值u 和投掷奇形怪状骰子并记录朝上的点数这个随机过程的均值是一！样！的！"
   ]
  },
  {
   "cell_type": "code",
   "execution_count": 39,
   "metadata": {
    "collapsed": true
   },
   "outputs": [],
   "source": [
    "# 棣莫佛－拉普拉斯（de Movire - Laplace）中心极限定理\n",
    "# 服从二项分布的随机变量序列的中心极限定理。它指出，参数为n, p的二项分布以np为均值、np(1-p)为方差的正态分布为极限"
   ]
  },
  {
   "cell_type": "code",
   "execution_count": 40,
   "metadata": {
    "collapsed": true
   },
   "outputs": [],
   "source": [
    "# 大数定理\n",
    "#    简单的可以描述为，如果有一个随机变量X，你不断的观察并且采样这个随机变量，得到了n个采样值，X_{1} , X_{2} , X_{3}....X_{n}，\n",
    "#    然后求得这n个采样值得平均值-{X_{n}} ，当n趋向于正无穷的时候，这个平均值就收敛于这个随机变量X的期望。"
   ]
  },
  {
   "cell_type": "code",
   "execution_count": 41,
   "metadata": {
    "collapsed": true
   },
   "outputs": [],
   "source": [
    "# 样本均值 ￣X = 1/n * ∑ Xi  也称为一阶原点\n",
    "# 样本方差 S^2 = 1/(n-1) * ∑(X - ￣X)^2\n",
    "# 抽样分布 抽样所得到的每一个样本可以计算一个平均数，全部可能的样本都被抽取后可以得到许多平均数，由平均数构成的新总体的分布，称为平均数的抽样分布"
   ]
  },
  {
   "cell_type": "code",
   "execution_count": 42,
   "metadata": {
    "collapsed": true
   },
   "outputs": [],
   "source": [
    "# 参数估计\n",
    "# 点估计 借助于总体的一个样本，构造适当的样本函数来估计总体S未知参数的值的问题称为参数的点估计问题. 包括矩估计和最大似然估计两种方法\n",
    "#       矩估计 最简单的矩估计法是用一阶样本原点矩来估计总体的期望而用二阶样本中心矩来估计总体的方差。 不需要事先知道分布的类型，直接根据样本的期望和方差算参数\n",
    "#       最大似然估计 依据极大似然估计原理概论大的事件更容易出现，关键是构造似然函数来求极值\n",
    "#       最大似然函数就是多个样本的联合概率密度相乘，具体的求解方法是，对似然函数取对数，然后对参数求导。\n",
    "#       在已知试验结果（即是样本）的情况下，用来估计满足这些样本分布的参数，把可能性最大的那个参数thita~作为真实thita的参数估计。"
   ]
  },
  {
   "cell_type": "code",
   "execution_count": 43,
   "metadata": {
    "collapsed": true
   },
   "outputs": [],
   "source": [
    "# 概率用于在已知一些参数的情况下，预测接下来的观测所得到的结果，而似然性则是用于在已知某些观测所得到的结果时，对有关事物的性质的参数进行估计。\n",
    "# 似然函数可以理解为条件概率的逆反。已知有事件A发生，运用似然函数L(B|A)，我们估计参数B的可能性。\n",
    "# 对于为什么要对似然函数取对数，是因为许多概率函数都是连乘"
   ]
  },
  {
   "cell_type": "markdown",
   "metadata": {},
   "source": [
    "### 信息论"
   ]
  },
  {
   "cell_type": "code",
   "execution_count": 44,
   "metadata": {
    "collapsed": true
   },
   "outputs": [],
   "source": [
    "# 熵 H(X) = -∑P(x)*log(P(x)) = ∑P(x)1/log(P(x))   系统越有序，信息熵越小"
   ]
  },
  {
   "cell_type": "code",
   "execution_count": 45,
   "metadata": {
    "collapsed": true
   },
   "outputs": [],
   "source": [
    "# 联合熵H(x,y)"
   ]
  },
  {
   "cell_type": "code",
   "execution_count": 46,
   "metadata": {
    "collapsed": true
   },
   "outputs": [],
   "source": [
    "# 条件熵H(x|y) = -∑P(x,y)*log(P(y|x))   = H(x,y) = H(x)"
   ]
  },
  {
   "cell_type": "code",
   "execution_count": 47,
   "metadata": {
    "collapsed": true
   },
   "outputs": [],
   "source": [
    "# 交叉熵D(P||Q) 表示当用概率分布Q来拟合真实分布P时，产生的信息损耗   D(P||Q) = ∑P(x)log(P(x)/Q(x))"
   ]
  },
  {
   "cell_type": "code",
   "execution_count": 48,
   "metadata": {
    "collapsed": true
   },
   "outputs": [],
   "source": [
    "# 最大熵模型，在所有可能的概率分布中，熵最大的模型是最好的模型。 在满足约束条件的模型集合中选取熵最大的模型。\n",
    "# 0 <= H(X) <= log|X|"
   ]
  },
  {
   "cell_type": "markdown",
   "metadata": {},
   "source": [
    "### 数值计算"
   ]
  },
  {
   "cell_type": "code",
   "execution_count": 49,
   "metadata": {
    "collapsed": true
   },
   "outputs": [],
   "source": [
    "# NP问题\n",
    "# P类问题 以多项式时间的确定算法来对问题进行判定和求解，算法的每一个运行状态都是唯一的，并最终确定一个唯一的结果---最优解\n",
    "# N类问题 用多项式时间的非确定算法来对问题进行判定和求解"
   ]
  },
  {
   "cell_type": "code",
   "execution_count": 50,
   "metadata": {
    "collapsed": true
   },
   "outputs": [],
   "source": [
    "# 迭代计算 "
   ]
  },
  {
   "cell_type": "code",
   "execution_count": 51,
   "metadata": {
    "collapsed": true
   },
   "outputs": [],
   "source": [
    "# 最优化 目标函数f(x)的最优解，在满足一定的条件下"
   ]
  },
  {
   "cell_type": "markdown",
   "metadata": {},
   "source": [
    "### 高等数学"
   ]
  },
  {
   "cell_type": "code",
   "execution_count": 52,
   "metadata": {
    "collapsed": true
   },
   "outputs": [],
   "source": [
    "# 梯度下降法     在目标函数是非线性的情况下，按照哪个方向迭代求解误差的收敛速度会最快呢？答案就是梯度方向\n",
    "# 梯度就是函数的导数方向。根据导数的定义，函数f(x) 的导函数就是目标函数在x上的变化率\n",
    "# gradf(x,y,z) = (dx, dy, dz)\n",
    "# 负梯度方向是f(x,y,z) 减小最快的方向"
   ]
  },
  {
   "cell_type": "code",
   "execution_count": 53,
   "metadata": {
    "collapsed": true
   },
   "outputs": [],
   "source": [
    "# 随机梯度下降法\n",
    "# 因为批量梯度下降法每次都使用全部数据，一旦到了某个局部极小值点可能就停止更新了；\n",
    "# 而随机梯度法由于每次都是随机取部分数据，所以就算局部极小值点，在下一步也还是可以跳出"
   ]
  },
  {
   "cell_type": "code",
   "execution_count": 54,
   "metadata": {
    "collapsed": true
   },
   "outputs": [],
   "source": [
    "# 牛顿法  求解无约束最优化问题常用的方法，最大的优点是收敛速度快\n",
    "# 从本质上去看，牛顿法是二阶收敛，梯度下降是一阶收敛，所以牛顿法就更快。通俗地说，比如你想找一条最短的路径走到一个盆地的最底部，\n",
    "# 梯度下降法 每次只从你当前所处位置选一个坡度最大的方向走一步，牛顿法在选择方向时，不仅会考虑坡度是否够大，还会考虑你走了一步之后，坡度是否会变得更大　\n",
    "# 所以， 可以说牛顿法比梯度下降法看得更远一点，能更快地走到最底部。"
   ]
  },
  {
   "cell_type": "code",
   "execution_count": 55,
   "metadata": {
    "collapsed": true
   },
   "outputs": [],
   "source": [
    "# 牛顿法就是用一个二次曲面去拟合你当前所处位置的局部曲面，而梯度下降法是用一个平面去拟合当前的局部曲面\n",
    "# 牛顿法求解     将目标函数f(x)  在x_{k} 处进行二阶泰勒展开"
   ]
  },
  {
   "cell_type": "code",
   "execution_count": 56,
   "metadata": {
    "collapsed": true
   },
   "outputs": [],
   "source": [
    "# 对数 log   a^x = N, x = loga N  \n",
    "# 对数求导  loga x' = 1/x*loga e  ln 表示以e为底， loge 3  表示 ln3 。 lne = 1\n",
    "#           lnx = 1/x"
   ]
  },
  {
   "cell_type": "code",
   "execution_count": 58,
   "metadata": {
    "collapsed": true
   },
   "outputs": [],
   "source": [
    "# 指数 a^x\n",
    "# 指数求导 (a^x)' = a^x*lna   "
   ]
  },
  {
   "cell_type": "code",
   "execution_count": 59,
   "metadata": {
    "collapsed": true
   },
   "outputs": [],
   "source": [
    "# (e^x)' = e^x\n",
    "# (lnx)' = 1/x "
   ]
  },
  {
   "cell_type": "code",
   "execution_count": 60,
   "metadata": {
    "collapsed": true
   },
   "outputs": [],
   "source": [
    "# 泰勒级数"
   ]
  },
  {
   "cell_type": "code",
   "execution_count": null,
   "metadata": {
    "collapsed": true
   },
   "outputs": [],
   "source": []
  }
 ],
 "metadata": {
  "kernelspec": {
   "display_name": "Python 3",
   "language": "python",
   "name": "python3"
  },
  "language_info": {
   "codemirror_mode": {
    "name": "ipython",
    "version": 3
   },
   "file_extension": ".py",
   "mimetype": "text/x-python",
   "name": "python",
   "nbconvert_exporter": "python",
   "pygments_lexer": "ipython3",
   "version": "3.6.3"
  }
 },
 "nbformat": 4,
 "nbformat_minor": 2
}
