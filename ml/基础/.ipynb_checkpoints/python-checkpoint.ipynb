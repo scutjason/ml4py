{
 "cells": [
  {
   "cell_type": "markdown",
   "metadata": {},
   "source": [
    "###  基本数据类型"
   ]
  },
  {
   "cell_type": "code",
   "execution_count": 1,
   "metadata": {
    "collapsed": true
   },
   "outputs": [],
   "source": [
    "a=1         # 整型\n",
    "b=1.2       # 浮点型\n",
    "c=True      # bool型\n",
    "d=\"False\"   # 字符串\n",
    "e=None      # NoneType"
   ]
  },
  {
   "cell_type": "code",
   "execution_count": 4,
   "metadata": {},
   "outputs": [
    {
     "data": {
      "text/plain": [
       "1"
      ]
     },
     "execution_count": 4,
     "metadata": {},
     "output_type": "execute_result"
    }
   ],
   "source": [
    "a=1\n",
    "b=a  # b是a的引用\n",
    "b=2\n",
    "a"
   ]
  },
  {
   "cell_type": "code",
   "execution_count": 5,
   "metadata": {},
   "outputs": [
    {
     "data": {
      "text/plain": [
       "1601659040"
      ]
     },
     "execution_count": 5,
     "metadata": {},
     "output_type": "execute_result"
    }
   ],
   "source": [
    "id(a) # 获取a的内存地址"
   ]
  },
  {
   "cell_type": "code",
   "execution_count": 6,
   "metadata": {},
   "outputs": [
    {
     "data": {
      "text/plain": [
       "1.5"
      ]
     },
     "execution_count": 6,
     "metadata": {},
     "output_type": "execute_result"
    }
   ],
   "source": [
    "a=2\n",
    "b=2.3\n",
    "c=3\n",
    "a+b     # 4.3\n",
    "c-a     # 1\n",
    "a/b     # 2/2.3=0.8695652173913044\n",
    "a/c     # 2/3 = 0.6667\n",
    "c/a     # c/a = 1.5"
   ]
  },
  {
   "cell_type": "code",
   "execution_count": 7,
   "metadata": {},
   "outputs": [
    {
     "data": {
      "text/plain": [
       "1"
      ]
     },
     "execution_count": 7,
     "metadata": {},
     "output_type": "execute_result"
    }
   ],
   "source": [
    "c//a    # c//a = 1  丢掉小数部分"
   ]
  },
  {
   "cell_type": "code",
   "execution_count": 8,
   "metadata": {
    "collapsed": true
   },
   "outputs": [],
   "source": [
    "a**c    # a^c = 2*2*2 = 8\n",
    "a+=1    # a自增\n",
    "d='hello'\n",
    "d+=' world' # 字符串拼接 +"
   ]
  },
  {
   "cell_type": "code",
   "execution_count": 9,
   "metadata": {},
   "outputs": [
    {
     "data": {
      "text/plain": [
       "'hello world'"
      ]
     },
     "execution_count": 9,
     "metadata": {},
     "output_type": "execute_result"
    }
   ],
   "source": [
    "d"
   ]
  },
  {
   "cell_type": "code",
   "execution_count": 12,
   "metadata": {},
   "outputs": [
    {
     "data": {
      "text/plain": [
       "False"
      ]
     },
     "execution_count": 12,
     "metadata": {},
     "output_type": "execute_result"
    }
   ],
   "source": [
    "# Python提供了__future__模块，把下一个新版本的特性导入到当前版本\n",
    "# 比如在2.x中要用3.x版本的除法库division\n",
    "# from __future__ import division\n",
    "\n",
    "# bool 和 逻辑运算\n",
    "a=True\n",
    "b=False\n",
    "a and b     # False\n",
    "a or b      # True\n",
    "not a       # False\n",
    "\n",
    "# 判断是否相等\n",
    "a == b\n",
    "a != b \n",
    "a is b"
   ]
  },
  {
   "cell_type": "code",
   "execution_count": 14,
   "metadata": {},
   "outputs": [
    {
     "name": "stdout",
     "output_type": "stream",
     "text": [
      "['a', 'b', 'c', 'd']\n",
      "[0, 0, 0, 1, 1, 1, 1, 2, 2]\n"
     ]
    }
   ],
   "source": [
    "a=[1,2,3,4]  # list\n",
    "b=[1]\n",
    "c=[1]\n",
    "d=b\n",
    "e=[1, 'hello world!', c, 2.3, False]\n",
    "f=list(\"abcd\")      # list 函数将字符串变成字符的列表\n",
    "print(f)\n",
    "g=[0]*3 + [1]*4 + [2]*2\n",
    "print(g)"
   ]
  },
  {
   "cell_type": "code",
   "execution_count": 15,
   "metadata": {},
   "outputs": [
    {
     "name": "stdout",
     "output_type": "stream",
     "text": [
      "[4, 9, 3]\n",
      "[2, 1, 3, 2]\n",
      "[0, 1, 1, 2, 2, 3, 3]\n"
     ]
    }
   ],
   "source": [
    "# list 的增删改查\n",
    "a.pop()         # 把a的最后一个数4从列表中移除 [1,2,3]\n",
    "a.append(5)     # a的末尾插入5  [1,2,3,5] \n",
    "a[2]            # 取a的下标为2的值，即3\n",
    "a+=[4,3,2]      # 拼接 [1, 2, 3, 5, 4, 3, 2]\n",
    "a.insert(1,0)   # 在1的位置插入0 [1,0,2,3,5,4,3,2]\n",
    "a.remove(2)     # 移除列表中某个值的第一个匹配项，[1,0,3,5,4,3,2]\n",
    "a.reverse()     # 倒序，[2,3,4,5,3,0,1]\n",
    "a[3]=9          # 指定下标处赋值 [2,3,4,9,3,0,1]\n",
    "b=a[2:5]        # b为a从第2个到第5个前的子序列  [4,9,3]\n",
    "c=a[2:-2]       # -2表示下标倒着数时，第二个位置。 -1表示最后一个元素\n",
    "print(c)\n",
    "d=a[2:]         # 从第二个位置开始一直到结尾 [4, 9, 3, 0, 1]\n",
    "e=a[:5]         # 从开始到第5个位置前的子序列 [2, 3, 4, 9, 3]  \n",
    "# 诀窍就是冒号后面减前面后的数来表示子序列个数\n",
    "f=a[:]          # 相当于完整拷贝一份a\n",
    "a[2:-2]=[1,2,3] # 赋值也可以按照一段来，[2, 3, 1, 2, 3, 0, 1]\n",
    "g=a[3::-1]      # 3::-1 表示取列表a的index[0,3]的位置上子序列a1，-1呢则表示对a1进行倒序输出，所以g是[2,1,3,2]。如果是-2，则需要相隔1个位置的子序列\n",
    "print(g)\n",
    "a.sort()        # 列表内排序\n",
    "print(a)"
   ]
  },
  {
   "cell_type": "code",
   "execution_count": 16,
   "metadata": {},
   "outputs": [
    {
     "name": "stdout",
     "output_type": "stream",
     "text": [
      "3\n",
      "2\n",
      "5\n"
     ]
    }
   ],
   "source": [
    "b=len(a)        # 获取a的元素个数\n",
    "c=max(a)        # 获取a中的最大元素\n",
    "print(c)            \n",
    "d=min(a)        # 获取a中的最小元素\n",
    "e=a.count(2)    # a中元素2出现的次数\n",
    "print(e)\n",
    "f=a.index(3)    # 找出元素3在a中出现的第一个位置, 下标\n",
    "print(f)    "
   ]
  },
  {
   "cell_type": "code",
   "execution_count": 17,
   "metadata": {},
   "outputs": [
    {
     "name": "stdout",
     "output_type": "stream",
     "text": [
      "[0, 1, 2, 3, 4, 5, 6, 7, 8, 9]\n",
      "[0, 3, 9, 6, 5, 2, 4, 1, 8, 7]\n",
      "[0, 1, 2, 3, 4, 5, 6, 7, 8, 9]\n",
      "[9, 8, 7, 6, 5, 4, 3, 2, 1, 0]\n"
     ]
    }
   ],
   "source": [
    "# 列表通常是排序的，我们对列表进行排序\n",
    "import random\n",
    "a=list(range(10))         # 生成一个0-9的序列\n",
    "print(a)\n",
    "random.shuffle(a)   # shuffle函数对可遍历且可变的结构进行打乱排序\n",
    "print(a)\n",
    "b=sorted(a)\n",
    "print(b)\n",
    "c=sorted(a,reverse=True)\n",
    "print(c)"
   ]
  },
  {
   "cell_type": "code",
   "execution_count": 18,
   "metadata": {
    "collapsed": true
   },
   "outputs": [],
   "source": [
    "# tuple 跟list类似，最大的区别是tuple不可变。另外申明只有一个元素的tuple，必须要加,\n",
    "# 如果多个元素之间用，隔开，会默认为是tuple\n",
    "a=(1,2)\n",
    "b=tuple(['3',4])    # list转换成tuple\n",
    "c=[5,]              # 只含一个元素5\n",
    "d=(6)               # 不是tuple\n",
    "e=3,4,5             # 默认是tuple (3,4,5)\n",
    "f=()                # 定义一个空的tuple"
   ]
  },
  {
   "cell_type": "code",
   "execution_count": 19,
   "metadata": {},
   "outputs": [
    {
     "name": "stdout",
     "output_type": "stream",
     "text": [
      "{1, 2, 3}\n",
      "{1, 2, 3, 4, 5, 6}\n",
      "{3, 4}\n",
      "{1, 2}\n",
      "{5, 6}\n",
      "{1, 2, 5, 6}\n"
     ]
    }
   ],
   "source": [
    "# set 集合，集合中的元素不会有相同，可以用与两个数组去重\n",
    "A=set([1,2,3,4])\n",
    "B={3,4,5,6}\n",
    "C=set([1,1,2,2,2,3,3,3,3])\n",
    "print(C)\n",
    "print(A|B)\n",
    "print(A&B)\n",
    "print(A-B)\n",
    "print(B-A)\n",
    "print(A^B)           # 求对称差集，相当于(A-B)|(B-A)，set([1, 2, 5, 6])\n"
   ]
  },
  {
   "cell_type": "code",
   "execution_count": 20,
   "metadata": {},
   "outputs": [
    {
     "name": "stdout",
     "output_type": "stream",
     "text": [
      "8\n",
      "8\n",
      "7\n",
      "None\n",
      "dict_values([8, 7, 10, 3, 2, 42])\n",
      "42\n",
      "dict_keys(['Tom', 'Jerry', 'Spike', 'Tyke', 'Tuffy'])\n"
     ]
    }
   ],
   "source": [
    "# 字典 dict  key-value形式，类似map，键无重复，一个键不能对应多个value，但是多个key可以对应一个value\n",
    "a={'Tom':8, 'Jerry':7}\n",
    "print(a['Tom'])\n",
    "b=dict(Tom=8,Jerry=7)\n",
    "print(b['Tom'])\n",
    "if 'Jerry' in a:\n",
    "    print(a['Jerry'])\n",
    "print(a.get('Spike'))                           # get方法能获取指定的value\n",
    "a['Spike']=10\n",
    "a['Tyke']=3\n",
    "a.update({'Tuffy':2,'Mammy Two Shoes':42})\n",
    "print(a.values())                               # dict_values([8, 2, 3, 7, 10, 42])\n",
    "print(a.pop('Mammy Two Shoes'))                 # 移除'Mammy Two Shoes'的键值对，并返回42\n",
    "print(a.keys())\n"
   ]
  },
  {
   "cell_type": "code",
   "execution_count": 22,
   "metadata": {},
   "outputs": [
    {
     "name": "stdout",
     "output_type": "stream",
     "text": [
      "dict_items([('Tom', 8), ('Jerry', 7), ('Spike', 10), ('Tyke', 3), ('Tuffy', 2)])\n",
      "[('Tuffy', 2), ('Tyke', 3), ('Jerry', 7), ('Tom', 8), ('Spike', 10)]\n",
      "['Jerry', 'Spike', 'Tom', 'Tuffy', 'Tyke']\n",
      "{'Tom': 8, 'Jerry': 7, 'Spike': 10, 'Tuffy': 2}\n",
      "None\n"
     ]
    }
   ],
   "source": [
    "# 字典排序\n",
    "b=a.items() # items()可以把字典中的键值对转化成一个列表，其中每个元素是一个tuple，tuple的第一个元素是键，第二个元素是值。\n",
    "print(b)\n",
    "from operator import itemgetter\n",
    "c=sorted(a.items(),key=itemgetter(1))\n",
    "print(c)\n",
    "e=sorted(a)\n",
    "print(e)                                        # 只对键排序 ['Jerry', 'Spike', 'Tom', 'Tuffy', 'Tyke']\n",
    "\n",
    "del a['Tyke']                                   # 用del 删除某个元素\n",
    "print(a)\n",
    "c=a.clear()                                     # 删除整个dict， None\n",
    "print(c)                                \n"
   ]
  },
  {
   "cell_type": "code",
   "execution_count": 23,
   "metadata": {},
   "outputs": [
    {
     "name": "stdout",
     "output_type": "stream",
     "text": [
      "This\n",
      "is\n",
      "a\n",
      "list\n",
      "!\n",
      "This\n",
      "is\n",
      "a\n",
      "tuple\n",
      "!\n",
      "This\n",
      "an\n",
      "dict\n",
      "0\n",
      "1\n",
      "2\n",
      "3\n",
      "4\n",
      "5\n",
      "6\n",
      "7\n",
      "8\n",
      "9\n"
     ]
    }
   ],
   "source": [
    "#-----------分支与循环\n",
    "# for\n",
    "a = ['This', 'is', 'a', 'list', '!']\n",
    "b = ['This', 'is', 'a', 'tuple', '!']\n",
    "c = {'This': 'is', 'an': 'unordered', 'dict': '!'}\n",
    "\n",
    "for x in a:\n",
    "    print(x)                                # 依次输出a\n",
    "\n",
    "for x in b:\n",
    "    print(x)                                # 依次输出b\n",
    "\n",
    "for key in c:\n",
    "    print(key)                              # 键的遍历  'This'  'an'  'dict'\n",
    "    \n",
    "for i in range(10):\n",
    "    print(i)                                # 输出0-9"
   ]
  },
  {
   "cell_type": "code",
   "execution_count": 24,
   "metadata": {},
   "outputs": [
    {
     "name": "stdout",
     "output_type": "stream",
     "text": [
      "0 Rick\n",
      "1 Daryl\n",
      "2 Glenn\n",
      "Harmonious society!\n"
     ]
    }
   ],
   "source": [
    "# 打印下标\n",
    "names = [\"Rick\", \"Daryl\", \"Glenn\"]\n",
    "for i,name in enumerate(names):            # 不建议用 range(len(names)) 来遍历\n",
    "    print(i,name)\n",
    "\n",
    "wusuowei = [\"I\", \"don't\", \"give\", \"a\", \"shit\"]\n",
    "hexie=True\n",
    "\n",
    "for x in wusuowei:\n",
    "    if x == 'f**k':\n",
    "        print(\"what the f**k!\")\n",
    "        hexie = False\n",
    "        break\n",
    "if hexie:\n",
    "    print(\"Harmonious society!\")"
   ]
  },
  {
   "cell_type": "code",
   "execution_count": 25,
   "metadata": {},
   "outputs": [
    {
     "name": "stdout",
     "output_type": "stream",
     "text": [
      "Harmonious society!\n"
     ]
    }
   ],
   "source": [
    "# 另一种小众的做法是，for和else一起,如果for内的if没有触发的话，就会执行else\n",
    "for x in wusuowei:\n",
    "    if x == 'f**k':\n",
    "        print(\"what the f**k!\")\n",
    "        hexie = False\n",
    "        break\n",
    "else:\n",
    "    print(\"Harmonious society!\")"
   ]
  },
  {
   "cell_type": "code",
   "execution_count": 26,
   "metadata": {},
   "outputs": [
    {
     "name": "stdout",
     "output_type": "stream",
     "text": [
      "steak\n",
      "milk\n",
      "oil\n",
      "sh*t\n"
     ]
    }
   ],
   "source": [
    "# if elif else \n",
    "pets =['dog', 'cat', 'droid', 'fly']\n",
    "for pet in pets:\n",
    "    if pet == 'dog':\n",
    "        food = 'steak'\n",
    "    elif pet == 'cat':\n",
    "        food = 'milk'\n",
    "    elif pet == 'droid':\n",
    "        food = 'oil'\n",
    "    elif pet == 'fly':\n",
    "        food = 'sh*t'\n",
    "    else:\n",
    "        pass                # 空语句，啥都不做\n",
    "    print(food)\n"
   ]
  },
  {
   "cell_type": "code",
   "execution_count": 27,
   "metadata": {
    "collapsed": true
   },
   "outputs": [],
   "source": [
    "pets = ['dog', 'cat', 'droid', 'fly']\n",
    "food_for_pet = {\n",
    "    'dog': 'steak', \n",
    "    'cat': 'milk', \n",
    "    'droid': 'oil', \n",
    "    'fly': 'sh*t'\n",
    "}\n"
   ]
  },
  {
   "cell_type": "code",
   "execution_count": 28,
   "metadata": {},
   "outputs": [
    {
     "name": "stdout",
     "output_type": "stream",
     "text": [
      "steak\n",
      "milk\n",
      "oil\n",
      "sh*t\n",
      "The absolute value of x is < 1\n"
     ]
    }
   ],
   "source": [
    "for pet in pets:\n",
    "    food = food_for_pet[pet] if pet in food_for_pet else None\n",
    "    print(food)\n",
    "x=0\n",
    "if -1 < x < 1:\n",
    "    print('The absolute value of x is < 1')\n",
    "x='gitar'\n",
    "if x in ['piano', 'violin', 'drum']:    # 相较于 if x == 'piano' or x == 'violin' or x =='drum':\n",
    "    print(\"It's an instrument!\")\n"
   ]
  },
  {
   "cell_type": "code",
   "execution_count": 29,
   "metadata": {},
   "outputs": [
    {
     "name": "stdout",
     "output_type": "stream",
     "text": [
      "a is True\n",
      "birds\n"
     ]
    }
   ],
   "source": [
    "# Python中的对象都会关联一个真值，所以在if表达式中判断是否为False或者是否为空的时候，是无需写出明确的表达式的：\n",
    "a = True\n",
    "if a:  # 判断是否为真，相较于 a is True\n",
    "    print('a is True')\n",
    "\n",
    "if 'sky': # 判断是否空字符串，相较于 len('sky') > 0\n",
    "    print('birds')\n",
    "\n",
    "if '': # 判断是否空字符串，同上\n",
    "    print('Nothing!')\n",
    "\n",
    "if {}: # 判断是否空的容器(字典)，相较于len({}) > 0\n",
    "    print('Nothing!')\n"
   ]
  },
  {
   "cell_type": "code",
   "execution_count": 30,
   "metadata": {},
   "outputs": [
    {
     "name": "stdout",
     "output_type": "stream",
     "text": [
      "hello\n",
      "Good morning!\n",
      "what's up\n",
      "Good morning!\n",
      "1\n",
      "2\n",
      "3\n",
      "A\n",
      "B\n",
      "C\n",
      "D\n",
      "x 3\n",
      "y 4\n",
      "z 5\n",
      "fighter1 Fedor\n",
      "fighter2 Randleman\n",
      "[0, 1]\n",
      "[0, 0]\n",
      "[-1, 0]\n",
      "[0, 0]\n"
     ]
    }
   ],
   "source": [
    "# ----------------- 函数和生成器和类\n",
    "def say_hello():\n",
    "    print('hello')\n",
    "\n",
    "def greetings(x='Good morning!'):\n",
    "    print(x)\n",
    "\n",
    "say_hello()\n",
    "greetings()\n",
    "greetings(\"what's up\")\n",
    "a=greetings()\n",
    "\n",
    "def traverse_args(*args):\n",
    "    for arg in args:\n",
    "        print(arg)\n",
    "\n",
    "traverse_args(1,2,3)\n",
    "traverse_args('A','B','C','D')\n",
    "\n",
    "\n",
    "def traverse_kargs(**kwargs):\n",
    "    for k, v in kwargs.items():                 # items() 取kvargs中的k，v\n",
    "        print(k, v)\n",
    "\n",
    "traverse_kargs(x=3,y=4,z=5)\n",
    "traverse_kargs(fighter1='Fedor', fighter2='Randleman')\n",
    "\n",
    "\n",
    "moves=['up','left','down','right']\n",
    "\n",
    "def move_up(x):\n",
    "    x[1] +=1\n",
    "\n",
    "def move_left(x):\n",
    "    x[1] -=1\n",
    "\n",
    "def move_down(x):\n",
    "    x[0] -=1\n",
    "\n",
    "def move_right(x):\n",
    "    x[0] +=1\n",
    "\n",
    "actions={\n",
    "    'up':move_up,\n",
    "    'down':move_down,\n",
    "    'left':move_left,\n",
    "    'right':move_right\n",
    "}\n",
    "\n",
    "coord = [0,0]\n",
    "\n",
    "for move in moves:\n",
    "    actions[move](coord)        # 函数作为值取到后，直接加一括号就能使了\n",
    "    print(coord)"
   ]
  },
  {
   "cell_type": "code",
   "execution_count": 31,
   "metadata": {},
   "outputs": [
    {
     "name": "stdout",
     "output_type": "stream",
     "text": [
      "19\n"
     ]
    }
   ],
   "source": [
    "# lambda表达式在Python中是一种匿名函数，lambda关键字后面跟输入参数，然后冒号后面是返回值（的表达式）\n",
    "some_ops = lambda x, y: x + y + x*y + x**y  \n",
    "print(some_ops(2, 3))  # 2 + 3 + 2*3 + 2^3 = 19"
   ]
  },
  {
   "cell_type": "code",
   "execution_count": 32,
   "metadata": {},
   "outputs": [
    {
     "name": "stdout",
     "output_type": "stream",
     "text": [
      "10\n",
      "9\n",
      "8\n",
      "7\n",
      "6\n",
      "5\n",
      "4\n",
      "3\n",
      "2\n",
      "1\n",
      "0\n",
      "1\n",
      "1\n",
      "2\n",
      "3\n",
      "5\n",
      "8\n",
      "13\n",
      "21\n",
      "34\n",
      "55\n",
      "89\n"
     ]
    }
   ],
   "source": [
    "# 生成器\n",
    "\"\"\"\n",
    " 生成器是迭代器的一种，形式上看和函数很像，只是把return换成了yield，\n",
    " 在每次调用的时候，都会执行到yield并返回值，同时将当前状态保存，\n",
    " 等待下次执行到yield再继续：\n",
    "\"\"\"\n",
    "def countdown(x):\n",
    "    while x>= 0:\n",
    "        yield x             # 跟scala的yield 一样呀\n",
    "        x-=1\n",
    "\n",
    "for i in countdown(10):\n",
    "    print(i)\n",
    "\n",
    "def fibonacci(n):\n",
    "    a=0\n",
    "    b=1\n",
    "    while b < n:\n",
    "        yield b             # 返回b，并且保存b\n",
    "        a,b=b,a+b           # a = b, b +=a\n",
    "        \n",
    "for x in fibonacci(100):\n",
    "    print(x)"
   ]
  },
  {
   "cell_type": "code",
   "execution_count": 33,
   "metadata": {},
   "outputs": [
    {
     "name": "stdout",
     "output_type": "stream",
     "text": [
      "1\n",
      "1\n",
      "2\n"
     ]
    },
    {
     "ename": "StopIteration",
     "evalue": "",
     "output_type": "error",
     "traceback": [
      "\u001b[1;31m---------------------------------------------------------------------------\u001b[0m",
      "\u001b[1;31mStopIteration\u001b[0m                             Traceback (most recent call last)",
      "\u001b[1;32m<ipython-input-33-e034fa2f40d9>\u001b[0m in \u001b[0;36m<module>\u001b[1;34m()\u001b[0m\n\u001b[0;32m      4\u001b[0m \u001b[0mprint\u001b[0m\u001b[1;33m(\u001b[0m\u001b[0mnext\u001b[0m\u001b[1;33m(\u001b[0m\u001b[0ma\u001b[0m\u001b[1;33m)\u001b[0m\u001b[1;33m)\u001b[0m  \u001b[1;31m# 1\u001b[0m\u001b[1;33m\u001b[0m\u001b[0m\n\u001b[0;32m      5\u001b[0m \u001b[0mprint\u001b[0m\u001b[1;33m(\u001b[0m\u001b[0mnext\u001b[0m\u001b[1;33m(\u001b[0m\u001b[0ma\u001b[0m\u001b[1;33m)\u001b[0m\u001b[1;33m)\u001b[0m  \u001b[1;31m# 2\u001b[0m\u001b[1;33m\u001b[0m\u001b[0m\n\u001b[1;32m----> 6\u001b[1;33m \u001b[0mprint\u001b[0m\u001b[1;33m(\u001b[0m\u001b[0mnext\u001b[0m\u001b[1;33m(\u001b[0m\u001b[0ma\u001b[0m\u001b[1;33m)\u001b[0m\u001b[1;33m)\u001b[0m  \u001b[1;31m# 抛出StopIteration异常\u001b[0m\u001b[1;33m\u001b[0m\u001b[0m\n\u001b[0m",
      "\u001b[1;31mStopIteration\u001b[0m: "
     ]
    }
   ],
   "source": [
    "# 生成器和所有可迭代结构一样，可以通过next()函数返回下一个值，如果迭代结束了则抛出StopIteration异常：\n",
    "a = fibonacci(3)\n",
    "print(next(a))  # 1\n",
    "print(next(a))  # 1\n",
    "print(next(a))  # 2\n",
    "print(next(a))  # 抛出StopIteration异常"
   ]
  },
  {
   "cell_type": "code",
   "execution_count": 34,
   "metadata": {},
   "outputs": [
    {
     "name": "stdout",
     "output_type": "stream",
     "text": [
      " This is Calss A \n",
      "Lenordo\n",
      "What's Up!\n",
      "Lenordo\n",
      "242\n",
      "242\n"
     ]
    }
   ],
   "source": [
    "class A:\n",
    "    \"\"\" This is Calss A \"\"\"\n",
    "    def __init__(self,x,y,name):        # 类的初始化使用的是__init__(self,)，所有成员变量都是self的，所以以self.开头\n",
    "        self.x=x\n",
    "        self.y=y\n",
    "        self._name=name\n",
    "    \n",
    "    def introduce(self):\n",
    "        print(self._name)\n",
    "        \n",
    "    def greeting(self):\n",
    "        print(\"What's Up!\")\n",
    "        \n",
    "    def __12norm(self):\n",
    "        return self.x**2 + self.y**2\n",
    "        \n",
    "    def cal_12norm(self):\n",
    "        return self.__12norm()\n",
    "        \n",
    "a=A(11,11,'Lenordo')\n",
    "print(a.__doc__)            # class A  描述类的介绍\n",
    "a.introduce()\n",
    "a.greeting()\n",
    "print(a._name)\n",
    "print(a.cal_12norm())\n",
    "print(a._A__12norm())       # 而双下划线开头的变量则触发了Python中一种叫做name mangling的机制，其实就是名字变了下，仍然可以通过前边加上“_类名”的方式访问\n",
    "#print(a.__12norm())        # 报错: 'A' object has no attribute '__l2norm'"
   ]
  },
  {
   "cell_type": "code",
   "execution_count": 35,
   "metadata": {},
   "outputs": [
    {
     "name": "stdout",
     "output_type": "stream",
     "text": [
      "Flaubert\n",
      "How's going\n",
      "Flaubert\n",
      "288\n"
     ]
    }
   ],
   "source": [
    "# 继承\n",
    "class B(A):\n",
    "    \"\"\" Class B inheritenced from A\"\"\"\n",
    "    \n",
    "    def greeting(self):                # 重写了greeting方法\n",
    "        print(\"How's going\")\n",
    "        \n",
    "b=B(12,12,'Flaubert')\n",
    "b.introduce()\n",
    "b.greeting()\n",
    "print(b._name)\n",
    "print(b._A__12norm())"
   ]
  },
  {
   "cell_type": "code",
   "execution_count": 36,
   "metadata": {},
   "outputs": [
    {
     "name": "stdout",
     "output_type": "stream",
     "text": [
      "1\n",
      "4\n",
      "9\n",
      "16\n",
      "10\n",
      "1\n",
      "3\n",
      "5\n"
     ]
    }
   ],
   "source": [
    "# --------------- map reduce filter\n",
    "\n",
    "# map可以用于对可遍历结构的每个元素执行同样的操作，批量操作：map之后是迭代器\n",
    "a=map(lambda x:x**2, [1,2,3,4])\n",
    "for i in a:\n",
    "    print(i)\n",
    "map(lambda x,y:x+y, [1,2,3],[5,6,7])\n",
    "\n",
    "# reduce则是对可遍历结构的元素按顺序进行两个输入参数的操作，并且每次的结果保存作为下次操作的第一个输入参数，\n",
    "# 还没有遍历的元素作为第二个输入参数。这样的结果就是把一串可遍历的值，减少（reduce）成一个对象\n",
    "from functools import reduce \n",
    "b=reduce(lambda x,y:x+y, [1,2,3,4])       # ((1+2)+3)+4=10\n",
    "print(b)\n",
    "c=filter(lambda x:x%2, [1,2,3,4,5])       # 筛选奇数，[1, 3, 5]\n",
    "for i in c:\n",
    "    print(i)\n"
   ]
  },
  {
   "cell_type": "code",
   "execution_count": 37,
   "metadata": {},
   "outputs": [
    {
     "name": "stdout",
     "output_type": "stream",
     "text": [
      "[1, 4, 9, 16]\n",
      "[5, 7, 9]\n",
      "[1, 3, 5, 7]\n"
     ]
    }
   ],
   "source": [
    "# 列表生成 \n",
    "a = [x**2 for x in [1,2,3,4]]      # 快速列表生成器  \n",
    "print(a)\n",
    "\n",
    "b=[sum(x) for x in zip([1,2,3], [4,5,6])]    #[5,7,9]  zip()不会自动帮助判断两个列表是否长度一样，所以最终的结果会以短的列表为准\n",
    "print(b)\n",
    "\n",
    "c=[x for x in [1,2,3,4,5,6,7,8] if x%2]    # [1, 3, 5, 7] \n",
    "print(c)\n"
   ]
  },
  {
   "cell_type": "code",
   "execution_count": 38,
   "metadata": {},
   "outputs": [
    {
     "name": "stdout",
     "output_type": "stream",
     "text": [
      "2\n",
      "Life is short, i need Python\n",
      "Life is short, you need Python\n",
      "['Life', 'is', 'short,', 'you', 'need', 'Python']\n",
      "Life is short, you need Python\n",
      "Life is short, you need Python\n",
      "True\n"
     ]
    }
   ],
   "source": [
    "# -------------------------- 字符串\n",
    "a = 'Life is short, you need Python'\n",
    "a.lower()\n",
    "a.upper()\n",
    "print(a.count('i'))\n",
    "a.find('e')\n",
    "a.rfind('need')\n",
    "print(a.replace('you', 'i'))        # a 不变\n",
    "print(a)\n",
    "tokens=a.split(' ')            # 默认是空格\n",
    "print(tokens)               # ['Life', 'is', 'short,', 'you', 'need', 'Python']\n",
    "b=' '.join(tokens)          # 用指定分隔符按顺序把字符串列表组合成新字符串\n",
    "print(b)\n",
    "c=a+'\\n'                    \n",
    "print(c.rstrip('\\n'))           # 右侧去除换行符, \n",
    "[x for x in a]            \n",
    "print('Python' in a)\n"
   ]
  },
  {
   "cell_type": "code",
   "execution_count": 39,
   "metadata": {},
   "outputs": [
    {
     "name": "stdout",
     "output_type": "stream",
     "text": [
      "I am like a dog chasing cars.\n",
      "I prefer Chinese food to American food\n",
      "The index is 000001\n",
      "The index is 000019\n",
      "The index is 000256\n",
      "*---------\n",
      "***-------\n",
      "*****-----\n",
      "0.000100\n",
      "1.0e-04\n",
      "0.0001\n",
      "100000000000000000.000000\n",
      "1.0e+17\n",
      "1e+17\n",
      "0.000000\n",
      "3.0e-18\n",
      "3e-18\n",
      "Tom is 8 years old.\n",
      "Jerry is 7 years old.\n"
     ]
    }
   ],
   "source": [
    "# fromat格式化\n",
    "a='I am like a {} chasing {}.'\n",
    "# 按顺序格式化字符串，'I’m like a dog chasing cars.'\n",
    "b=a.format('dog', 'cars')\n",
    "print(b)\n",
    "\n",
    "# 在大括号中指定参数所在位置\n",
    "b = 'I prefer {1} {0} to {2} {0}'\n",
    "c=b.format('food', 'Chinese', 'American')\n",
    "print(c)\n",
    "\n",
    "# >代表右对齐，>前是要填充的字符，依次输出：\n",
    "# 000001\n",
    "# 000019\n",
    "# 000256\n",
    "for i in [1, 19, 256]:\n",
    "    print('The index is {:0>6d}'.format(i))\n",
    "\n",
    "# <代表左对齐，依次输出：\n",
    "# *---------\n",
    "# ****------\n",
    "# *******---\n",
    "for i in ['*', '***', '*****']:\n",
    "    progress_bar = '{:-<10}'.format(i)\n",
    "    print(progress_bar)\n",
    "    \n",
    "\n",
    "for x in [0.0001, 1e17, 3e-18]:\n",
    "    print('{:.6f}'.format(x))\n",
    "    print('{:.1e}'.format(x))\n",
    "    print('{:g}'.format(x))\n",
    "    \n",
    "template = '{name} is {age} years old.'\n",
    "c=template.format(name='Tom',age=8)\n",
    "print(c)\n",
    "d=template.format(age=7, name='Jerry')\n",
    "print(d)"
   ]
  },
  {
   "cell_type": "code",
   "execution_count": 40,
   "metadata": {},
   "outputs": [
    {
     "ename": "FileNotFoundError",
     "evalue": "[Errno 2] No such file or directory: 'name_age.txt'",
     "output_type": "error",
     "traceback": [
      "\u001b[1;31m---------------------------------------------------------------------------\u001b[0m",
      "\u001b[1;31mFileNotFoundError\u001b[0m                         Traceback (most recent call last)",
      "\u001b[1;32m<ipython-input-40-1d8a5dffe1b8>\u001b[0m in \u001b[0;36m<module>\u001b[1;34m()\u001b[0m\n\u001b[0;32m      1\u001b[0m \u001b[1;31m# --------------文件和pickle\u001b[0m\u001b[1;33m\u001b[0m\u001b[1;33m\u001b[0m\u001b[0m\n\u001b[1;32m----> 2\u001b[1;33m \u001b[1;32mwith\u001b[0m \u001b[0mopen\u001b[0m\u001b[1;33m(\u001b[0m\u001b[1;34m'name_age.txt'\u001b[0m\u001b[1;33m,\u001b[0m\u001b[1;34m'r'\u001b[0m\u001b[1;33m)\u001b[0m \u001b[1;32mas\u001b[0m \u001b[0mf\u001b[0m\u001b[1;33m:\u001b[0m\u001b[1;33m\u001b[0m\u001b[0m\n\u001b[0m\u001b[0;32m      3\u001b[0m     \u001b[0mlines\u001b[0m\u001b[1;33m=\u001b[0m\u001b[0mf\u001b[0m\u001b[1;33m.\u001b[0m\u001b[0mreadlines\u001b[0m\u001b[1;33m(\u001b[0m\u001b[1;33m)\u001b[0m\u001b[1;33m\u001b[0m\u001b[0m\n\u001b[0;32m      4\u001b[0m     \u001b[1;32mfor\u001b[0m \u001b[0mline\u001b[0m \u001b[1;32min\u001b[0m \u001b[0mlines\u001b[0m\u001b[1;33m:\u001b[0m\u001b[1;33m\u001b[0m\u001b[0m\n\u001b[0;32m      5\u001b[0m         \u001b[0mname\u001b[0m\u001b[1;33m,\u001b[0m \u001b[0mage\u001b[0m\u001b[1;33m=\u001b[0m\u001b[0mline\u001b[0m\u001b[1;33m.\u001b[0m\u001b[0mrstrip\u001b[0m\u001b[1;33m(\u001b[0m\u001b[1;34m'\\n'\u001b[0m\u001b[1;33m)\u001b[0m\u001b[1;33m.\u001b[0m\u001b[0msplit\u001b[0m\u001b[1;33m(\u001b[0m\u001b[1;34m','\u001b[0m\u001b[1;33m)\u001b[0m\u001b[1;33m\u001b[0m\u001b[0m\n",
      "\u001b[1;31mFileNotFoundError\u001b[0m: [Errno 2] No such file or directory: 'name_age.txt'"
     ]
    }
   ],
   "source": [
    "# --------------文件和pickle\n",
    "with open('name_age.txt','r') as f:\n",
    "    lines=f.readlines()\n",
    "    for line in lines:\n",
    "        name, age=line.rstrip('\\n').split(',')\n",
    "        print(' {} is {} years old.'.format(name,age))\n",
    "\n",
    "with open('name_age.txt','r') as fread, open('age_name.txt', 'w') as fwrite:\n",
    "    lines=fread.readlines()\n",
    "    for line in lines:\n",
    "        name, age=line.rstrip('\\n').split(',')\n",
    "        fwrite.write('{},{}\\n'.format(age,name))"
   ]
  },
  {
   "cell_type": "code",
   "execution_count": 41,
   "metadata": {
    "collapsed": true
   },
   "outputs": [],
   "source": [
    "# 持久化 pickle\n",
    "import pickle\n",
    "lines = [\n",
    "    \"I'm like a dog chasing cars.\",\n",
    "    \"I wouldn't know what to do if I caught one...\",\n",
    "    \"I'd just do things.\"\n",
    "]"
   ]
  },
  {
   "cell_type": "code",
   "execution_count": 42,
   "metadata": {},
   "outputs": [
    {
     "name": "stdout",
     "output_type": "stream",
     "text": [
      "[\"I'm like a dog chasing cars.\", \"I wouldn't know what to do if I caught one...\", \"I'd just do things.\"]\n"
     ]
    }
   ],
   "source": [
    "with open('lines.pkl', 'wb') as f:\n",
    "    pickle.dump(lines,f)\n",
    "\n",
    "with open('lines.pkl', 'rb') as f:\n",
    "    lines_back=pickle.load(f)\n",
    "\n",
    "print(lines_back)"
   ]
  },
  {
   "cell_type": "code",
   "execution_count": 43,
   "metadata": {},
   "outputs": [
    {
     "name": "stdout",
     "output_type": "stream",
     "text": [
      "Why\n",
      "so\n",
      "serious\n",
      "?\n",
      "name_age.txt with IOError!\n",
      "age_name.txt with IOError!\n"
     ]
    }
   ],
   "source": [
    "# --------------异常\n",
    "a = ['Why', 'so', 'serious', '?']\n",
    "\n",
    "for x in a:\n",
    "    print(x)\n",
    "\n",
    "filelist = ['name_age.txt', 'age_name.txt']\n",
    "\n",
    "for filepath in filelist:\t\t\t# filelist中是文件路径的列表\n",
    "    try:\n",
    "        with open(filepath, 'r'):\n",
    "            # 执行数据处理相关工作\n",
    "            # ...\n",
    "            print('{} is processed!'.format(filepath))\n",
    "    except IOError:\n",
    "        print('{} with IOError!'.format(filepath))\n"
   ]
  },
  {
   "cell_type": "code",
   "execution_count": 44,
   "metadata": {},
   "outputs": [
    {
     "data": {
      "text/plain": [
       "\"\\nfrom multiprocessing import Process\\n\\ndef process_data(filelist):\\n    for filepath in filelist:\\n        print('Processing {} ...'.format(filepath))\\n        # 处理数据\\n        # ...\\nif __name__ == '__main__':\\t\\t\\t\\t# if __name__ == '__main__'用来标明在import时不包含，但是作为文件执行时运行的语句块\\n    # full_list 包含了要处理的全部文件列表\\n    # ...\\n    n_total = len(full_list)\\n    n_processes = 32\\n\\n    # 每段子列表的平均长度\\n    length = float(n_total) / float(n_processes)\\n    \\n    # 计算下标，尽可能均匀的划分输入文件俩表\\n    indices  = [int(round(i*length)) for i in range(n_processes+1)]\\n\\n    # 生成每个进程要处理的子文件列表\\n    sublists = [full_list[indices[i]:indices[i+1]] for i in range(n_processes)]\\n    \\n    # 生成进程\\n    processes = [Process(target=process_data, args=(x,)) for x in sublists]\\n\\n    # 并行处理\\n    for p in processed:\\n        p.start()\\n        \\n    for p in processes:\\n        p.join()\\n\""
      ]
     },
     "execution_count": 44,
     "metadata": {},
     "output_type": "execute_result"
    }
   ],
   "source": [
    "# --------------多进程\n",
    "\"\"\"\n",
    "from multiprocessing import Process\n",
    "\n",
    "def process_data(filelist):\n",
    "    for filepath in filelist:\n",
    "        print('Processing {} ...'.format(filepath))\n",
    "        # 处理数据\n",
    "        # ...\n",
    "if __name__ == '__main__':\t\t\t\t# if __name__ == '__main__'用来标明在import时不包含，但是作为文件执行时运行的语句块\n",
    "    # full_list 包含了要处理的全部文件列表\n",
    "    # ...\n",
    "    n_total = len(full_list)\n",
    "    n_processes = 32\n",
    "\n",
    "    # 每段子列表的平均长度\n",
    "    length = float(n_total) / float(n_processes)\n",
    "    \n",
    "    # 计算下标，尽可能均匀的划分输入文件俩表\n",
    "    indices  = [int(round(i*length)) for i in range(n_processes+1)]\n",
    "\n",
    "    # 生成每个进程要处理的子文件列表\n",
    "    sublists = [full_list[indices[i]:indices[i+1]] for i in range(n_processes)]\n",
    "    \n",
    "    # 生成进程\n",
    "    processes = [Process(target=process_data, args=(x,)) for x in sublists]\n",
    "\n",
    "    # 并行处理\n",
    "    for p in processed:\n",
    "        p.start()\n",
    "        \n",
    "    for p in processes:\n",
    "        p.join()\n",
    "\"\"\""
   ]
  },
  {
   "cell_type": "markdown",
   "metadata": {},
   "source": [
    "### 多进程"
   ]
  },
  {
   "cell_type": "code",
   "execution_count": null,
   "metadata": {},
   "outputs": [
    {
     "name": "stdout",
     "output_type": "stream",
     "text": [
      "Parent process 8324\n",
      "Child process will start\n",
      "Child process end.\n",
      "Parent process 8324.\n",
      "Waiting for all subprocesses done...\n"
     ]
    }
   ],
   "source": [
    "from multiprocessing import Process\n",
    "import os\n",
    "\n",
    "def run_pro(name):\n",
    "    print(\"Run child process {}, {}\".format(name, os.getpid()))\n",
    "    \n",
    "if __name__ == '__main__':\n",
    "    print('Parent process {}'.format(os.getpid()))\n",
    "    p=Process(target=run_pro,args=('test',))            # Process接口创建进程\n",
    "    print(\"Child process will start\")\n",
    "    p.start()\n",
    "    p.join()\n",
    "    print(\"Child process end.\")\n",
    "    \n",
    "# 线程池\n",
    "from multiprocessing import Pool\n",
    "import time,random\n",
    "\n",
    "def long_time_task(name):\n",
    "    print('Parent task {}'.format(os.getpid()))\n",
    "    start=time.time()\n",
    "    time.sleep(random.random()*3)\n",
    "    end = time.time()\n",
    "    print('Task %s runs %0.2f seconds.' % (name, (end - start)))\n",
    "    \n",
    "if __name__ =='__main__':\n",
    "    print('Parent process %s.' % os.getpid())\n",
    "    p=Pool(4)\n",
    "    for i in range(5):\n",
    "        p.apply_async(long_time_task, args=(i,))            # apply_async(func,args) 从进程池中取出一个进程执行func,args为func的参数\n",
    "    print('Waiting for all subprocesses done...')\n",
    "    p.close()\n",
    "    p.join()\n",
    "    print('All subprocesses done.')\n",
    "    \n",
    "# 进程间通信 queue、pipes\n",
    "\n",
    "from multiprocessing import Queue\n",
    "\n",
    "# 写数据进程的代码\n",
    "def write(q):\n",
    "    print(\"Process to write : %s\" % os.getpid())\n",
    "    for value in ['A','B','C']:\n",
    "        print('Put %s to queue...' % value)\n",
    "        q.put(value)\n",
    "        time.sleep(random.random())\n",
    "        \n",
    "# 读数据进程的代码\n",
    "def read(q):\n",
    "    print(\"Process to read : %s\" % os.getpid())\n",
    "    while True:\n",
    "        value=q.get(True)\n",
    "        print('Get %s from queue.' % value)\n",
    "\n",
    "if __name__ == '__main__':\n",
    "    # 父进程创建Queue，并传给各个子进程：\n",
    "    q=Queue()\n",
    "    pw=Process(target=write, args=(q,))\n",
    "    pr=Process(target=read, args=(q,))\n",
    "    # 启动子进程\n",
    "    pw.start()\n",
    "    pr.start()\n",
    "    pw.join()\n",
    "    pr.terminate()  # pr进程里是死循环，无法等待其结束，只能强行终止:"
   ]
  },
  {
   "cell_type": "markdown",
   "metadata": {},
   "source": [
    "###  多线程"
   ]
  },
  {
   "cell_type": "code",
   "execution_count": null,
   "metadata": {
    "collapsed": true
   },
   "outputs": [],
   "source": [
    "import threading\n",
    "\n",
    "def loop():\n",
    "    print('thread %s is running...' % threading.current_thread().name)\n",
    "    n=0\n",
    "    while n < 5:\n",
    "        n=n+1\n",
    "        print('thread %s >>> %s' % (threading.current_thread().name, n))\n",
    "        time.sleep(1)\n",
    "    print('thread %s ended.' % threading.current_thread().name)\n",
    "if __name__=='__main__':\n",
    "    print('thread %s is running...' % threading.current_thread().name)\n",
    "    t=threading.Thread(target=loop, name='LoopThread')\n",
    "    t.start()\n",
    "    t.join()\n",
    "    print('thread %s ended.' % threading.current_thread().name)\n",
    "    \n",
    "# 多线程共享的lock\n",
    "balance=0\n",
    "def change_it(n):\n",
    "    # 先存后取，结果应该是0\n",
    "    global balance\n",
    "    balance+=n\n",
    "    balance-=n\n",
    "def run_thread(n):\n",
    "    for i in range(1000000):\n",
    "        change_it(n)\n",
    "\n",
    "if __name__=='__main__':        \n",
    "    t1=threading.Thread(target=run_thread,args=(5,))\n",
    "    t2=threading.Thread(target=run_thread,args=(8,))\n",
    "    t1.start()\n",
    "    t2.start()\n",
    "    t1.join()\n",
    "    t2.join()\n",
    "    print(balance)      # 理论上来说balance应该为0， 但是由于没有加锁原因导致不为0"
   ]
  },
  {
   "cell_type": "code",
   "execution_count": null,
   "metadata": {
    "collapsed": true
   },
   "outputs": [],
   "source": [
    "# 线程锁 lock\n",
    "balance=0\n",
    "lock=threading.Lock()\n",
    "\n",
    "def run_thrad_lock(n):\n",
    "    for i in range(100000):\n",
    "        lock.acquire()      # 多个线程同时执行lock.acquire()时，只有一个线程能成功地获取锁\n",
    "        try:\n",
    "            change_it(n)\n",
    "        finally:\n",
    "            lock.release()\n",
    "            \n",
    "if __name__=='__main__':        \n",
    "    t1=threading.Thread(target=run_thrad_lock,args=(5,))\n",
    "    t2=threading.Thread(target=run_thrad_lock,args=(8,))\n",
    "    t1.start()\n",
    "    t2.start()\n",
    "    t1.join()\n",
    "    t2.join()\n",
    "    print(balance)      # 加锁之后，balance=0\n",
    "    \n",
    "# 由于GIL锁的存在，导致python无法在多线程模式下，跑满多个核，而只能用到一个核。虽然多线程模式无法做到真正利用多核\n",
    "# 我们可以用多进程模式"
   ]
  },
  {
   "cell_type": "code",
   "execution_count": null,
   "metadata": {
    "collapsed": true
   },
   "outputs": [],
   "source": [
    "# ----------------分布式多进程\n",
    "'''     \n",
    "            task_master.py\n",
    "            \n",
    "# task_worker.py  master在10.118.202.164上\n",
    "# master端 10.118.202.164\n",
    "if __name__ == '__main__':\n",
    "    import random, time\n",
    "    from multiprocessing import Queue\n",
    "    from multiprocessing.managers import BaseManager\n",
    "\n",
    "    # 发送任务的队列\n",
    "    task_queue=Queue()\n",
    "\n",
    "    # 接受任务的队列\n",
    "    result_queue=Queue()\n",
    "\n",
    "    # 从BaseManager继承\n",
    "    class QueueManager(BaseManager):\n",
    "        pass\n",
    "\n",
    "    # 把两个Queue都注册到网络上, callable参数关联了Queue对象:\n",
    "    QueueManager.register(\"get_task_queue\", callable=lambda : task_queue)\n",
    "    QueueManager.register(\"get_result_queue\", callable=lambda : result_queue)\n",
    "\n",
    "    # 绑定端口5000,设置验证码'abc'\n",
    "    manage= QueueManager(address=('',5000), authkey=b'abc')\n",
    "\n",
    "    # 启动Queue\n",
    "    manage.start()\n",
    "\n",
    "    # 通过网络访问Queue对象\n",
    "    task=manage.get_task_queue()\n",
    "    result=manage.get_result_queue()\n",
    "\n",
    "    # 放几个任务进去\n",
    "    for i in range(10):\n",
    "        n = random.randint(1, 10000)\n",
    "        print('put task %d...' % n)\n",
    "        task.put(n)\n",
    "\n",
    "    # 从result队列中读取结果\n",
    "    print('Try get results...')\n",
    "    for i in range(10):\n",
    "        r=result.get(timeout=10)\n",
    "        print('Result: %s' % r)\n",
    "\n",
    "    # 关闭\n",
    "    manage.shutdown()\n",
    "    print('master exit.')\n",
    "'''\n",
    "    \n",
    "'''\n",
    "            task_work.py\n",
    "\n",
    "if __name__ == '__main__':\n",
    "    # -*- coding:UTF-8 -*-\n",
    "    import sys\n",
    "    import random, time\n",
    "    from multiprocessing import Queue\n",
    "    from multiprocessing.managers import BaseManager\n",
    "\n",
    "    # 创建类似的QueueManager:\n",
    "    class QueueManager(BaseManager):\n",
    "        pass\n",
    "\n",
    "    # 由于这个QueueManager只从网络上获取Queue，所以注册时只提供名字:\n",
    "    QueueManager.register('get_task_queue')\n",
    "    QueueManager.register('get_result_queue')\n",
    "\n",
    "    #连接服务器\n",
    "    server_addr = '127.0.0.1'\n",
    "    print('Connect to server %s...' % server_addr)\n",
    "\n",
    "    # 端口和验证码注意保持与task_master.py设置的完全一致:\n",
    "    m = QueueManager(address=(server_addr, 5000), authkey=b'abc')\n",
    "\n",
    "    # 从网络连接:\n",
    "    m.connect()\n",
    "\n",
    "    # 获取Queue的对象:\n",
    "    task = m.get_task_queue()\n",
    "    result = m.get_result_queue()\n",
    "\n",
    "    # 从task队列取任务,并把结果写入result队列:\n",
    "    for i in range(10):\n",
    "        n = task.get(timeout=1)\n",
    "        print('run task %d * %d...' % (n, n))\n",
    "        r = '%d * %d = %d' % (n, n, n*n)\n",
    "        time.sleep(1)\n",
    "        result.put(r)\n",
    "    # 处理结束:\n",
    "    print('worker exit.')\n",
    "'''"
   ]
  },
  {
   "cell_type": "markdown",
   "metadata": {},
   "source": [
    "### os模块"
   ]
  },
  {
   "cell_type": "code",
   "execution_count": null,
   "metadata": {
    "collapsed": true
   },
   "outputs": [],
   "source": [
    "# --------------os模块\n",
    "# os.system()就能方便实现很多功能\n",
    "import os, shutil\n",
    "\n",
    "filepath0 = 'data/bat/IMG_000001.jpg'\n",
    "filepath1 = 'data/bat/IMG_000000.jpg'\n",
    "\n",
    "# 修改文件名\n",
    "os.system('mv {} {}'.format(filepath0, filepath1))\n",
    "#os.rename(filepath0, filepath1)\n",
    "\n",
    "\n",
    "# 创建文件夹\n",
    "dirname = 'data_samples'\n",
    "os.system('mkdir -p {}'.format(dirname))\n",
    "#if not os.path.exists(dirname):\n",
    "#    os.mkdir(dirname)\n",
    "\n",
    "# 拷贝文件\n",
    "os.system('cp {} {}'.format(filepath1, dirname))\n",
    "#shutil.copy(filepath1, dirname)\n"
   ]
  },
  {
   "cell_type": "code",
   "execution_count": null,
   "metadata": {
    "collapsed": true
   },
   "outputs": [],
   "source": [
    "import os\n",
    "\n",
    "# 定义文件夹名称和标签的对应关系\n",
    "label_map = {\n",
    "    'cat': 0,\n",
    "    'dog': 1,\n",
    "    'bat': 2\n",
    "}\n",
    "\n",
    "with open('data.txt', 'r') as f:\n",
    "    # 遍历所有文件，root为当前文件夹，dirs是所有子文件夹名，files是所有文件名\n",
    "    for root, dirs, files in os.walk('dta'):\n",
    "        for filename in files:\n",
    "            filepath=os.sep.join([root,filename])      # os.sep是当前操作系统的路径分隔符，在Unix/Linux中是'/'，Windows中是'\\\\'\n",
    "            dirname=root.split(os.set)[-1]\n",
    "            label=laber_map[dirname]\n",
    "            line='{},{}\\n'.format(filepath, label)\n",
    "            f.write(line)\n",
    "\n",
    "\n",
    "# filenames = os.listdir('data')  获取所有文件的名称"
   ]
  },
  {
   "cell_type": "code",
   "execution_count": null,
   "metadata": {
    "collapsed": true
   },
   "outputs": [],
   "source": []
  }
 ],
 "metadata": {
  "kernelspec": {
   "display_name": "Python 3",
   "language": "python",
   "name": "python3"
  },
  "language_info": {
   "codemirror_mode": {
    "name": "ipython",
    "version": 3
   },
   "file_extension": ".py",
   "mimetype": "text/x-python",
   "name": "python",
   "nbconvert_exporter": "python",
   "pygments_lexer": "ipython3",
   "version": "3.6.3"
  }
 },
 "nbformat": 4,
 "nbformat_minor": 2
}
