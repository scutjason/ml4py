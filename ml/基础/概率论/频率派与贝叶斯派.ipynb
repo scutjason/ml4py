{
 "cells": [
  {
   "cell_type": "markdown",
   "metadata": {},
   "source": [
    "### 频率派与贝叶斯派"
   ]
  },
  {
   "cell_type": "code",
   "execution_count": 1,
   "metadata": {},
   "outputs": [],
   "source": [
    "# 对于样本数据X= n*p维\n",
    "# 参数为θ\n",
    "\n",
    "# 概率模型为 X ~ P（X|θ），X中的每个样本都服从参数为θ的概率分布P"
   ]
  },
  {
   "cell_type": "code",
   "execution_count": 2,
   "metadata": {},
   "outputs": [],
   "source": [
    "# 频率派：（统计学习方法）\n",
    "\n",
    "\n",
    "#     模型的参数θ是未知的常量，数据X则是随机变量，服从参数为θ的概率分布\n",
    "#     常用的参数估计方法是极大似然估计MLE\n",
    "#     θ_mle = arg max(log(P(X|θ))) = L(θ)"
   ]
  },
  {
   "cell_type": "code",
   "execution_count": 8,
   "metadata": {},
   "outputs": [
    {
     "data": {
      "text/plain": [
       "'有个这个后验概率P（θ|X）之后，有啥用呢？ 作预测'"
      ]
     },
     "execution_count": 8,
     "metadata": {},
     "output_type": "execute_result"
    }
   ],
   "source": [
    "# 贝叶斯派：（概率图模型）\n",
    "\n",
    "\n",
    "#     模型的参数θ是未知数，θ本身是一个随机变量，服从某个概率分布，θ ~ P（θ），参数本身的分布通常称为先验分布\n",
    "#     借助贝叶斯定理，把参数的先验和后验通过似然联系起来\n",
    "#     贝叶斯公式：  P（θ|X） = P(X|θ) * P（θ）/ P（X）    \n",
    "#     其中：\n",
    "#         P（θ|X）是后验。\n",
    "#         P(X|θ)是似然（可以这么记，很像我们上面的极大似然概率）。\n",
    "#         P（X）是一个积分 ∫P（x|θ）*P（θ）dθ。\n",
    "\n",
    "#     怎么求θ\n",
    "\n",
    "#     1、MAP\n",
    "#     MAP：最大后验概率求θ，找到后验概率最大的一个点作为θ的一个估计。实际上这个点是一个mode（模）\n",
    "#     θ_map = arg max(P（θ|X）) = arg max(P(X|θ) * P（θ）） 因为P（X）与θ无关，可以认为是常量。\n",
    "\n",
    "#     2、贝叶斯估计：\n",
    "#         直接用贝叶斯公式求出这个后验概率：P（θ|X） = P(X|θ) * P（θ）/ P（X）    \n",
    "\n",
    "#     可以看出，MAP并不是真的贝叶斯估计\n",
    "\n",
    "\"\"\"有个这个后验概率P（θ|X）之后，有啥用呢？ 作预测\"\"\"\n",
    "#     我们知道用贝叶斯理论很大的用法就是 贝叶斯来作预测，对吧。\n",
    "#     贝叶斯预测：原有样本X，现在来了一个新样本x_。 预测问题就是P（x_|X）\n",
    "#             P（x_|X） = ∫P（x_，θ|X）dθ = ∫P（x_|θ）*P（θ|X）dθ， 用θ搭桥。\n",
    "#         观察这个预测概率，里面有个后验概率，所以说我们用贝叶斯预测的化，肯定离不开要求这个后验概率。\n",
    "\n",
    "# 在观察贝叶斯估计P（θ|X）公式，里面的P（X）其实是一个在所有θ的参数空间中对θ求积分，这个实际上是很难求的，或者说\n",
    "# 现实中，根本做不到。怎么办？？？  近似求积分，比如采样方法。"
   ]
  },
  {
   "cell_type": "code",
   "execution_count": 1,
   "metadata": {},
   "outputs": [],
   "source": [
    "# 可以看出贝叶斯派的本质是求积分。积分不好求，解析解求不出来，那就求数值解。比如：采样，MCMC等\n",
    "# 而频率派是一个最优化问题，首先设定模型，然后最大化一个损失函数，最后求出这个损失函数的极值点，梯度下降法、牛顿法、EM等"
   ]
  },
  {
   "cell_type": "code",
   "execution_count": null,
   "metadata": {},
   "outputs": [],
   "source": []
  }
 ],
 "metadata": {
  "kernelspec": {
   "display_name": "Python 3",
   "language": "python",
   "name": "python3"
  },
  "language_info": {
   "codemirror_mode": {
    "name": "ipython",
    "version": 3
   },
   "file_extension": ".py",
   "mimetype": "text/x-python",
   "name": "python",
   "nbconvert_exporter": "python",
   "pygments_lexer": "ipython3",
   "version": "3.7.1"
  }
 },
 "nbformat": 4,
 "nbformat_minor": 2
}
