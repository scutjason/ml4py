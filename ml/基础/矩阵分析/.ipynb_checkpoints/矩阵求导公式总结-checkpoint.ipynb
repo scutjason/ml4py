{
 "cells": [
  {
   "cell_type": "markdown",
   "metadata": {},
   "source": [
    "### 矩阵求导"
   ]
  },
  {
   "cell_type": "code",
   "execution_count": 1,
   "metadata": {
    "collapsed": true
   },
   "outputs": [],
   "source": [
    "# 机器学习中常用的矩阵、向量求导公式"
   ]
  },
  {
   "cell_type": "markdown",
   "metadata": {},
   "source": [
    "#### 向量对标量求导"
   ]
  },
  {
   "cell_type": "code",
   "execution_count": 2,
   "metadata": {
    "collapsed": true
   },
   "outputs": [],
   "source": [
    "# y = [y1,y2,...,yn], 对标量x求导\n",
    "# 即向量的每个分量对标量就行求导，最后所得依然是与原向量同维的向量。"
   ]
  },
  {
   "cell_type": "markdown",
   "metadata": {},
   "source": [
    "#### 矩阵对标量求导"
   ]
  },
  {
   "cell_type": "code",
   "execution_count": 3,
   "metadata": {
    "collapsed": true
   },
   "outputs": [],
   "source": [
    "# y 是m*n的矩阵, 对标量x求导\n",
    "# 即矩阵的的每个分量对标量就行求导，最后所得依然是与原矩阵同维的矩阵。"
   ]
  },
  {
   "cell_type": "markdown",
   "metadata": {},
   "source": [
    "#### 向量对向量求导"
   ]
  },
  {
   "cell_type": "markdown",
   "metadata": {},
   "source": [
    "<img src=\"../../图片/矩阵求导.png\">"
   ]
  },
  {
   "cell_type": "markdown",
   "metadata": {},
   "source": [
    "1、行向量对列向量求导"
   ]
  },
  {
   "cell_type": "markdown",
   "metadata": {},
   "source": [
    "<img src=\"../../图片/行向量对列向量求导.png\">"
   ]
  },
  {
   "cell_type": "markdown",
   "metadata": {},
   "source": [
    "2、列向量对行向量求导"
   ]
  },
  {
   "cell_type": "markdown",
   "metadata": {},
   "source": [
    "<img src=\"../../图片/列向量对行向量求导.png\">"
   ]
  },
  {
   "cell_type": "markdown",
   "metadata": {},
   "source": [
    "所以向量对向量求导的原则就是以分母为准，分母是n \\* 1，那结果的行维度肯定是n，分母是1 \\* n，结果的列维度肯定是n"
   ]
  },
  {
   "cell_type": "code",
   "execution_count": 5,
   "metadata": {
    "collapsed": true
   },
   "outputs": [],
   "source": [
    "# 下面的x均为列向量"
   ]
  },
  {
   "cell_type": "markdown",
   "metadata": {},
   "source": [
    "$\\frac{d(x)}{d(x)}=I$\n",
    "\n",
    "$\\frac{d(x)}{d(x^T)}=I$\n",
    "\n",
    "$\\frac{d(x^T)}{d(x)}=I$\n",
    "\n",
    "$\\frac{d(Ax)}{d(x)}=A^T$\n",
    "\n",
    "$\\frac{d(xA)}{d(x^T)}=A$\n",
    "\n",
    "$\\frac{d(xA)}{d(x)}=A^T$"
   ]
  },
  {
   "cell_type": "markdown",
   "metadata": {},
   "source": [
    "#### 标量对向量求导"
   ]
  },
  {
   "cell_type": "markdown",
   "metadata": {},
   "source": [
    "x是列向量\n",
    "\n",
    "$\\frac{d(x^TA)}{d(x)}=A$\n",
    "\n",
    "$\\frac{d(x^Tx)}{d(x)}=2x$\n",
    "\n",
    "$\\frac{d(x^TAx)}{d(x)}=(A + A^T)x$"
   ]
  },
  {
   "cell_type": "markdown",
   "metadata": {},
   "source": [
    "#### 内积向量对向量求导"
   ]
  },
  {
   "cell_type": "markdown",
   "metadata": {},
   "source": [
    "<img src=\"../../图片/内积向量对向量求导.png\">"
   ]
  },
  {
   "cell_type": "markdown",
   "metadata": {},
   "source": [
    "$\\frac{d(u^Tv)}{d(x)}=\\frac{d(u^T)}{d(x)}v + \\frac{d(v^T)}{d(x)}u$"
   ]
  },
  {
   "cell_type": "markdown",
   "metadata": {},
   "source": [
    "#### 矩阵链式求导"
   ]
  },
  {
   "cell_type": "markdown",
   "metadata": {},
   "source": [
    "矩阵对向量求导\n",
    "\n",
    "$\\frac{d(UV)}{d(x)}=\\frac{d(U)}{d(x)}V + U\\frac{d(V)}{d(x)}$"
   ]
  },
  {
   "cell_type": "markdown",
   "metadata": {},
   "source": [
    "#### 标量对矩阵求导"
   ]
  },
  {
   "cell_type": "markdown",
   "metadata": {},
   "source": [
    "设 X = m\\*n, u = m\\*1, v = n\\*1\n",
    "\n",
    "$\\frac{d(u^TXv)}{d(X)}= uv^T$   \n",
    "\n",
    "$\\frac{d(u^TX^Tv)}{d(X)}=vu^T$\n",
    "\n",
    "$\\frac{d(u^TX^TXu)}{d(X)}=2Xuu^T$"
   ]
  },
  {
   "cell_type": "code",
   "execution_count": null,
   "metadata": {
    "collapsed": true
   },
   "outputs": [],
   "source": []
  }
 ],
 "metadata": {
  "kernelspec": {
   "display_name": "Python 3",
   "language": "python",
   "name": "python3"
  },
  "language_info": {
   "codemirror_mode": {
    "name": "ipython",
    "version": 3
   },
   "file_extension": ".py",
   "mimetype": "text/x-python",
   "name": "python",
   "nbconvert_exporter": "python",
   "pygments_lexer": "ipython3",
   "version": "3.6.3"
  }
 },
 "nbformat": 4,
 "nbformat_minor": 2
}
