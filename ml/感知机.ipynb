{
 "cells": [
  {
   "cell_type": "markdown",
   "metadata": {},
   "source": [
    "### 感知机"
   ]
  },
  {
   "cell_type": "code",
   "execution_count": 1,
   "metadata": {
    "collapsed": true
   },
   "outputs": [],
   "source": [
    "# 思想：错误驱动"
   ]
  },
  {
   "cell_type": "code",
   "execution_count": 2,
   "metadata": {
    "collapsed": true
   },
   "outputs": [],
   "source": [
    "# 模型：f(x) = sign(W^T*X)"
   ]
  },
  {
   "cell_type": "code",
   "execution_count": 3,
   "metadata": {
    "collapsed": true
   },
   "outputs": [],
   "source": [
    "# 其中， 当a≥0时，sign(a) = 1, a＜0时，sigh(a) = -1， sign也即是激活函数"
   ]
  },
  {
   "cell_type": "code",
   "execution_count": 4,
   "metadata": {
    "collapsed": true
   },
   "outputs": [],
   "source": [
    "# 损失函数：被错误分类的样本点的个数"
   ]
  },
  {
   "cell_type": "code",
   "execution_count": 5,
   "metadata": {
    "collapsed": true
   },
   "outputs": [],
   "source": [
    "# loss = I{y_i * W^T*x_i < 0}   y_i * W^T*x_i < 0 表示样本x_i本错误分类了。 "
   ]
  },
  {
   "cell_type": "code",
   "execution_count": 127,
   "metadata": {},
   "outputs": [
    {
     "data": {
      "text/plain": [
       "'\\n我们只观察 f(x) = y_i * W^T*x_i  这个函数，我们最终的目的是不是要让loss最小，也就是 f(x)趋于0.\\nf(x) 趋于0 ，就表示 没有被错误分类的点，那loss不就为0了嘛。\\n所以我们最小loss，转化成让f(x)=0。不过f(x)是负的，所以我们在它前面加个负号。\\n\\n'"
      ]
     },
     "execution_count": 127,
     "metadata": {},
     "output_type": "execute_result"
    }
   ],
   "source": [
    "# 但是，我们看上面的loss关于x是不连续的，不过我们看，它关于w是连续函数。\n",
    "'''\n",
    "我们只观察 f(x) = y_i * W^T*x_i  这个函数，我们最终的目的是不是要让loss最小，也就是 f(x)趋于0.\n",
    "f(x) 趋于0 ，就表示 没有被错误分类的点，那loss不就为0了嘛。\n",
    "所以我们最小loss，转化成让f(x)=0。不过f(x)是负的，所以我们在它前面加个负号。\n",
    "\n",
    "'''"
   ]
  },
  {
   "cell_type": "code",
   "execution_count": 128,
   "metadata": {
    "collapsed": true
   },
   "outputs": [],
   "source": [
    "# 因此我们的新的loss就变成了"
   ]
  },
  {
   "cell_type": "code",
   "execution_count": 129,
   "metadata": {
    "collapsed": true
   },
   "outputs": [],
   "source": [
    "# loss = -∑y_i * W^T*x_i。  注意这里求和，是对所以错误分类的样本求和，而不是整个样本"
   ]
  },
  {
   "cell_type": "code",
   "execution_count": 9,
   "metadata": {
    "collapsed": true
   },
   "outputs": [],
   "source": [
    "# 使用随机梯度下降法来求解"
   ]
  },
  {
   "cell_type": "markdown",
   "metadata": {},
   "source": [
    "$\\frac{d(loss)}{d(w)} =-\\sum_i^{D}y_i * x_i = Xy$  \n",
    "\n",
    "D表示错误分类的样本\n"
   ]
  },
  {
   "cell_type": "code",
   "execution_count": 10,
   "metadata": {
    "collapsed": true
   },
   "outputs": [],
   "source": [
    "# 感知机必须是完全线性可分的样本。"
   ]
  },
  {
   "cell_type": "markdown",
   "metadata": {},
   "source": [
    "#### 自己实现感知机"
   ]
  },
  {
   "cell_type": "code",
   "execution_count": 328,
   "metadata": {},
   "outputs": [],
   "source": [
    "import numpy as np\n",
    "import matplotlib.pyplot as plt\n",
    "from sklearn import datasets"
   ]
  },
  {
   "cell_type": "code",
   "execution_count": 362,
   "metadata": {},
   "outputs": [],
   "source": [
    "X,y = datasets.make_classification(n_samples=1000, n_features=2, n_redundant=0,n_informative=1,n_clusters_per_class=1)\n",
    "\n",
    "# n_classes * n_clusters_per_class must be smaller or equal 2 ** n_informative\n",
    "#n_samples:生成样本的数量\n",
    "#n_features=2:生成样本的特征数，特征数=n_informative（） + n_redundant + n_repeated\n",
    "#n_informative：多信息特征的个数\n",
    "#n_redundant：冗余信息，informative特征的随机线性组合\n",
    "#n_clusters_per_class ：某一个类别是由几个cluster构成的 "
   ]
  },
  {
   "cell_type": "code",
   "execution_count": 363,
   "metadata": {},
   "outputs": [
    {
     "data": {
      "text/plain": [
       "(1000, 2)"
      ]
     },
     "execution_count": 363,
     "metadata": {},
     "output_type": "execute_result"
    }
   ],
   "source": [
    "X.shape"
   ]
  },
  {
   "cell_type": "code",
   "execution_count": 364,
   "metadata": {},
   "outputs": [
    {
     "data": {
      "image/png": "[encoded data removed]",
      "text/plain": [
       "<matplotlib.figure.Figure at 0x1f5e8acc4e0>"
      ]
     },
     "metadata": {},
     "output_type": "display_data"
    }
   ],
   "source": [
    "plt.scatter(X[y==0, 0], X[y==0, 1])\n",
    "plt.scatter(X[y==1, 0], X[y==1, 1])\n",
    "plt.show()"
   ]
  },
  {
   "cell_type": "code",
   "execution_count": 365,
   "metadata": {},
   "outputs": [
    {
     "data": {
      "text/plain": [
       "(750, 2)"
      ]
     },
     "execution_count": 365,
     "metadata": {},
     "output_type": "execute_result"
    }
   ],
   "source": [
    "from sklearn.model_selection import train_test_split\n",
    "X_train,X_test,y_train,y_test = train_test_split(X,y,random_state=666)\n",
    "X_train.shape"
   ]
  },
  {
   "cell_type": "code",
   "execution_count": 366,
   "metadata": {
    "collapsed": true
   },
   "outputs": [],
   "source": [
    "from sklearn.linear_model import Perceptron\n",
    "perp = Perceptron(fit_intercept=False,max_iter=30,shuffle=False)"
   ]
  },
  {
   "cell_type": "code",
   "execution_count": 367,
   "metadata": {},
   "outputs": [
    {
     "data": {
      "text/plain": [
       "Perceptron(alpha=0.0001, class_weight=None, eta0=1.0, fit_intercept=False,\n",
       "      max_iter=30, n_iter=None, n_jobs=1, penalty=None, random_state=0,\n",
       "      shuffle=False, tol=None, verbose=0, warm_start=False)"
      ]
     },
     "execution_count": 367,
     "metadata": {},
     "output_type": "execute_result"
    }
   ],
   "source": [
    "from sklearn.preprocessing import StandardScaler\n",
    "standardScaler = StandardScaler()\n",
    "standardScaler.fit(X_train)\n",
    "X_train = standardScaler.transform(X_train)\n",
    "\n",
    "\n",
    "perp.fit(X_train,y_train)"
   ]
  },
  {
   "cell_type": "code",
   "execution_count": 368,
   "metadata": {},
   "outputs": [
    {
     "data": {
      "text/plain": [
       "0.9693333333333334"
      ]
     },
     "execution_count": 368,
     "metadata": {},
     "output_type": "execute_result"
    }
   ],
   "source": [
    "perp.score(X_train,y_train)"
   ]
  },
  {
   "cell_type": "code",
   "execution_count": 369,
   "metadata": {},
   "outputs": [
    {
     "data": {
      "text/plain": [
       "0.964"
      ]
     },
     "execution_count": 369,
     "metadata": {},
     "output_type": "execute_result"
    }
   ],
   "source": [
    "perp.score(X_test,y_test)"
   ]
  },
  {
   "cell_type": "code",
   "execution_count": 370,
   "metadata": {},
   "outputs": [
    {
     "name": "stdout",
     "output_type": "stream",
     "text": [
      "[[0.09083037 3.50596717]]\n",
      "[0.]\n"
     ]
    }
   ],
   "source": [
    "print(perp.coef_)\n",
    "print(perp.intercept_)"
   ]
  },
  {
   "cell_type": "code",
   "execution_count": 371,
   "metadata": {
    "collapsed": true
   },
   "outputs": [],
   "source": [
    "def plot_decision_boundary(model, axis):\n",
    "    \n",
    "    x0, x1 = np.meshgrid(\n",
    "        np.linspace(axis[0], axis[1], int((axis[1]-axis[0])*100)).reshape(-1,1),\n",
    "        np.linspace(axis[2], axis[3], int((axis[3]-axis[2])*100)).reshape(-1,1)\n",
    "    )\n",
    "    X_new = np.c_[x0.ravel(), x1.ravel()]\n",
    "    \n",
    "    y_predict = model.predict(X_new)\n",
    "    zz = y_predict.reshape(x0.shape)\n",
    "    \n",
    "    from matplotlib.colors import ListedColormap\n",
    "    custom_cmap = ListedColormap(['#EF9A9A','#FFF59D','#90CAF9'])\n",
    "    \n",
    "    plt.contourf(x0, x1, zz, 5, cmap=custom_cmap)"
   ]
  },
  {
   "cell_type": "code",
   "execution_count": 372,
   "metadata": {},
   "outputs": [
    {
     "data": {
      "image/png": "[encoded data removed]",
      "text/plain": [
       "<matplotlib.figure.Figure at 0x1f5ea147080>"
      ]
     },
     "metadata": {},
     "output_type": "display_data"
    }
   ],
   "source": [
    "plot_decision_boundary(perp, axis=[-5, 5, -5, 5])\n",
    "plt.scatter(X[y==0, 0], X[y==0, 1])\n",
    "plt.scatter(X[y==1, 0], X[y==1, 1])\n",
    "plt.show()"
   ]
  },
  {
   "cell_type": "code",
   "execution_count": 373,
   "metadata": {
    "collapsed": true
   },
   "outputs": [],
   "source": [
    "# θ^T * X_b = 0 也可以看成是一条直线\n",
    "# x_2 = (-θ_0 -θ_1 * x_1) / θ_2  "
   ]
  },
  {
   "cell_type": "code",
   "execution_count": 374,
   "metadata": {},
   "outputs": [
    {
     "data": {
      "image/png": "[encoded data removed]",
      "text/plain": [
       "<matplotlib.figure.Figure at 0x1f5ea00e908>"
      ]
     },
     "metadata": {},
     "output_type": "display_data"
    }
   ],
   "source": [
    "# 画出感知机的决策边界\n",
    "plt.scatter(X[y==0, 0], X[y==0, 1])\n",
    "plt.scatter(X[y==1, 0], X[y==1, 1])\n",
    "x1_plot = np.linspace(-5,5,1000)\n",
    "x2_plot = (-perp.intercept_ -perp.coef_[0][0] * x1_plot) / perp.coef_[0][1]   # 决策边界？\n",
    "plt.plot(x1_plot,x2_plot)\n",
    "plt.show()"
   ]
  },
  {
   "cell_type": "code",
   "execution_count": 497,
   "metadata": {},
   "outputs": [],
   "source": [
    "# 定义sigh私有函数\n",
    "def sign(t):\n",
    "    t = list(t)\n",
    "    def __inner(i):\n",
    "        if i >= 0:\n",
    "            return 1\n",
    "        else:\n",
    "            return -1\n",
    "    if isinstance(t,list):\n",
    "        ret = []\n",
    "        for i in t:\n",
    "            ret.append(__inner(i))\n",
    "        return ret\n",
    "    else:\n",
    "        return __inner(t)"
   ]
  },
  {
   "cell_type": "code",
   "execution_count": 498,
   "metadata": {},
   "outputs": [
    {
     "data": {
      "image/png": "[encoded data removed]",
      "text/plain": [
       "<matplotlib.figure.Figure at 0x1f5ea0cd6a0>"
      ]
     },
     "metadata": {},
     "output_type": "display_data"
    }
   ],
   "source": [
    "x = np.linspace(-10,10,500)\n",
    "y = sigh(x)\n",
    "\n",
    "plt.plot(x,y)\n",
    "plt.show()"
   ]
  },
  {
   "cell_type": "markdown",
   "metadata": {},
   "source": [
    "$L(\\omega,b)=-\\sum_{x_i\\in M}y_i(\\omega\\cdot x_i+b)$"
   ]
  },
  {
   "cell_type": "markdown",
   "metadata": {},
   "source": [
    "$\\frac{d(L(\\omega,b)}{d\\omega}=-{x_i\\in M}y_i\\cdot x_i$ \n",
    "\n",
    "$\\omega_{t+1}=\\omega_{t} + η*\\frac{d(L(\\omega,b)}{d\\omega}$   本来是减，但是负负得正\n",
    "\n",
    "用sgd求导时，只需要娶一个样本就好，x_i，y_i"
   ]
  },
  {
   "cell_type": "code",
   "execution_count": 528,
   "metadata": {},
   "outputs": [],
   "source": [
    "import numpy as np\n",
    "from sklearn.metrics import accuracy_score\n",
    "\n",
    "class Perceptron(object):\n",
    "    def __init__(self):\n",
    "        \"\"\"初始化Perceptron感知机模型\"\"\"\n",
    "\n",
    "        # 系数向量（θ1,θ2,.....θn）\n",
    "        self.coef_ = None\n",
    "        # 截距 (θ0)\n",
    "        self.intercept_ = None\n",
    "        # θ向量\n",
    "        self._theta = None\n",
    "\n",
    "    def fit(self, X_train, y_train, n_iters = 1e4):\n",
    "        \"\"\"根据训练数据集X_train,y_train, 使用随机梯度下降法训练Logistic Regression 模型\"\"\"\n",
    "        assert X_train.shape[0] == y_train.shape[0], \\\n",
    "            \"the size of X_train must be equal to the size of y_train\"\n",
    "\n",
    "        def dJ_sgd(X_b_i, y_i):\n",
    "            # 向量化的梯度下降法\n",
    "            return y_i*X_b_i\n",
    "        \n",
    "        # 随机梯度下降法\n",
    "        def sgd(X_b, y, initial_theta, n_iters, t0=5, t1=50):\n",
    "\n",
    "            def learning_rate(t):\n",
    "                \"\"\"\n",
    "                计算学习率，t1 为了减慢变化速度，t0为了增加随机性\n",
    "                :param t: 第t次循环\n",
    "                :return:\n",
    "                \"\"\"\n",
    "                return t0 / (t + t1)\n",
    "\n",
    "            theta = initial_theta\n",
    "            # 样本数\n",
    "            m = len(X_b)\n",
    "    \n",
    "            y_ = np.sign(X_b.dot(theta))*y\n",
    "            idx = np.where(y_<= 0)\n",
    "            # 找出分类错误的点的id。\n",
    "            i_iters = 0\n",
    "            while i_iters < n_iters:\n",
    "                if idx[0].shape[0] == 0:\n",
    "                    break\n",
    "                # 感知机有点不一样，它并不是遍历整个样本\n",
    "                # 实际上是遍历哪些判错的样本，也就是只更新\n",
    "                # 判错的样本集。\n",
    "                \n",
    "                # 随机搞一个样本\n",
    "                rid = np.random.randint((idx[0].shape[0]))\n",
    "                id = idx[0][rid]\n",
    "                gradient = dJ_sgd(X_b[id], y[id])\n",
    "                theta = theta + 0.01 * gradient  # 因为损失函数有个负号，所以负负得正\n",
    "                y_ = np.sign(X_b.dot(theta))*y\n",
    "                idx = np.where(y_<= 0)\n",
    "                i_iters += 1\n",
    "                \n",
    "            return theta\n",
    "\n",
    "        X_b = np.hstack([np.ones((len(X_train), 1)), X_train]) # 水平方向扩充\n",
    "        initial_theta = np.zeros(X_b.shape[1])\n",
    "        self._theta = sgd(X_b, y_train, initial_theta, n_iters)\n",
    "\n",
    "        self.intercept_ = self._theta[0]\n",
    "        self.coef_ = self._theta[1:]\n",
    "\n",
    "        return self\n",
    "\n",
    "\n",
    "    # 2、预测分类\n",
    "    def predict(self, X_predict):\n",
    "        \"\"\"给定待预测数据集X_predict，返回表示X_predict的结果向量\"\"\"\n",
    "        assert self.coef_ is not None and self.intercept_ is not None,\\\n",
    "            \"must fit before predict\"\n",
    "        assert X_predict.shape[1] == len(self.coef_),\\\n",
    "            \"the feature number of X_predict must be equal to X_train\"\n",
    "\n",
    "        X_b = np.hstack([np.ones((len(X_predict), 1)), X_predict])\n",
    "        return np.array(np.sign(X_b.dot(self._theta)))\n",
    "    \n",
    "    def score(self, X_test, y_test):\n",
    "        \"\"\"根据测试数据集 X_test 和 y_test 确定当前模型的准确度\"\"\"\n",
    "        y_predict = self.predict(X_test)\n",
    "        # 返回正确的个数 sum(y_predict==y_test)/len(y_test)\n",
    "        return accuracy_score(y_test, y_predict)\n",
    "    \n",
    "    def __repr__(self):\n",
    "        return \"Perceptron()\""
   ]
  },
  {
   "cell_type": "code",
   "execution_count": 529,
   "metadata": {},
   "outputs": [
    {
     "data": {
      "image/png": "[encoded data removed]",
      "text/plain": [
       "<matplotlib.figure.Figure at 0x1f5ea6d0d68>"
      ]
     },
     "metadata": {},
     "output_type": "display_data"
    }
   ],
   "source": [
    "X,y = datasets.make_classification(n_samples=1000, n_features=2, n_redundant=0,n_informative=1,n_clusters_per_class=1)\n",
    "plt.scatter(X[y==0, 0], X[y==0, 1])\n",
    "plt.scatter(X[y==1, 0], X[y==1, 1])\n",
    "plt.show()\n",
    "y[y==0]=-1   #  艹 这个数据坑爹了。 "
   ]
  },
  {
   "cell_type": "code",
   "execution_count": 530,
   "metadata": {},
   "outputs": [
    {
     "data": {
      "text/plain": [
       "0.92"
      ]
     },
     "execution_count": 530,
     "metadata": {},
     "output_type": "execute_result"
    }
   ],
   "source": [
    "from sklearn.model_selection import train_test_split\n",
    "X_train,X_test,y_train,y_test = train_test_split(X,y,random_state=666)\n",
    "\n",
    "from sklearn.preprocessing import StandardScaler\n",
    "standardScaler = StandardScaler()\n",
    "standardScaler.fit(X_train)\n",
    "X_train = standardScaler.transform(X_train)\n",
    "\n",
    "perp2 = Perceptron()\n",
    "perp2.fit(X_train, y_train)\n",
    "perp2.score(X_test,y_test)"
   ]
  },
  {
   "cell_type": "code",
   "execution_count": 531,
   "metadata": {},
   "outputs": [
    {
     "data": {
      "image/png": "[encoded data removed]",
      "text/plain": [
       "<matplotlib.figure.Figure at 0x1f5ea14b048>"
      ]
     },
     "metadata": {},
     "output_type": "display_data"
    }
   ],
   "source": [
    "plot_decision_boundary(perp, axis=[-5, 5, -5, 5])\n",
    "plt.scatter(X[y==0, 0], X[y==0, 1])\n",
    "plt.scatter(X[y==1, 0], X[y==1, 1])\n",
    "plt.show()"
   ]
  },
  {
   "cell_type": "code",
   "execution_count": 532,
   "metadata": {},
   "outputs": [
    {
     "name": "stdout",
     "output_type": "stream",
     "text": [
      "[0.01416015 0.02183485]\n",
      "3.469446951953614e-18\n"
     ]
    }
   ],
   "source": [
    "print(perp2.coef_)\n",
    "print(perp2.intercept_)"
   ]
  },
  {
   "cell_type": "markdown",
   "metadata": {},
   "source": [
    "#### 感知机的对偶形式\n",
    "<img src=\"./图片/感知机的对偶形式.jpg\">"
   ]
  },
  {
   "cell_type": "markdown",
   "metadata": {},
   "source": [
    "<img src=\"./图片/线性分类.jpg\">"
   ]
  },
  {
   "cell_type": "markdown",
   "metadata": {},
   "source": [
    "### 朴素贝叶斯"
   ]
  },
  {
   "cell_type": "markdown",
   "metadata": {},
   "source": [
    "#### 概率判别模型"
   ]
  },
  {
   "cell_type": "markdown",
   "metadata": {},
   "source": [
    "逻辑回归是概率判别模型，那啥是概率判别模型？\n",
    "\n",
    "$\\overline{y} = argmax_{y∈0,1} (P(y|X))$  直接通过样本X求类别y"
   ]
  },
  {
   "cell_type": "markdown",
   "metadata": {},
   "source": [
    "#### 概率生成模型"
   ]
  },
  {
   "cell_type": "markdown",
   "metadata": {},
   "source": [
    "我们并不关心最终的y的类别，也是求y的类别的概率\n",
    "$p(y|X) = \\frac{p(X|y)*p(y)}{p(X)}∝p(X|y)*p(y)$ \n",
    "\n",
    "p(X|y)是似然概率\n",
    "\n",
    "p(y)是先验概率\n",
    "\n",
    "实际上就是求MAP 最大后验概率来求p(X|y)\n"
   ]
  },
  {
   "cell_type": "code",
   "execution_count": 534,
   "metadata": {},
   "outputs": [
    {
     "data": {
      "text/plain": [
       "'\\n对于二分类而言，y其实就是伯努利分布。\\n而 X|y 是啥呢？ 在高斯判别模型里，其实可以认为它服从高斯分布 N(u, σ^2)\\n'"
      ]
     },
     "execution_count": 534,
     "metadata": {},
     "output_type": "execute_result"
    }
   ],
   "source": [
    "'''\n",
    "对于二分类而言，y其实就是伯努利分布。\n",
    "而 X|y 是啥呢？ 在高斯判别模型里，其实可以认为它服从高斯分布 N(u, σ^2)\n",
    "'''"
   ]
  },
  {
   "cell_type": "markdown",
   "metadata": {},
   "source": [
    " $p(y) = φ^y*(1-φ)^(1-y)$\n",
    " \n",
    " $p(x|y_{=1}) ~ N(u_1, \\sum) $\n",
    " \n",
    " $p(x|y_{=0}) ~ N(u_2, \\sum) $\n",
    " \n",
    " 合并。假设∑是一样的\n",
    " \n",
    " $p(x|y) = N(u_1, \\sum)^y * N(u_2, \\sum)^{1-y}$"
   ]
  },
  {
   "cell_type": "code",
   "execution_count": 535,
   "metadata": {
    "collapsed": true
   },
   "outputs": [],
   "source": [
    "# MAP 目标就是 最大P(y|X)"
   ]
  },
  {
   "cell_type": "code",
   "execution_count": 536,
   "metadata": {
    "collapsed": true
   },
   "outputs": [],
   "source": [
    "# log(likelyhood) = L(θ) = log(∏(p(y|x))) "
   ]
  },
  {
   "cell_type": "markdown",
   "metadata": {},
   "source": [
    "$L(θ) = \\sum_{i=1}^n{log(p(x_i|y_i)*p(y_i))}$l\n",
    "\n",
    "=$\\sum_{i=1}^n[log(N(u,∑))^{y_i} + log(N(u,\\sum))^{1-y_i} + log(φ^y_i*(1-φ)^{1-y_i})]$"
   ]
  },
  {
   "cell_type": "code",
   "execution_count": 538,
   "metadata": {
    "collapsed": true
   },
   "outputs": [],
   "source": [
    "# 模型参数 u1,u2,∑，φ"
   ]
  },
  {
   "cell_type": "code",
   "execution_count": 539,
   "metadata": {
    "collapsed": true
   },
   "outputs": [],
   "source": [
    "# 分别求导即可。"
   ]
  },
  {
   "cell_type": "code",
   "execution_count": null,
   "metadata": {
    "collapsed": true
   },
   "outputs": [],
   "source": []
  }
 ],
 "metadata": {
  "kernelspec": {
   "display_name": "Python 3",
   "language": "python",
   "name": "python3"
  },
  "language_info": {
   "codemirror_mode": {
    "name": "ipython",
    "version": 3
   },
   "file_extension": ".py",
   "mimetype": "text/x-python",
   "name": "python",
   "nbconvert_exporter": "python",
   "pygments_lexer": "ipython3",
   "version": "3.6.3"
  }
 },
 "nbformat": 4,
 "nbformat_minor": 2
}
