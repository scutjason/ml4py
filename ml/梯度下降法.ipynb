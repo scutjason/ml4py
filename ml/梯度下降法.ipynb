{
 "cells": [
  {
   "cell_type": "code",
   "execution_count": 1,
   "metadata": {},
   "outputs": [
    {
     "data": {
      "text/plain": [
       "'\\nGradient Descent\\n\\n1、本身不是一个机器学习方法\\n2、是一种基于搜索的最优化方法\\n作用：最小化一个损失函数J。\\n当无法求目标函数的数学解时采用梯度下降法求目标函数的最小值，即就是损失最小。\\n\\n梯度的方向是目标函数增大的方向。\\n\\n-eta*D(J)/D(theta)\\n\\neta是学习率\\neta的取值影响最优解的速度\\neta也是一个超参数\\neta取值不合适，甚至得不到最优解\\n\\n并不是所有的函数都有唯一的极值点，所以可能得到局部最优解\\n解决方法：\\n    多次运行随机化初始点\\n    所以初始点也是一个超参数\\n'"
      ]
     },
     "execution_count": 1,
     "metadata": {},
     "output_type": "execute_result"
    }
   ],
   "source": [
    "'''\n",
    "Gradient Descent\n",
    "\n",
    "1、本身不是一个机器学习方法\n",
    "2、是一种基于搜索的最优化方法\n",
    "作用：最小化一个损失函数J。\n",
    "当无法求目标函数的数学解时采用梯度下降法求目标函数的最小值，即就是损失最小。\n",
    "\n",
    "梯度的方向是目标函数增大的方向。\n",
    "\n",
    "-eta*D(J)/D(theta)\n",
    "\n",
    "eta是学习率\n",
    "eta的取值影响最优解的速度\n",
    "eta也是一个超参数\n",
    "eta取值不合适，甚至得不到最优解\n",
    "\n",
    "并不是所有的函数都有唯一的极值点，所以可能得到局部最优解\n",
    "解决方法：\n",
    "    多次运行随机化初始点\n",
    "    所以初始点也是一个超参数\n",
    "'''\n",
    " \n"
   ]
  },
  {
   "cell_type": "code",
   "execution_count": null,
   "metadata": {
    "collapsed": true
   },
   "outputs": [],
   "source": []
  }
 ],
 "metadata": {
  "kernelspec": {
   "display_name": "Python 3",
   "language": "python",
   "name": "python3"
  },
  "language_info": {
   "codemirror_mode": {
    "name": "ipython",
    "version": 3
   },
   "file_extension": ".py",
   "mimetype": "text/x-python",
   "name": "python",
   "nbconvert_exporter": "python",
   "pygments_lexer": "ipython3",
   "version": "3.6.3"
  }
 },
 "nbformat": 4,
 "nbformat_minor": 2
}
