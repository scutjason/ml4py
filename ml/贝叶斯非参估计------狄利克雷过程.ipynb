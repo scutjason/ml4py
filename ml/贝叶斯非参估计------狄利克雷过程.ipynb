{
 "cells": [
  {
   "cell_type": "markdown",
   "metadata": {},
   "source": [
    "### 随机过程\n",
    "\n",
    "粗略地说，随机过程是概率分布的扩展。\n",
    "\n",
    "我们一般讲概率分布，是有限维的随机变量的概率分布，而随机过程所研究的对象是无限维的。因此，也把随机过程所研究的对象称作随机函数。\n",
    "\n",
    "随机变量之于概率分布，就像随机函数之于随机过程。\n",
    "\n",
    "机器学习领域常见的随机过程有：Gaussian Process, Dirichlet Process, Beta Process, Gamma Process等等。\n"
   ]
  },
  {
   "cell_type": "code",
   "execution_count": null,
   "metadata": {
    "collapsed": true
   },
   "outputs": [],
   "source": []
  }
 ],
 "metadata": {
  "kernelspec": {
   "display_name": "Python 3",
   "language": "python",
   "name": "python3"
  },
  "language_info": {
   "codemirror_mode": {
    "name": "ipython",
    "version": 3
   },
   "file_extension": ".py",
   "mimetype": "text/x-python",
   "name": "python",
   "nbconvert_exporter": "python",
   "pygments_lexer": "ipython3",
   "version": "3.6.3"
  }
 },
 "nbformat": 4,
 "nbformat_minor": 2
}
