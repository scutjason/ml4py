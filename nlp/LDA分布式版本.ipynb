{
 "cells": [
  {
   "cell_type": "markdown",
   "metadata": {},
   "source": [
    "### PLDA 谷歌\n",
    "\n",
    "http://www.it610.com/article/5752524.htm  基于Gibbs Sampling方法\n",
    "\n",
    "### Peacock && Angel 腾讯\n",
    "\n",
    "基于sparse lda\n",
    "\n",
    "#### onlineLda\n",
    "基于变分VB版本的在线lda\n",
    "https://github.com/blei-lab/onlineldavb\n",
    "\n",
    "#### sparkLDA\n",
    "基于VB版本的和基于Gibbs Sampling的\n",
    "\n"
   ]
  }
 ],
 "metadata": {
  "kernelspec": {
   "display_name": "Python 3",
   "language": "python",
   "name": "python3"
  },
  "language_info": {
   "codemirror_mode": {
    "name": "ipython",
    "version": 3
   },
   "file_extension": ".py",
   "mimetype": "text/x-python",
   "name": "python",
   "nbconvert_exporter": "python",
   "pygments_lexer": "ipython3",
   "version": "3.6.3"
  }
 },
 "nbformat": 4,
 "nbformat_minor": 2
}
