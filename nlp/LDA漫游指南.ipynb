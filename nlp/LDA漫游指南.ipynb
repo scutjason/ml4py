{
 "cells": [
  {
   "cell_type": "markdown",
   "metadata": {},
   "source": [
    "### 概要\n",
    "\n",
    "LDA是一种非监督机器学习技术，可以用来识别大规模文档集或者语料库中的潜在隐藏的主题信息。该方法假设每个词是由背后的一个潜在隐藏的主题中抽取出来。\n",
    "\n",
    "对于语料库中的每篇文档，LDA定义了如下的生成过程：\n",
    "    \n",
    "        1、对每一篇文档，从主题分布抽取一个主题\n",
    "        2、从上述被抽到的主题所对应的单词分布中抽取一个单词\n",
    "        3、重复1和2，直到遍历文档中的每一个单词。\n",
    "      \n",
    "      \n",
    "LDA又可以看出是一个混合模型，每篇文章是由多个主题混合而成。\n",
    "<img src=\"img/lda9.png\">"
   ]
  },
  {
   "cell_type": "markdown",
   "metadata": {},
   "source": [
    "### 前置数学知识"
   ]
  },
  {
   "cell_type": "markdown",
   "metadata": {},
   "source": [
    "#### Gamma函数\n",
    "\n",
    "简单来说Gamma函数就是实数的阶乘。 $\\Gamma(x) = ∫_0^{+∞}e^{-t}*t^{x-1}dt, (x>0)$\n",
    "\n",
    "#### 二项式分布\n",
    "\n",
    "<img src=\"img/lda10.png\">"
   ]
  },
  {
   "cell_type": "markdown",
   "metadata": {},
   "source": [
    "#### Beta函数\n",
    "\n",
    "<img src=\"img/lda12.png\">"
   ]
  },
  {
   "cell_type": "markdown",
   "metadata": {},
   "source": [
    "#### Beta分布\n",
    "\n",
    "<img src=\"img/lda11.png\">"
   ]
  },
  {
   "cell_type": "markdown",
   "metadata": {},
   "source": [
    "Beta函数就是Beta分布的一个归一化因子，Beta分布又是关于分布的分布，也就是他的定义域本身也是一个概率值，（0,1）区间嘛，对吧。"
   ]
  },
  {
   "cell_type": "markdown",
   "metadata": {},
   "source": [
    "#### Beta分布的期望\n",
    "\n",
    "<img src=\"img/lda13.png\">"
   ]
  },
  {
   "cell_type": "markdown",
   "metadata": {},
   "source": [
    "#### 多项式分布\n",
    "<img src=\"img/lda14.png\">"
   ]
  },
  {
   "cell_type": "markdown",
   "metadata": {},
   "source": [
    "#### 狄利克雷分布\n",
    "\n",
    "<img src=\"img/lda15.png\">"
   ]
  },
  {
   "cell_type": "markdown",
   "metadata": {},
   "source": [
    "$\\Delta$是一个归一化因子。"
   ]
  },
  {
   "cell_type": "markdown",
   "metadata": {},
   "source": [
    "#### 参数估计\n",
    "\n",
    "1、什么是参数估计？\n",
    "    参数估计顾名思义就是对概率分布的参数进行估计。\n",
    "\n",
    "2、为什么要做参数估计？\n",
    "    我们知道很多分布，包括离散分布（二项式分布、多项式分布）和连续分布（正太分布）都是由几个参数决定的，所以\n",
    "    我们将参数估计出来了，也就是知道了这个分布，也就是能够进行预测概率了。\n",
    "\n",
    "\n",
    "3、参数估计方法？\n",
    "    频率派：参数是个定值，用最有方法来估，搞出一个损失函数（似然函数），令其最大，求参数。\n",
    "  贝叶斯派：参数同样是个分布（通常称为先验分布），我们根据观测值就得到了似然（P(X|θ)，所以要求参数（准确来说是求参数的概率分布）的话，我们就是求后验(P(θ|X)，啥意思，就是在观测值的这个条件下，求参数的最大后验分布。实际上，在分批训练的时候，每一批数据，都可以产生一个后验，而这个后验可以作为下一批数据的先验，这样形成online trainning，这样做能节省内存，支持大数据训练数据。"
   ]
  },
  {
   "cell_type": "markdown",
   "metadata": {},
   "source": [
    "<img src=\"img/2019-07-29_134442.png\">"
   ]
  },
  {
   "cell_type": "markdown",
   "metadata": {},
   "source": [
    "### Gibbs 采样推导\n",
    "\n",
    "#### Unigram模型\n",
    "\n",
    "   一篇文档的生成概率，简单来说可以用二项式分布来表示：\n",
    "   \n",
    "   $p(W) = p(w_1)p(w_2)...p(w_n) = \\prod_{t=0}^V{p_t^{n_t}}$,$n_t$表示V(i)出现的次数（词频）。\n",
    "   \n",
    "   其中$\\sum_{t=1}^V{p_t} = 1$\n",
    "   \n",
    "   由于没有考虑单词之间的词序，也成为了词袋模型。"
   ]
  },
  {
   "cell_type": "markdown",
   "metadata": {},
   "source": [
    "#### 第一个疑问？ LDA的目标是什么？\n",
    "\n",
    "<img src=\"img/2019-07-29_151258.png\">"
   ]
  },
  {
   "cell_type": "markdown",
   "metadata": {},
   "source": [
    "上面的p(w)是一个k^n问题，解空间太大的，根本无法直接求出。所以用MCMC方法。"
   ]
  },
  {
   "cell_type": "markdown",
   "metadata": {},
   "source": [
    "#### M-H算法\n",
    "\n",
    "<img src=\"img/2019-07-29_152515.png\">\n",
    "\n",
    "注意M-H的采样平稳分布，最终的分布时p(w,z)这个联合分布哦"
   ]
  },
  {
   "cell_type": "code",
   "execution_count": null,
   "metadata": {
    "collapsed": true
   },
   "outputs": [],
   "source": []
  }
 ],
 "metadata": {
  "kernelspec": {
   "display_name": "Python 3",
   "language": "python",
   "name": "python3"
  },
  "language_info": {
   "codemirror_mode": {
    "name": "ipython",
    "version": 3
   },
   "file_extension": ".py",
   "mimetype": "text/x-python",
   "name": "python",
   "nbconvert_exporter": "python",
   "pygments_lexer": "ipython3",
   "version": "3.6.3"
  }
 },
 "nbformat": 4,
 "nbformat_minor": 2
}
